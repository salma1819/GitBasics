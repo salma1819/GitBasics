{
 "cells": [
  {
   "cell_type": "markdown",
   "id": "af7be6d8",
   "metadata": {},
   "source": [
    "# Set:"
   ]
  },
  {
   "cell_type": "code",
   "execution_count": 2,
   "id": "b0e0714a",
   "metadata": {},
   "outputs": [
    {
     "name": "stdout",
     "output_type": "stream",
     "text": [
      "{'rama', 450, 'a', 155, 120, 45}\n"
     ]
    }
   ],
   "source": [
    "g = {'a',45,120,155,\"rama\",45,450}\n",
    "print(g)"
   ]
  },
  {
   "cell_type": "code",
   "execution_count": 3,
   "id": "0b2ae599",
   "metadata": {},
   "outputs": [
    {
     "data": {
      "text/plain": [
       "{120, 155, 45, 450, 'a', 'rama'}"
      ]
     },
     "execution_count": 3,
     "metadata": {},
     "output_type": "execute_result"
    }
   ],
   "source": [
    "g"
   ]
  },
  {
   "cell_type": "code",
   "execution_count": 17,
   "id": "b643d0d7",
   "metadata": {},
   "outputs": [
    {
     "name": "stdout",
     "output_type": "stream",
     "text": [
      "{} <class 'dict'>\n",
      "{2} <class 'set'>\n"
     ]
    }
   ],
   "source": [
    "h = {}\n",
    "m = {2}\n",
    "print(h,type(h))\n",
    "print(m,type(m))"
   ]
  },
  {
   "cell_type": "code",
   "execution_count": 18,
   "id": "5539ee1c",
   "metadata": {},
   "outputs": [
    {
     "name": "stdout",
     "output_type": "stream",
     "text": [
      "['__and__', '__class__', '__class_getitem__', '__contains__', '__delattr__', '__dir__', '__doc__', '__eq__', '__format__', '__ge__', '__getattribute__', '__gt__', '__hash__', '__iand__', '__init__', '__init_subclass__', '__ior__', '__isub__', '__iter__', '__ixor__', '__le__', '__len__', '__lt__', '__ne__', '__new__', '__or__', '__rand__', '__reduce__', '__reduce_ex__', '__repr__', '__ror__', '__rsub__', '__rxor__', '__setattr__', '__sizeof__', '__str__', '__sub__', '__subclasshook__', '__xor__', 'add', 'clear', 'copy', 'difference', 'difference_update', 'discard', 'intersection', 'intersection_update', 'isdisjoint', 'issubset', 'issuperset', 'pop', 'remove', 'symmetric_difference', 'symmetric_difference_update', 'union', 'update']\n"
     ]
    }
   ],
   "source": [
    "print(dir(set))"
   ]
  },
  {
   "cell_type": "code",
   "execution_count": 19,
   "id": "49a5021a",
   "metadata": {},
   "outputs": [
    {
     "name": "stdout",
     "output_type": "stream",
     "text": [
      "{0, 'sahasra', 34, 67, 'karru', 'ramu'}\n"
     ]
    }
   ],
   "source": [
    "s1 = {34,67,\"ramu\",0,\"sahasra\"}\n",
    "s1.add(\"karru\")\n",
    "print(s1)"
   ]
  },
  {
   "cell_type": "code",
   "execution_count": 20,
   "id": "4b693926",
   "metadata": {},
   "outputs": [
    {
     "name": "stdout",
     "output_type": "stream",
     "text": [
      "{0, 'sahasra', 34, 67, 'karru', 'ramu'}\n",
      "{'sahasra', 34, 67, 'karru', 'ramu'}\n"
     ]
    }
   ],
   "source": [
    "print(s1)\n",
    "s1.pop()\n",
    "print(s1)"
   ]
  },
  {
   "cell_type": "code",
   "execution_count": 21,
   "id": "9dbbb47e",
   "metadata": {},
   "outputs": [
    {
     "name": "stdout",
     "output_type": "stream",
     "text": [
      "{'sahasra', 34, 67, 'karru', 'ramu'}\n"
     ]
    },
    {
     "ename": "TypeError",
     "evalue": "set.pop() takes no arguments (1 given)",
     "output_type": "error",
     "traceback": [
      "\u001b[1;31m---------------------------------------------------------------------------\u001b[0m",
      "\u001b[1;31mTypeError\u001b[0m                                 Traceback (most recent call last)",
      "\u001b[1;32m<ipython-input-21-bbbfe3a07b3f>\u001b[0m in \u001b[0;36m<module>\u001b[1;34m\u001b[0m\n\u001b[0;32m      1\u001b[0m \u001b[0mprint\u001b[0m\u001b[1;33m(\u001b[0m\u001b[0ms1\u001b[0m\u001b[1;33m)\u001b[0m\u001b[1;33m\u001b[0m\u001b[1;33m\u001b[0m\u001b[0m\n\u001b[1;32m----> 2\u001b[1;33m \u001b[0ms1\u001b[0m\u001b[1;33m.\u001b[0m\u001b[0mpop\u001b[0m\u001b[1;33m(\u001b[0m\u001b[1;34m'ramu'\u001b[0m\u001b[1;33m)\u001b[0m\u001b[1;33m\u001b[0m\u001b[1;33m\u001b[0m\u001b[0m\n\u001b[0m\u001b[0;32m      3\u001b[0m \u001b[0mprint\u001b[0m\u001b[1;33m(\u001b[0m\u001b[0ms1\u001b[0m\u001b[1;33m)\u001b[0m\u001b[1;33m\u001b[0m\u001b[1;33m\u001b[0m\u001b[0m\n",
      "\u001b[1;31mTypeError\u001b[0m: set.pop() takes no arguments (1 given)"
     ]
    }
   ],
   "source": [
    "print(s1)\n",
    "s1.pop('ramu')\n",
    "print(s1)"
   ]
  },
  {
   "cell_type": "code",
   "execution_count": 22,
   "id": "132e93a0",
   "metadata": {},
   "outputs": [
    {
     "name": "stdout",
     "output_type": "stream",
     "text": [
      "{'sahasra', 34, 67, 'karru', 'ramu'}\n",
      "{'sahasra', 34, 67, 'karru'}\n"
     ]
    }
   ],
   "source": [
    "print(s1)\n",
    "s1.remove('ramu')\n",
    "print(s1)"
   ]
  },
  {
   "cell_type": "code",
   "execution_count": 23,
   "id": "0848994d",
   "metadata": {},
   "outputs": [
    {
     "name": "stdout",
     "output_type": "stream",
     "text": [
      "{'sahasra', 34, 67, 'karru'}\n"
     ]
    },
    {
     "ename": "KeyError",
     "evalue": "2",
     "output_type": "error",
     "traceback": [
      "\u001b[1;31m---------------------------------------------------------------------------\u001b[0m",
      "\u001b[1;31mKeyError\u001b[0m                                  Traceback (most recent call last)",
      "\u001b[1;32m<ipython-input-23-4f9f14db1426>\u001b[0m in \u001b[0;36m<module>\u001b[1;34m\u001b[0m\n\u001b[0;32m      1\u001b[0m \u001b[0mprint\u001b[0m\u001b[1;33m(\u001b[0m\u001b[0ms1\u001b[0m\u001b[1;33m)\u001b[0m\u001b[1;33m\u001b[0m\u001b[1;33m\u001b[0m\u001b[0m\n\u001b[1;32m----> 2\u001b[1;33m \u001b[0ms1\u001b[0m\u001b[1;33m.\u001b[0m\u001b[0mremove\u001b[0m\u001b[1;33m(\u001b[0m\u001b[1;36m2\u001b[0m\u001b[1;33m)\u001b[0m\u001b[1;33m\u001b[0m\u001b[1;33m\u001b[0m\u001b[0m\n\u001b[0m\u001b[0;32m      3\u001b[0m \u001b[0mprint\u001b[0m\u001b[1;33m(\u001b[0m\u001b[0ms1\u001b[0m\u001b[1;33m)\u001b[0m\u001b[1;33m\u001b[0m\u001b[1;33m\u001b[0m\u001b[0m\n",
      "\u001b[1;31mKeyError\u001b[0m: 2"
     ]
    }
   ],
   "source": [
    "print(s1)\n",
    "s1.remove(2)\n",
    "print(s1)"
   ]
  },
  {
   "cell_type": "code",
   "execution_count": 24,
   "id": "45eb865b",
   "metadata": {},
   "outputs": [
    {
     "name": "stdout",
     "output_type": "stream",
     "text": [
      "{32, 5, 6, 8, 45}\n",
      "{1, 2, 5, 6, 7, 456, 123}\n",
      "{32, 1, 2, 5, 6, 7, 8, 456, 45, 123}\n",
      "{32, 5, 6, 8, 45}\n",
      "{1, 2, 5, 6, 7, 456, 123}\n"
     ]
    }
   ],
   "source": [
    "s2 = {45,8,32,5,6}\n",
    "s3 = {1,2,5,7,6,123,456}\n",
    "print(s2)\n",
    "print(s3)\n",
    "print(s2.union(s3))\n",
    "print(s2)\n",
    "print(s3)"
   ]
  },
  {
   "cell_type": "code",
   "execution_count": 25,
   "id": "e9aaf5ce",
   "metadata": {},
   "outputs": [
    {
     "name": "stdout",
     "output_type": "stream",
     "text": [
      "{32, 5, 6, 8, 45}\n",
      "{1, 2, 5, 6, 7, 456, 123}\n",
      "{5, 6}\n",
      "{32, 5, 6, 8, 45}\n",
      "{1, 2, 5, 6, 7, 456, 123}\n"
     ]
    }
   ],
   "source": [
    "s2 = {45,8,32,5,6}\n",
    "s3 = {1,2,5,7,6,123,456}\n",
    "print(s2)\n",
    "print(s3)\n",
    "print(s3.intersection(s2))\n",
    "print(s2)\n",
    "print(s3)"
   ]
  },
  {
   "cell_type": "markdown",
   "id": "1c028760",
   "metadata": {},
   "source": [
    "# Dictionary:"
   ]
  },
  {
   "cell_type": "code",
   "execution_count": 5,
   "id": "3d8919ff",
   "metadata": {},
   "outputs": [
    {
     "name": "stdout",
     "output_type": "stream",
     "text": [
      "{'name': ('rama', 'karru', 'sanika'), 'age': 20, 'sal': [24.5, 48.56]}\n"
     ]
    }
   ],
   "source": [
    "t = {'name':(\"rama\",\"karru\",\"sanika\"),'age':20,'sal':[24.500,48.560]}\n",
    "print(t)"
   ]
  },
  {
   "cell_type": "code",
   "execution_count": 6,
   "id": "7fd49f97",
   "metadata": {},
   "outputs": [
    {
     "name": "stdout",
     "output_type": "stream",
     "text": [
      "rama\n"
     ]
    }
   ],
   "source": [
    "print(t['name'][0])"
   ]
  },
  {
   "cell_type": "code",
   "execution_count": 7,
   "id": "be06db53",
   "metadata": {},
   "outputs": [
    {
     "name": "stdout",
     "output_type": "stream",
     "text": [
      "['__class__', '__class_getitem__', '__contains__', '__delattr__', '__delitem__', '__dir__', '__doc__', '__eq__', '__format__', '__ge__', '__getattribute__', '__getitem__', '__gt__', '__hash__', '__init__', '__init_subclass__', '__ior__', '__iter__', '__le__', '__len__', '__lt__', '__ne__', '__new__', '__or__', '__reduce__', '__reduce_ex__', '__repr__', '__reversed__', '__ror__', '__setattr__', '__setitem__', '__sizeof__', '__str__', '__subclasshook__', 'clear', 'copy', 'fromkeys', 'get', 'items', 'keys', 'pop', 'popitem', 'setdefault', 'update', 'values']\n"
     ]
    }
   ],
   "source": [
    "print(dir(dict))"
   ]
  },
  {
   "cell_type": "code",
   "execution_count": 8,
   "id": "4943296a",
   "metadata": {},
   "outputs": [
    {
     "name": "stdout",
     "output_type": "stream",
     "text": [
      "dict_keys(['name', 'age', 'sal'])\n"
     ]
    }
   ],
   "source": [
    "print(t.keys())"
   ]
  },
  {
   "cell_type": "code",
   "execution_count": 9,
   "id": "071e1e14",
   "metadata": {},
   "outputs": [
    {
     "name": "stdout",
     "output_type": "stream",
     "text": [
      "dict_values([('rama', 'karru', 'sanika'), 20, [24.5, 48.56]])\n"
     ]
    }
   ],
   "source": [
    "print(t.values())"
   ]
  },
  {
   "cell_type": "code",
   "execution_count": 14,
   "id": "10013d52",
   "metadata": {},
   "outputs": [
    {
     "name": "stdout",
     "output_type": "stream",
     "text": [
      "{'name': 'suhek', 'age': [20, 23], 'sal': 0}\n"
     ]
    }
   ],
   "source": [
    "y ={'name':\"suhek\",\"age\":[20,23],\"sal\":0}\n",
    "print(y)"
   ]
  },
  {
   "cell_type": "code",
   "execution_count": 15,
   "id": "0595516d",
   "metadata": {},
   "outputs": [
    {
     "name": "stdout",
     "output_type": "stream",
     "text": [
      "dict_items([('name', ('rama', 'karru', 'sanika')), ('age', 20), ('sal', [24.5, 48.56])])\n"
     ]
    }
   ],
   "source": [
    "print(t.items())"
   ]
  },
  {
   "cell_type": "code",
   "execution_count": 18,
   "id": "eda312f9",
   "metadata": {},
   "outputs": [
    {
     "name": "stdout",
     "output_type": "stream",
     "text": [
      "('rama', 'karru', 'sanika')\n",
      "[24.5, 48.56]\n",
      "None\n"
     ]
    }
   ],
   "source": [
    "print(t.get('name'))\n",
    "print(t.get('sal'))\n",
    "print(t.get('no'))"
   ]
  },
  {
   "cell_type": "code",
   "execution_count": 19,
   "id": "ee3dcdc2",
   "metadata": {},
   "outputs": [
    {
     "name": "stdout",
     "output_type": "stream",
     "text": [
      "{'name': ('rama', 'karru', 'sanika'), 'age': 20, 'sal': [24.5, 48.56]}\n"
     ]
    }
   ],
   "source": [
    "print(t)"
   ]
  },
  {
   "cell_type": "code",
   "execution_count": 21,
   "id": "f3854e24",
   "metadata": {},
   "outputs": [
    {
     "name": "stdout",
     "output_type": "stream",
     "text": [
      "{'name': ('rama', 'karru', 'sanika'), 'age': 20, 'sal': [24.5, 48.56], 'no': 12}\n",
      "{'name': ('rama', 'karru', 'sanika'), 'age': 20, 'sal': [24.5, 48.56], 'no': 12}\n"
     ]
    }
   ],
   "source": [
    "print(t)\n",
    "t['no'] = 12\n",
    "print(t)"
   ]
  },
  {
   "cell_type": "code",
   "execution_count": 22,
   "id": "dac9bb27",
   "metadata": {},
   "outputs": [
    {
     "name": "stdout",
     "output_type": "stream",
     "text": [
      "{'name': ('rama', 'karru', 'sanika'), 'age': 20, 'sal': [24.5, 48.56], 'no': 12}\n",
      "{'name': ('rama', 'karru', 'sanika'), 'age': 20, 'sal': [24.5, 48.56], 'no': 'salma'}\n"
     ]
    }
   ],
   "source": [
    "print(t)\n",
    "t['no'] = \"salma\"\n",
    "print(t)"
   ]
  },
  {
   "cell_type": "code",
   "execution_count": 23,
   "id": "5190993a",
   "metadata": {},
   "outputs": [
    {
     "name": "stdout",
     "output_type": "stream",
     "text": [
      "{'name': ('rama', 'karru', 'sanika'), 'age': 20, 'sal': [24.5, 48.56], 'no': 'salma'}\n",
      "{'name': ('rama', 'karru', 'sanika'), 'age': 20, 'sal': [24.5, 48.56], 'no': 'salma', 'tr': None}\n"
     ]
    }
   ],
   "source": [
    "print(t)\n",
    "t.setdefault('tr')\n",
    "print(t)"
   ]
  },
  {
   "cell_type": "code",
   "execution_count": 26,
   "id": "cb033238",
   "metadata": {},
   "outputs": [
    {
     "name": "stdout",
     "output_type": "stream",
     "text": [
      "{'name': ('rama', 'karru', 'sanika'), 'age': 20, 'sal': [24.5, 48.56], 'no': 'salma', 'tr': None}\n",
      "{'name': ('rama', 'karru', 'sanika'), 'age': 20, 'sal': [24.5, 48.56], 'no': 'salma', 'tr': 45}\n"
     ]
    }
   ],
   "source": [
    "print(t)\n",
    "t.update({'tr':45})\n",
    "print(t)"
   ]
  },
  {
   "cell_type": "code",
   "execution_count": 27,
   "id": "e089f9a8",
   "metadata": {},
   "outputs": [
    {
     "name": "stdout",
     "output_type": "stream",
     "text": [
      "{'name': ('rama', 'karru', 'sanika'), 'age': 20, 'sal': [24.5, 48.56], 'no': 'salma', 'tr': 45}\n"
     ]
    }
   ],
   "source": [
    "print(t)"
   ]
  },
  {
   "cell_type": "code",
   "execution_count": 28,
   "id": "9a19139c",
   "metadata": {},
   "outputs": [
    {
     "name": "stdout",
     "output_type": "stream",
     "text": [
      "None\n"
     ]
    }
   ],
   "source": [
    "print(t.update({'tr':\"rama\"}))"
   ]
  },
  {
   "cell_type": "code",
   "execution_count": 29,
   "id": "f745c362",
   "metadata": {},
   "outputs": [
    {
     "name": "stdout",
     "output_type": "stream",
     "text": [
      "{'name': ('rama', 'karru', 'sanika'), 'age': 20, 'sal': [24.5, 48.56], 'no': 'salma', 'tr': 'rama'}\n"
     ]
    }
   ],
   "source": [
    "print(t)"
   ]
  },
  {
   "cell_type": "code",
   "execution_count": 32,
   "id": "8a9e4e6c",
   "metadata": {},
   "outputs": [
    {
     "name": "stdout",
     "output_type": "stream",
     "text": [
      "{'name': ('rama', 'karru', 'sanika'), 'age': 20, 'sal': [24.5, 48.56], 'no': 'salma', 'tr': 'rama'}\n",
      "20\n",
      "{'name': ('rama', 'karru', 'sanika'), 'sal': [24.5, 48.56], 'no': 'salma', 'tr': 'rama'}\n"
     ]
    }
   ],
   "source": [
    "print(t)\n",
    "print(t.pop('age'))\n",
    "print(t)"
   ]
  },
  {
   "cell_type": "code",
   "execution_count": 33,
   "id": "0c0ab566",
   "metadata": {},
   "outputs": [
    {
     "name": "stdout",
     "output_type": "stream",
     "text": [
      "{'name': ('rama', 'karru', 'sanika'), 'sal': [24.5, 48.56], 'no': 'salma', 'tr': 'rama'}\n",
      "('tr', 'rama')\n",
      "{'name': ('rama', 'karru', 'sanika'), 'sal': [24.5, 48.56], 'no': 'salma'}\n"
     ]
    }
   ],
   "source": [
    "print(t)\n",
    "print(t.popitem())\n",
    "print(t)"
   ]
  },
  {
   "cell_type": "code",
   "execution_count": 35,
   "id": "2fd860b4",
   "metadata": {},
   "outputs": [
    {
     "name": "stdout",
     "output_type": "stream",
     "text": [
      "['name', 'age', 'sal']\n",
      "[12, 45, 78, 45]\n",
      "{'name': 34, 'donar': 45}\n",
      "['name', 'age', 'sal']\n",
      "[12, 45, 78, 45]\n"
     ]
    }
   ],
   "source": [
    "q = ['name','age','sal']\n",
    "w = [12,45,78,45]\n",
    "print(q)\n",
    "print(w)\n",
    "f = {'name':34,'donar':45}\n",
    "f.fromkeys(q)\n",
    "f.fromkeys(w)\n",
    "print(f)\n",
    "print(q)\n",
    "print(w)"
   ]
  },
  {
   "cell_type": "code",
   "execution_count": 37,
   "id": "78885b5d",
   "metadata": {},
   "outputs": [
    {
     "name": "stdout",
     "output_type": "stream",
     "text": [
      "{'name': 'rama', 'sno': 1}\n"
     ]
    }
   ],
   "source": [
    "# syntax: fromkeys([],values)\n",
    "t = {'name':\"rama\",'sno':1}\n",
    "t1={}\n",
    "t1= t.fromkeys(q,w)\n",
    "print(t)"
   ]
  },
  {
   "cell_type": "code",
   "execution_count": 41,
   "id": "33ad0a26",
   "metadata": {},
   "outputs": [
    {
     "name": "stdout",
     "output_type": "stream",
     "text": [
      "{'Maths': [0, 45], 'Python': [0, 45], 'C++': [0, 45]}\n"
     ]
    }
   ],
   "source": [
    "marks = {}.fromkeys([\"Maths\",\"Python\",\"C++\"],[0,45])\n",
    "print(marks)"
   ]
  },
  {
   "cell_type": "markdown",
   "id": "0416894c",
   "metadata": {},
   "source": [
    "````````\n",
    "\n",
    "contact application:\n",
    "     \n",
    "        \n",
    "        1.Enter new record\n",
    "        2.Display all records\n",
    "        3.Update Record\n",
    "        4.Delete Record\n",
    "        \n",
    "        \n",
    "        1.ramu -> not exists\n",
    "             moblie number -> xxxx\n",
    "             ramu record Already exists\n",
    "                   \n",
    "        2.\n",
    "           name    moblie number\n",
    "           ramu      xxxxxxxxxxx\n",
    "           rajesh    xxxxxxxxxxx\n",
    "            \n",
    "        3. ramu -> exist\n",
    "            moblie number -> xxxxxxx\n",
    "            user doesnot exists\n",
    "            \n",
    "       4. ramu  -> exist\n",
    "          user deleted sucessfully\n",
    "          user doesnt exists \n",
    "                      \n",
    "\n",
    "\n",
    "`````````````"
   ]
  },
  {
   "cell_type": "code",
   "execution_count": null,
   "id": "47c03d5b",
   "metadata": {},
   "outputs": [],
   "source": [
    "1 \n",
    "2\n",
    "3\n",
    "4\n",
    "0\n",
    "      1 Enter your name: rajesh\n",
    "        Rajesh already exists\n",
    "        Enter your mobile number: xxxxxxx\n",
    "            \n",
    "      2 Name      mobilenumber\n",
    "        Rajesh    xxxxxxxxxxx\n",
    "        \n",
    "      3 Enter your name: Rajesh\n",
    "        Rajesh doesnt exist in your contact\n",
    "        \n",
    "        Rajesh1\n",
    "        Rajesh Doesnt exist in your contact\n",
    "        \n",
    "      4 Enter your name: Rajesh\n",
    "        Rajesh Record deleted sucessfully\n",
    "        Rajesh Doesnt exist in your contact"
   ]
  },
  {
   "cell_type": "code",
   "execution_count": 1,
   "id": "91b9390a",
   "metadata": {},
   "outputs": [
    {
     "name": "stdout",
     "output_type": "stream",
     "text": [
      "Enter your name: salma\n",
      "Enter your mobile number: 123355689\n",
      "Enter your name: suhek\n",
      "Enter your mobile number: 78865432365\n",
      "Enter your name: s\n",
      "Enter your mobile number: 12345678887\n",
      "Enter your name: karru\n",
      "Enter your mobile number: 4667899976532\n",
      "{'salma': 123355689, 'suhek': 78865432365, 's': 12345678887, 'karru': 4667899976532}\n"
     ]
    }
   ],
   "source": [
    "m = {}\n",
    "for j in range(4):\n",
    "    k = input(\"Enter your name: \")\n",
    "    n = int(input(\"Enter your mobile number: \"))\n",
    "    m[k]=n\n",
    "print(m)\n"
   ]
  },
  {
   "cell_type": "code",
   "execution_count": null,
   "id": "99be5fe0",
   "metadata": {},
   "outputs": [],
   "source": []
  }
 ],
 "metadata": {
  "kernelspec": {
   "display_name": "Python 3",
   "language": "python",
   "name": "python3"
  },
  "language_info": {
   "codemirror_mode": {
    "name": "ipython",
    "version": 3
   },
   "file_extension": ".py",
   "mimetype": "text/x-python",
   "name": "python",
   "nbconvert_exporter": "python",
   "pygments_lexer": "ipython3",
   "version": "3.9.5"
  }
 },
 "nbformat": 4,
 "nbformat_minor": 5
}

{
 "cells": [
  {
   "cell_type": "markdown",
   "id": "5833d0df",
   "metadata": {},
   "source": [
    "# Files, Packages and Modules:"
   ]
  },
  {
   "cell_type": "markdown",
   "id": "9fb57560",
   "metadata": {},
   "source": [
    "# Files:\n",
    "   - To store values or data in permananetly\n",
    "   - File format .py,.text,.java,.csv\n",
    "   - 3 Modes\n",
    "       - Read  -> r -> if file doesnt exists it displays an error.If file exsits it reads the data in a file\n",
    "       - Write -> w -> if file doesnt exists it creates a file with user defined filename.If file exists it writes to a file.Previous data will be erased and new data will added \n",
    "       - append -> a -> if file doesnt exists it creates a file with user defined filename.It file exists it writes to a file. It will adds new data for existing ones\n",
    "       - Execute -> x -> If file is not exist with file name then it creates a file with user defined filename"
   ]
  },
  {
   "cell_type": "code",
   "execution_count": 22,
   "id": "c0fe6f3f",
   "metadata": {},
   "outputs": [],
   "source": [
    "with open('Raw data/Sample.txt','w') as ft:\n",
    "    ft.write(\"Hello Good Evening to All\")"
   ]
  },
  {
   "cell_type": "code",
   "execution_count": 23,
   "id": "853e13cd",
   "metadata": {},
   "outputs": [
    {
     "name": "stdout",
     "output_type": "stream",
     "text": [
      "Hello Good Evening to All\n"
     ]
    }
   ],
   "source": [
    "with open('Raw data/Sample.txt','r') as fr:\n",
    "    print(fr.read())"
   ]
  },
  {
   "cell_type": "code",
   "execution_count": 24,
   "id": "2e1f8bb8",
   "metadata": {},
   "outputs": [],
   "source": [
    "with open('Raw data/Sample.txt','a') as fa:\n",
    "    fa.write(\"\\nWelcome to APSSDC Programs\")"
   ]
  },
  {
   "cell_type": "code",
   "execution_count": 28,
   "id": "672d8056",
   "metadata": {},
   "outputs": [],
   "source": [
    "with open('Raw data/demo.txt','w') as d:\n",
    "    d.write(\"Hii\")"
   ]
  },
  {
   "cell_type": "code",
   "execution_count": 29,
   "id": "8bccdd30",
   "metadata": {},
   "outputs": [],
   "source": [
    "with open('Raw data/demo.txt','w') as d:\n",
    "    d.write(\"\\nHi Welcome\")"
   ]
  },
  {
   "cell_type": "code",
   "execution_count": 31,
   "id": "496f645e",
   "metadata": {},
   "outputs": [],
   "source": [
    "with open('Raw data/Sample1.txt','x') as f:\n",
    "    with open('Raw data/Sample1.txt','w') as g:\n",
    "              g.write(\"Welcome Salma\")\n",
    "    "
   ]
  },
  {
   "cell_type": "markdown",
   "id": "e6fa70df",
   "metadata": {},
   "source": [
    "\n",
    "````````````\n",
    "\n",
    "Input.text:\n",
    "            20 \n",
    "        \n",
    "Output.text:\n",
    "             Entered number is: 20\n",
    "             Even numbers in range 20 is:\n",
    "             \n",
    "          \n",
    "          \n",
    "`````````````          "
   ]
  },
  {
   "cell_type": "code",
   "execution_count": 33,
   "id": "26066606",
   "metadata": {},
   "outputs": [
    {
     "name": "stdout",
     "output_type": "stream",
     "text": [
      "Enter a range: 5\n",
      "Enter a name: salma\n",
      "Enter a name: karshima\n",
      "Enter a name: suhek\n",
      "Enter a name: sanika\n",
      "Enter a name: siri\n"
     ]
    }
   ],
   "source": [
    "with open('Raw data/Names.csv','w') as y:\n",
    "    n = int(input(\"Enter a range: \"))\n",
    "    for j in range(1,n+1):\n",
    "        m = input(\"Enter a name: \")\n",
    "        y.write(m+\"\\n\")"
   ]
  },
  {
   "cell_type": "code",
   "execution_count": 34,
   "id": "4e313e24",
   "metadata": {},
   "outputs": [
    {
     "name": "stdout",
     "output_type": "stream",
     "text": [
      "['_CHUNK_SIZE', '__class__', '__del__', '__delattr__', '__dict__', '__dir__', '__doc__', '__enter__', '__eq__', '__exit__', '__format__', '__ge__', '__getattribute__', '__gt__', '__hash__', '__init__', '__init_subclass__', '__iter__', '__le__', '__lt__', '__ne__', '__new__', '__next__', '__reduce__', '__reduce_ex__', '__repr__', '__setattr__', '__sizeof__', '__str__', '__subclasshook__', '_checkClosed', '_checkReadable', '_checkSeekable', '_checkWritable', '_finalizing', 'buffer', 'close', 'closed', 'detach', 'encoding', 'errors', 'fileno', 'flush', 'isatty', 'line_buffering', 'mode', 'name', 'newlines', 'read', 'readable', 'readline', 'readlines', 'reconfigure', 'seek', 'seekable', 'tell', 'truncate', 'writable', 'write', 'write_through', 'writelines']\n"
     ]
    }
   ],
   "source": [
    "print(dir(y))"
   ]
  },
  {
   "cell_type": "code",
   "execution_count": 36,
   "id": "7c18b664",
   "metadata": {},
   "outputs": [
    {
     "name": "stdout",
     "output_type": "stream",
     "text": [
      "salma\n",
      "\n"
     ]
    }
   ],
   "source": [
    "with open('Raw data/Names.csv','r') as k:\n",
    "    print(k.readline())\n",
    "   "
   ]
  },
  {
   "cell_type": "code",
   "execution_count": 37,
   "id": "ee6b980c",
   "metadata": {},
   "outputs": [
    {
     "name": "stdout",
     "output_type": "stream",
     "text": [
      "['salma\\n', 'karshima\\n', 'suhek\\n', 'sanika\\n', 'siri\\n']\n"
     ]
    }
   ],
   "source": [
    "with open('Raw data/Names.csv','r') as k:\n",
    "    print(k.readlines())\n",
    "   "
   ]
  },
  {
   "cell_type": "code",
   "execution_count": 44,
   "id": "3541fb2c",
   "metadata": {},
   "outputs": [
    {
     "name": "stdout",
     "output_type": "stream",
     "text": [
      "['salma', 'karshima', 'suhek', 'sanika', 'siri']\n"
     ]
    }
   ],
   "source": [
    "with open('Raw data/Names.csv','r') as k:\n",
    "    s = k.readlines()\n",
    "    q = []\n",
    "    for v in s:\n",
    "         q.append(v.split('\\n')[0])\n",
    "    print(q)\n",
    "   "
   ]
  },
  {
   "cell_type": "code",
   "execution_count": 45,
   "id": "0282386a",
   "metadata": {},
   "outputs": [
    {
     "name": "stdout",
     "output_type": "stream",
     "text": [
      "[['salma', ''], ['karshima', ''], ['suhek', ''], ['sanika', ''], ['siri', '']]\n"
     ]
    }
   ],
   "source": [
    "with open('Raw data/Names.csv','r') as k:\n",
    "    s = k.readlines()\n",
    "    q = []\n",
    "    for v in s:\n",
    "         q.append(v.split('\\n'))\n",
    "    print(q)"
   ]
  },
  {
   "cell_type": "code",
   "execution_count": 47,
   "id": "c4701c0a",
   "metadata": {},
   "outputs": [
    {
     "name": "stdout",
     "output_type": "stream",
     "text": [
      "Enter a range: 20\n"
     ]
    }
   ],
   "source": [
    "with open('Raw data/input.text','w') as fw:\n",
    "    fw.write(input(\"Enter a range: \"))"
   ]
  },
  {
   "cell_type": "code",
   "execution_count": 53,
   "id": "75b27ead",
   "metadata": {},
   "outputs": [],
   "source": [
    "with open('Raw data/input.text','r') as g:\n",
    "    f = g.readlines()\n",
    "    with open('Raw data/output.text','w') as wy:\n",
    "        wy.write(\"Entered number is: {}\\n\".format(f[0]))\n",
    "        x = []\n",
    "        for n in range(1,int(f[0])+1):\n",
    "            if n%2==0:\n",
    "                h = str(n)+\",\"\n",
    "                x.append(h)\n",
    "        t = \" \".join(x)        \n",
    "        wy.write(\"Even numbers in range {} is: {}\".format(f[0],t))"
   ]
  },
  {
   "cell_type": "markdown",
   "id": "b9c57627",
   "metadata": {},
   "source": [
    "# Task:\n",
    "            \n",
    "            sheet ->\n",
    "                 field -> Name,Time in session(minutes)\n",
    "                      roll-name-collegecode\n",
    "                      19kq1a0523-shaik.salma-pace => 100\n",
    "                      tarun\n",
    "                      \n",
    " Output:  \n",
    " \n",
    " \n",
    "        roll           time  \n",
    "        19kq1a0523     100   \n",
    "        ----------     ---\n",
    "        \n",
    "        not considered.csv\n",
    "        roll       time\n",
    "        \n",
    "       final csv:[70] \n",
    "       roll      time     status\n",
    "       -------------------------\n",
    "       ---       120     P\n",
    "       ----      55      A"
   ]
  },
  {
   "cell_type": "code",
   "execution_count": 55,
   "id": "a4bc8d0b",
   "metadata": {},
   "outputs": [
    {
     "name": "stdout",
     "output_type": "stream",
     "text": [
      "['19kq1a0523', 'salma', 'pace']\n"
     ]
    }
   ],
   "source": [
    "n = ['19kq1a0523-salma-pace']\n",
    "d = n[0].split(\"-\")\n",
    "print(d)"
   ]
  },
  {
   "cell_type": "code",
   "execution_count": null,
   "id": "ec4b24e2",
   "metadata": {},
   "outputs": [],
   "source": []
  }
 ],
 "metadata": {
  "kernelspec": {
   "display_name": "Python 3",
   "language": "python",
   "name": "python3"
  },
  "language_info": {
   "codemirror_mode": {
    "name": "ipython",
    "version": 3
   },
   "file_extension": ".py",
   "mimetype": "text/x-python",
   "name": "python",
   "nbconvert_exporter": "python",
   "pygments_lexer": "ipython3",
   "version": "3.9.5"
  }
 },
 "nbformat": 4,
 "nbformat_minor": 5
}

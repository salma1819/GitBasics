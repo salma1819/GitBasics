{
 "cells": [
  {
   "cell_type": "markdown",
   "id": "0cd28bd9",
   "metadata": {},
   "source": [
    "## Python Iterators,Data Structures,Data types:\n",
    "         - List\n",
    "         - Tuple\n",
    "         - Set\n",
    "         - Dictionary"
   ]
  },
  {
   "cell_type": "markdown",
   "id": "00c31dc7",
   "metadata": {},
   "source": [
    "# List:\n",
    "      - It can stores different data type elements \n",
    "      - It can be defined as \"[]\" and type casting as \"list()\"\n",
    "      - It consists of index slicing can be done\n",
    "      - It stores the value in given format\n",
    "      - In this the values can be changes\n",
    "      - It can stores duplicate elements"
   ]
  },
  {
   "cell_type": "markdown",
   "id": "00a3adb9",
   "metadata": {},
   "source": [
    "# Tuple:\n",
    "      - It can stores different data type elements\n",
    "      - It can be defined as \"()\" and type casting as \"tuple()\"\n",
    "      - It consists of index and slicing can be done \n",
    "      - It stores the value in given format\n",
    "      - In this the values cant be changed\n",
    "      - It can stores duplicate elements"
   ]
  },
  {
   "cell_type": "markdown",
   "id": "87d31dfd",
   "metadata": {},
   "source": [
    "# Set:\n",
    "       - It can store different data type elements\n",
    "       - It can be defined as \"{}\" and type casting as \"set()\"  => {a} => set\n",
    "       - It doesnt consist of  index and slicing cant be done\n",
    "       - It stores the value in given format but it printss in alphabetical order \n",
    "       - In this the values can be changes\n",
    "       - It cant stores the duplicates elements"
   ]
  },
  {
   "cell_type": "markdown",
   "id": "6b687e32",
   "metadata": {},
   "source": [
    "# Dictionary:\n",
    "              - It can store different data type elements but it follows key and value pairs\n",
    "              - It can be defined as \"{}\" by default as type casting as \"dict()\"\n",
    "              - It consist of  index but it can be applicate for either keys or values and slicing can done\n",
    "              - It stores the value in given format  \n",
    "              - In this the values can be changed\n",
    "              - It cant stores the duplicates keys but it stores duplicate values"
   ]
  },
  {
   "cell_type": "markdown",
   "id": "9288399a",
   "metadata": {},
   "source": [
    "# List:"
   ]
  },
  {
   "cell_type": "code",
   "execution_count": 1,
   "id": "35970c09",
   "metadata": {},
   "outputs": [
    {
     "name": "stdout",
     "output_type": "stream",
     "text": [
      "[23, 45.6, 'salma', 23, 'karru'] <class 'list'>\n"
     ]
    }
   ],
   "source": [
    "k = [23,45.6,\"salma\",23,\"karru\"]\n",
    "print(k,type(k))"
   ]
  },
  {
   "cell_type": "code",
   "execution_count": 2,
   "id": "2f7cb613",
   "metadata": {},
   "outputs": [
    {
     "name": "stdout",
     "output_type": "stream",
     "text": [
      "<class 'int'>\n"
     ]
    }
   ],
   "source": [
    "a = 20\n",
    "print(type(a))"
   ]
  },
  {
   "cell_type": "code",
   "execution_count": 3,
   "id": "f1628a25",
   "metadata": {},
   "outputs": [
    {
     "name": "stdout",
     "output_type": "stream",
     "text": [
      "salma\n"
     ]
    },
    {
     "ename": "IndexError",
     "evalue": "list index out of range",
     "output_type": "error",
     "traceback": [
      "\u001b[1;31m---------------------------------------------------------------------------\u001b[0m",
      "\u001b[1;31mIndexError\u001b[0m                                Traceback (most recent call last)",
      "\u001b[1;32m<ipython-input-3-281ac059db9f>\u001b[0m in \u001b[0;36m<module>\u001b[1;34m\u001b[0m\n\u001b[0;32m      1\u001b[0m \u001b[0mprint\u001b[0m\u001b[1;33m(\u001b[0m\u001b[0mk\u001b[0m\u001b[1;33m[\u001b[0m\u001b[1;36m2\u001b[0m\u001b[1;33m]\u001b[0m\u001b[1;33m)\u001b[0m\u001b[1;33m\u001b[0m\u001b[1;33m\u001b[0m\u001b[0m\n\u001b[1;32m----> 2\u001b[1;33m \u001b[0mprint\u001b[0m\u001b[1;33m(\u001b[0m\u001b[0mk\u001b[0m\u001b[1;33m[\u001b[0m\u001b[1;33m-\u001b[0m\u001b[1;36m15\u001b[0m\u001b[1;33m]\u001b[0m\u001b[1;33m)\u001b[0m\u001b[1;33m\u001b[0m\u001b[1;33m\u001b[0m\u001b[0m\n\u001b[0m",
      "\u001b[1;31mIndexError\u001b[0m: list index out of range"
     ]
    }
   ],
   "source": [
    "print(k[2])\n",
    "print(k[-15])"
   ]
  },
  {
   "cell_type": "code",
   "execution_count": 4,
   "id": "719a698f",
   "metadata": {},
   "outputs": [
    {
     "name": "stdout",
     "output_type": "stream",
     "text": [
      "<class 'list'>\n"
     ]
    }
   ],
   "source": [
    "print(type(k))"
   ]
  },
  {
   "cell_type": "code",
   "execution_count": 5,
   "id": "55ad3e5d",
   "metadata": {},
   "outputs": [
    {
     "name": "stdout",
     "output_type": "stream",
     "text": [
      "['__add__', '__class__', '__class_getitem__', '__contains__', '__delattr__', '__delitem__', '__dir__', '__doc__', '__eq__', '__format__', '__ge__', '__getattribute__', '__getitem__', '__gt__', '__hash__', '__iadd__', '__imul__', '__init__', '__init_subclass__', '__iter__', '__le__', '__len__', '__lt__', '__mul__', '__ne__', '__new__', '__reduce__', '__reduce_ex__', '__repr__', '__reversed__', '__rmul__', '__setattr__', '__setitem__', '__sizeof__', '__str__', '__subclasshook__', 'append', 'clear', 'copy', 'count', 'extend', 'index', 'insert', 'pop', 'remove', 'reverse', 'sort']\n"
     ]
    }
   ],
   "source": [
    "print(dir(k))"
   ]
  },
  {
   "cell_type": "code",
   "execution_count": 6,
   "id": "76a1d35c",
   "metadata": {},
   "outputs": [
    {
     "name": "stdout",
     "output_type": "stream",
     "text": [
      "['__add__', '__class__', '__class_getitem__', '__contains__', '__delattr__', '__delitem__', '__dir__', '__doc__', '__eq__', '__format__', '__ge__', '__getattribute__', '__getitem__', '__gt__', '__hash__', '__iadd__', '__imul__', '__init__', '__init_subclass__', '__iter__', '__le__', '__len__', '__lt__', '__mul__', '__ne__', '__new__', '__reduce__', '__reduce_ex__', '__repr__', '__reversed__', '__rmul__', '__setattr__', '__setitem__', '__sizeof__', '__str__', '__subclasshook__', 'append', 'clear', 'copy', 'count', 'extend', 'index', 'insert', 'pop', 'remove', 'reverse', 'sort']\n"
     ]
    }
   ],
   "source": [
    "print(dir(list))"
   ]
  },
  {
   "cell_type": "code",
   "execution_count": 7,
   "id": "7d14ea36",
   "metadata": {},
   "outputs": [
    {
     "name": "stdout",
     "output_type": "stream",
     "text": [
      "[45, 78, 56]\n",
      "45\n",
      "[45, 78, 56, 45]\n"
     ]
    }
   ],
   "source": [
    "m = [45,78,56]\n",
    "print(m)\n",
    "n = input()\n",
    "m.append(int(n))\n",
    "print(m)"
   ]
  },
  {
   "cell_type": "code",
   "execution_count": 8,
   "id": "bf56dd71",
   "metadata": {},
   "outputs": [
    {
     "name": "stdout",
     "output_type": "stream",
     "text": [
      "['tarun', 45, 129, 45.2] <class 'list'>\n",
      "['tarun', 45, 129, 45.2]\n",
      "['tarun', 45, 129, 45.2, 'salma']\n",
      "['tarun', 45, 129, 45.2]\n",
      "['tarun', 45, 129, 45.2, 'salma']\n",
      "['tarun', 45, 129, 45.2, 'krish']\n"
     ]
    }
   ],
   "source": [
    "n = [\"tarun\",45,129,45.20]\n",
    "b = n.copy()\n",
    "print(b,type(b))\n",
    "print(n)\n",
    "n.append(\"salma\")\n",
    "print(n)\n",
    "print(b)\n",
    "b.append(\"krish\")\n",
    "print(n)\n",
    "print(b)"
   ]
  },
  {
   "cell_type": "code",
   "execution_count": 9,
   "id": "64d6007c",
   "metadata": {},
   "outputs": [
    {
     "name": "stdout",
     "output_type": "stream",
     "text": [
      "12 count is: 1\n",
      "15 count is: 1\n",
      "17 count is: 1\n",
      "48 count is: 1\n",
      "salma count is: 1\n",
      "78 count is: 1\n",
      "krish count is: 1\n"
     ]
    }
   ],
   "source": [
    "p = [12,15,17,48,'salma',78,'krish']\n",
    "for n in p:\n",
    "    print(\"{} count is: {}\".format(n,p.count(n)))"
   ]
  },
  {
   "cell_type": "code",
   "execution_count": 10,
   "id": "8272568a",
   "metadata": {},
   "outputs": [
    {
     "name": "stdout",
     "output_type": "stream",
     "text": [
      "0\n",
      "1\n",
      "12 count is: 1\n",
      "15 count is: 1\n",
      "17 count is: 1\n",
      "48 count is: 1\n",
      "salma count is: 1\n",
      "78 count is: 1\n",
      "krish count is: 1\n"
     ]
    }
   ],
   "source": [
    "p = [12,15,17,48,'salma',78,'krish']\n",
    "print(p.count(1))\n",
    "print(p.count(12))\n",
    "for n in p:\n",
    "    print(\"{} count is: {}\".format(n,p.count(n)))"
   ]
  },
  {
   "cell_type": "code",
   "execution_count": 11,
   "id": "5a114775",
   "metadata": {},
   "outputs": [
    {
     "name": "stdout",
     "output_type": "stream",
     "text": [
      "[78, 89.1245, 'salma', 'karshima', 'rurdansh', 'tejasri']\n",
      "['karshima', 'rurdansh', 'tejasri']\n",
      "[78, 89.1245, 'salma', 'karshima', 'rurdansh', 'tejasri']\n",
      "['karshima', 'rurdansh', 'tejasri', 200]\n"
     ]
    }
   ],
   "source": [
    "v = [78,89.1245,\"salma\"]\n",
    "b = [\"karshima\",\"rurdansh\",'tejasri']\n",
    "v.extend(b)\n",
    "print(v)\n",
    "print(b)\n",
    "b.append(200)\n",
    "print(v)\n",
    "print(b)"
   ]
  },
  {
   "cell_type": "code",
   "execution_count": 12,
   "id": "62710b61",
   "metadata": {},
   "outputs": [
    {
     "ename": "ValueError",
     "evalue": "4 is not in list",
     "output_type": "error",
     "traceback": [
      "\u001b[1;31m---------------------------------------------------------------------------\u001b[0m",
      "\u001b[1;31mValueError\u001b[0m                                Traceback (most recent call last)",
      "\u001b[1;32m<ipython-input-12-3c77c1adf1d1>\u001b[0m in \u001b[0;36m<module>\u001b[1;34m\u001b[0m\n\u001b[1;32m----> 1\u001b[1;33m \u001b[0mv\u001b[0m\u001b[1;33m.\u001b[0m\u001b[0mindex\u001b[0m\u001b[1;33m(\u001b[0m\u001b[1;36m4\u001b[0m\u001b[1;33m)\u001b[0m\u001b[1;33m\u001b[0m\u001b[1;33m\u001b[0m\u001b[0m\n\u001b[0m",
      "\u001b[1;31mValueError\u001b[0m: 4 is not in list"
     ]
    }
   ],
   "source": [
    "v.index(4)"
   ]
  },
  {
   "cell_type": "code",
   "execution_count": 13,
   "id": "bc5c9d47",
   "metadata": {},
   "outputs": [
    {
     "name": "stdout",
     "output_type": "stream",
     "text": [
      "['Salma', 12, 15, 19, 740]\n"
     ]
    }
   ],
   "source": [
    "x = [12,15,19,740]\n",
    "x.insert(0,\"Salma\")\n",
    "print(x)"
   ]
  },
  {
   "cell_type": "code",
   "execution_count": 14,
   "id": "b258d0c6",
   "metadata": {},
   "outputs": [
    {
     "name": "stdout",
     "output_type": "stream",
     "text": [
      "Insert object before index.\n"
     ]
    }
   ],
   "source": [
    "print(list.insert.__doc__)"
   ]
  },
  {
   "cell_type": "code",
   "execution_count": 15,
   "id": "be4baeba",
   "metadata": {},
   "outputs": [
    {
     "name": "stdout",
     "output_type": "stream",
     "text": [
      "Return number of occurrences of value.\n"
     ]
    }
   ],
   "source": [
    "print(list.count.__doc__)"
   ]
  },
  {
   "cell_type": "code",
   "execution_count": 16,
   "id": "ddd9504d",
   "metadata": {},
   "outputs": [
    {
     "data": {
      "text/plain": [
       "['Salma', 12, 15, 19, 740]"
      ]
     },
     "execution_count": 16,
     "metadata": {},
     "output_type": "execute_result"
    }
   ],
   "source": [
    "x"
   ]
  },
  {
   "cell_type": "code",
   "execution_count": 17,
   "id": "45633a28",
   "metadata": {},
   "outputs": [
    {
     "name": "stdout",
     "output_type": "stream",
     "text": [
      "Help on method_descriptor:\n",
      "\n",
      "insert(self, index, object, /)\n",
      "    Insert object before index.\n",
      "\n"
     ]
    }
   ],
   "source": [
    "help(list.insert)"
   ]
  },
  {
   "cell_type": "code",
   "execution_count": 18,
   "id": "ce661680",
   "metadata": {},
   "outputs": [
    {
     "data": {
      "text/plain": [
       "['Salma', 12, 15, 19, 740]"
      ]
     },
     "execution_count": 18,
     "metadata": {},
     "output_type": "execute_result"
    }
   ],
   "source": [
    "x"
   ]
  },
  {
   "cell_type": "code",
   "execution_count": 19,
   "id": "e7242758",
   "metadata": {},
   "outputs": [
    {
     "name": "stdout",
     "output_type": "stream",
     "text": [
      "['Salma', 12, 15, 19, 740]\n",
      "['Salma', 12, 15, 19]\n"
     ]
    }
   ],
   "source": [
    "print(x)\n",
    "x.pop()\n",
    "print(x)"
   ]
  },
  {
   "cell_type": "code",
   "execution_count": 20,
   "id": "2679f798",
   "metadata": {},
   "outputs": [
    {
     "data": {
      "text/plain": [
       "12"
      ]
     },
     "execution_count": 20,
     "metadata": {},
     "output_type": "execute_result"
    }
   ],
   "source": [
    "x.pop(1)"
   ]
  },
  {
   "cell_type": "code",
   "execution_count": 21,
   "id": "6900b191",
   "metadata": {},
   "outputs": [
    {
     "name": "stdout",
     "output_type": "stream",
     "text": [
      "['Salma', 15, 19]\n"
     ]
    }
   ],
   "source": [
    "print(x)"
   ]
  },
  {
   "cell_type": "code",
   "execution_count": 22,
   "id": "2739d6c2",
   "metadata": {},
   "outputs": [
    {
     "name": "stdout",
     "output_type": "stream",
     "text": [
      "[45, 89.21, 76, 'salma', 'siri', 'karru']\n"
     ]
    }
   ],
   "source": [
    "y = [45,89.21,76,\"salma\",\"siri\",\"karru\"]\n",
    "print(y)"
   ]
  },
  {
   "cell_type": "code",
   "execution_count": 23,
   "id": "c649d9cf",
   "metadata": {},
   "outputs": [
    {
     "name": "stdout",
     "output_type": "stream",
     "text": [
      "[45, 89.21, 76, 'salma', 'siri', 'karru']\n",
      "[45, 89.21, 'salma', 'siri', 'karru']\n"
     ]
    }
   ],
   "source": [
    "print(y)\n",
    "y.remove(76)\n",
    "print(y)"
   ]
  },
  {
   "cell_type": "code",
   "execution_count": 24,
   "id": "b1fd9cb5",
   "metadata": {},
   "outputs": [
    {
     "name": "stdout",
     "output_type": "stream",
     "text": [
      "[45, 89.21, 'salma', 'siri', 'karru']\n",
      "['karru', 'siri', 'salma', 89.21, 45]\n"
     ]
    }
   ],
   "source": [
    "print(y)\n",
    "y.reverse()\n",
    "print(y)"
   ]
  },
  {
   "cell_type": "code",
   "execution_count": 25,
   "id": "057a9feb",
   "metadata": {},
   "outputs": [
    {
     "name": "stdout",
     "output_type": "stream",
     "text": [
      "['karru', 'siri', 'salma', 89.21, 45]\n"
     ]
    },
    {
     "ename": "TypeError",
     "evalue": "'<' not supported between instances of 'float' and 'str'",
     "output_type": "error",
     "traceback": [
      "\u001b[1;31m---------------------------------------------------------------------------\u001b[0m",
      "\u001b[1;31mTypeError\u001b[0m                                 Traceback (most recent call last)",
      "\u001b[1;32m<ipython-input-25-39374b4c5f1c>\u001b[0m in \u001b[0;36m<module>\u001b[1;34m\u001b[0m\n\u001b[0;32m      1\u001b[0m \u001b[0mprint\u001b[0m\u001b[1;33m(\u001b[0m\u001b[0my\u001b[0m\u001b[1;33m)\u001b[0m\u001b[1;33m\u001b[0m\u001b[1;33m\u001b[0m\u001b[0m\n\u001b[1;32m----> 2\u001b[1;33m \u001b[0my\u001b[0m\u001b[1;33m.\u001b[0m\u001b[0msort\u001b[0m\u001b[1;33m(\u001b[0m\u001b[1;33m)\u001b[0m\u001b[1;33m\u001b[0m\u001b[1;33m\u001b[0m\u001b[0m\n\u001b[0m\u001b[0;32m      3\u001b[0m \u001b[0mprint\u001b[0m\u001b[1;33m(\u001b[0m\u001b[0my\u001b[0m\u001b[1;33m)\u001b[0m\u001b[1;33m\u001b[0m\u001b[1;33m\u001b[0m\u001b[0m\n",
      "\u001b[1;31mTypeError\u001b[0m: '<' not supported between instances of 'float' and 'str'"
     ]
    }
   ],
   "source": [
    "print(y)\n",
    "y.sort()\n",
    "print(y)"
   ]
  },
  {
   "cell_type": "code",
   "execution_count": 26,
   "id": "f85b8e3d",
   "metadata": {},
   "outputs": [
    {
     "name": "stdout",
     "output_type": "stream",
     "text": [
      "[45, 2, 200, 1]\n",
      "[1, 2, 45, 200]\n"
     ]
    }
   ],
   "source": [
    "p = [45,2,200,1]\n",
    "print(p)\n",
    "p.sort()\n",
    "print(p)"
   ]
  },
  {
   "cell_type": "code",
   "execution_count": 27,
   "id": "881fff4b",
   "metadata": {},
   "outputs": [
    {
     "name": "stdout",
     "output_type": "stream",
     "text": [
      "[45.012, 40.125, 0.123]\n",
      "[0.123, 40.125, 45.012]\n"
     ]
    }
   ],
   "source": [
    "k = [45.012,40.125,0.1230]\n",
    "print(k)\n",
    "k.sort()\n",
    "print(k)"
   ]
  },
  {
   "cell_type": "code",
   "execution_count": 28,
   "id": "02fde7b9",
   "metadata": {},
   "outputs": [
    {
     "name": "stdout",
     "output_type": "stream",
     "text": [
      "['abdul', 'tilak', 'zeeshan']\n",
      "['abdul', 'tilak', 'zeeshan']\n"
     ]
    }
   ],
   "source": [
    "s = [\"abdul\",\"tilak\",\"zeeshan\"]\n",
    "print(s)\n",
    "s.sort()\n",
    "print(s)"
   ]
  },
  {
   "cell_type": "code",
   "execution_count": 29,
   "id": "04359d5d",
   "metadata": {},
   "outputs": [
    {
     "data": {
      "text/plain": [
       "['abdul', 'tilak', 'zeeshan']"
      ]
     },
     "execution_count": 29,
     "metadata": {},
     "output_type": "execute_result"
    }
   ],
   "source": [
    "sorted(s)"
   ]
  },
  {
   "cell_type": "code",
   "execution_count": 30,
   "id": "297889db",
   "metadata": {},
   "outputs": [
    {
     "name": "stdout",
     "output_type": "stream",
     "text": [
      "['abdul', 'tilak', 'zeeshan']\n"
     ]
    }
   ],
   "source": [
    "print(s)"
   ]
  },
  {
   "cell_type": "code",
   "execution_count": 31,
   "id": "dd51c7fd",
   "metadata": {},
   "outputs": [
    {
     "name": "stdout",
     "output_type": "stream",
     "text": [
      "[45, 4, 400]\n",
      "[4, 45, 400]\n"
     ]
    }
   ],
   "source": [
    "d = [45,4,400]\n",
    "f = sorted(d)\n",
    "print(d)\n",
    "print(f)"
   ]
  },
  {
   "cell_type": "code",
   "execution_count": 32,
   "id": "34d4b111",
   "metadata": {},
   "outputs": [
    {
     "name": "stdout",
     "output_type": "stream",
     "text": [
      "[45, 4, 400]\n",
      "[]\n"
     ]
    }
   ],
   "source": [
    "print(d)\n",
    "d.clear()\n",
    "print(d)"
   ]
  },
  {
   "cell_type": "code",
   "execution_count": 34,
   "id": "4b1000cd",
   "metadata": {},
   "outputs": [
    {
     "name": "stdout",
     "output_type": "stream",
     "text": [
      "[45, 78, 96]\n"
     ]
    }
   ],
   "source": [
    "f = [45,78,96]\n",
    "print(f)\n",
    "del f\n"
   ]
  },
  {
   "cell_type": "markdown",
   "id": "5b7a7e4d",
   "metadata": {},
   "source": [
    "# Tuple:"
   ]
  },
  {
   "cell_type": "code",
   "execution_count": 35,
   "id": "750441de",
   "metadata": {},
   "outputs": [
    {
     "name": "stdout",
     "output_type": "stream",
     "text": [
      "(12, 48, 79.5678, 12, 'tarun') <class 'tuple'>\n"
     ]
    }
   ],
   "source": [
    "s = (12,48,79.5678,12,\"tarun\")\n",
    "print(s,type(s))"
   ]
  },
  {
   "cell_type": "code",
   "execution_count": 36,
   "id": "829621c1",
   "metadata": {},
   "outputs": [
    {
     "name": "stdout",
     "output_type": "stream",
     "text": [
      "['__add__', '__class__', '__class_getitem__', '__contains__', '__delattr__', '__dir__', '__doc__', '__eq__', '__format__', '__ge__', '__getattribute__', '__getitem__', '__getnewargs__', '__gt__', '__hash__', '__init__', '__init_subclass__', '__iter__', '__le__', '__len__', '__lt__', '__mul__', '__ne__', '__new__', '__reduce__', '__reduce_ex__', '__repr__', '__rmul__', '__setattr__', '__sizeof__', '__str__', '__subclasshook__', 'count', 'index']\n"
     ]
    }
   ],
   "source": [
    "print(dir(tuple))"
   ]
  },
  {
   "cell_type": "code",
   "execution_count": 37,
   "id": "aededcc9",
   "metadata": {},
   "outputs": [
    {
     "name": "stdout",
     "output_type": "stream",
     "text": [
      "(12, 48, 79.5678, 12, 'tarun')\n",
      "2\n",
      "(12, 48, 79.5678, 12, 'tarun')\n"
     ]
    }
   ],
   "source": [
    "print(s)\n",
    "print(s.count(12))\n",
    "print(s)"
   ]
  },
  {
   "cell_type": "code",
   "execution_count": 38,
   "id": "95493bce",
   "metadata": {},
   "outputs": [
    {
     "data": {
      "text/plain": [
       "1"
      ]
     },
     "execution_count": 38,
     "metadata": {},
     "output_type": "execute_result"
    }
   ],
   "source": [
    "s.index(48)"
   ]
  },
  {
   "cell_type": "code",
   "execution_count": 39,
   "id": "33439ac2",
   "metadata": {},
   "outputs": [
    {
     "name": "stdout",
     "output_type": "stream",
     "text": [
      "[45, 78, 12, 96, 56] <class 'list'>\n",
      "(12, 45, 56, 78, 96)\n"
     ]
    }
   ],
   "source": [
    "p = (45,78,12,96,56)\n",
    "d = list(p)\n",
    "print(d,type(d))\n",
    "d.sort()\n",
    "q = tuple(d)\n",
    "print(q)"
   ]
  },
  {
   "cell_type": "code",
   "execution_count": null,
   "id": "677f1b43",
   "metadata": {},
   "outputs": [],
   "source": []
  }
 ],
 "metadata": {
  "kernelspec": {
   "display_name": "Python 3",
   "language": "python",
   "name": "python3"
  },
  "language_info": {
   "codemirror_mode": {
    "name": "ipython",
    "version": 3
   },
   "file_extension": ".py",
   "mimetype": "text/x-python",
   "name": "python",
   "nbconvert_exporter": "python",
   "pygments_lexer": "ipython3",
   "version": "3.9.5"
  }
 },
 "nbformat": 4,
 "nbformat_minor": 5
}

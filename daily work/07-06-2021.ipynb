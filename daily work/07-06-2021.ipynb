{
 "cells": [
  {
   "cell_type": "markdown",
   "id": "547577be",
   "metadata": {},
   "source": [
    "# Packages and Modules:"
   ]
  },
  {
   "cell_type": "markdown",
   "id": "7e780808",
   "metadata": {},
   "source": [
    "## Package:\n",
    "    - Folder - No of files or number of folder\n",
    "    - Package => FOlder\n",
    "              => Number of folders or files\n",
    "              => collection of modules\n",
    "    - Module => Files\n",
    "             => collection of class,methods,functions,variables"
   ]
  },
  {
   "cell_type": "markdown",
   "id": "1840d4d1",
   "metadata": {},
   "source": [
    "Example:\n",
    "           College => Packages\n",
    "               CSE => Sub Packages\n",
    "                   -> first.py => modules\n",
    "                   -> second.py\n",
    "                   -> third.py\n",
    "               ECE \n",
    "               EEE\n",
    "               Mech\n",
    "               Civil"
   ]
  },
  {
   "cell_type": "code",
   "execution_count": 2,
   "id": "adca1851",
   "metadata": {},
   "outputs": [],
   "source": [
    "import math"
   ]
  },
  {
   "cell_type": "code",
   "execution_count": 3,
   "id": "fe93eb80",
   "metadata": {},
   "outputs": [
    {
     "name": "stdout",
     "output_type": "stream",
     "text": [
      "['__doc__', '__loader__', '__name__', '__package__', '__spec__', 'acos', 'acosh', 'asin', 'asinh', 'atan', 'atan2', 'atanh', 'ceil', 'comb', 'copysign', 'cos', 'cosh', 'degrees', 'dist', 'e', 'erf', 'erfc', 'exp', 'expm1', 'fabs', 'factorial', 'floor', 'fmod', 'frexp', 'fsum', 'gamma', 'gcd', 'hypot', 'inf', 'isclose', 'isfinite', 'isinf', 'isnan', 'isqrt', 'lcm', 'ldexp', 'lgamma', 'log', 'log10', 'log1p', 'log2', 'modf', 'nan', 'nextafter', 'perm', 'pi', 'pow', 'prod', 'radians', 'remainder', 'sin', 'sinh', 'sqrt', 'tan', 'tanh', 'tau', 'trunc', 'ulp']\n"
     ]
    }
   ],
   "source": [
    "print(dir(math))"
   ]
  },
  {
   "cell_type": "code",
   "execution_count": 4,
   "id": "68253dda",
   "metadata": {},
   "outputs": [
    {
     "name": "stdout",
     "output_type": "stream",
     "text": [
      "93326215443944152681699238856266700490715968264381621468592963895217599993229915608941463976156518286253697920827223758251185210916864000000000000000000000000\n"
     ]
    }
   ],
   "source": [
    "print(math.factorial(100))"
   ]
  },
  {
   "cell_type": "code",
   "execution_count": 5,
   "id": "c31b7243",
   "metadata": {},
   "outputs": [],
   "source": [
    "import sample"
   ]
  },
  {
   "cell_type": "code",
   "execution_count": 6,
   "id": "5952b8af",
   "metadata": {},
   "outputs": [
    {
     "name": "stdout",
     "output_type": "stream",
     "text": [
      "['__builtins__', '__cached__', '__doc__', '__file__', '__loader__', '__name__', '__package__', '__spec__', 'a']\n"
     ]
    }
   ],
   "source": [
    "print(dir(sample))"
   ]
  },
  {
   "cell_type": "code",
   "execution_count": 7,
   "id": "171b955f",
   "metadata": {},
   "outputs": [
    {
     "name": "stdout",
     "output_type": "stream",
     "text": [
      "100\n"
     ]
    }
   ],
   "source": [
    "print(sample.a)"
   ]
  },
  {
   "cell_type": "code",
   "execution_count": 1,
   "id": "1e29cd9e",
   "metadata": {},
   "outputs": [],
   "source": [
    "import first"
   ]
  },
  {
   "cell_type": "code",
   "execution_count": 2,
   "id": "7f2ec546",
   "metadata": {},
   "outputs": [
    {
     "name": "stdout",
     "output_type": "stream",
     "text": [
      "['__builtins__', '__cached__', '__doc__', '__file__', '__loader__', '__name__', '__package__', '__spec__', 'a', 'n']\n"
     ]
    }
   ],
   "source": [
    "print(dir(first))"
   ]
  },
  {
   "cell_type": "code",
   "execution_count": 4,
   "id": "744cdf4e",
   "metadata": {},
   "outputs": [
    {
     "name": "stdout",
     "output_type": "stream",
     "text": [
      "Good Evening to all\n",
      "Hii Weclome salma your age is: 20\n"
     ]
    }
   ],
   "source": [
    "print(first.a)\n",
    "print(first.n)"
   ]
  },
  {
   "cell_type": "code",
   "execution_count": 2,
   "id": "236345bc",
   "metadata": {},
   "outputs": [],
   "source": [
    "from PACKAGES import demo"
   ]
  },
  {
   "cell_type": "code",
   "execution_count": 3,
   "id": "7ae361c5",
   "metadata": {},
   "outputs": [
    {
     "name": "stdout",
     "output_type": "stream",
     "text": [
      "['__builtins__', '__cached__', '__doc__', '__file__', '__loader__', '__name__', '__package__', '__spec__', 'p']\n"
     ]
    }
   ],
   "source": [
    "print(dir(demo))"
   ]
  },
  {
   "cell_type": "code",
   "execution_count": 4,
   "id": "e70781c9",
   "metadata": {},
   "outputs": [
    {
     "name": "stdout",
     "output_type": "stream",
     "text": [
      "2000\n"
     ]
    }
   ],
   "source": [
    "print(demo.p,demo.a,demo.z)"
   ]
  },
  {
   "cell_type": "code",
   "execution_count": 5,
   "id": "76954a26",
   "metadata": {},
   "outputs": [],
   "source": [
    "from PACKAGES import *"
   ]
  },
  {
   "cell_type": "code",
   "execution_count": 6,
   "id": "ef000e6c",
   "metadata": {},
   "outputs": [
    {
     "ename": "NameError",
     "evalue": "name 'salma' is not defined",
     "output_type": "error",
     "traceback": [
      "\u001b[1;31m---------------------------------------------------------------------------\u001b[0m",
      "\u001b[1;31mNameError\u001b[0m                                 Traceback (most recent call last)",
      "\u001b[1;32m<ipython-input-6-7a492ac5dc4e>\u001b[0m in \u001b[0;36m<module>\u001b[1;34m\u001b[0m\n\u001b[1;32m----> 1\u001b[1;33m \u001b[0mprint\u001b[0m\u001b[1;33m(\u001b[0m\u001b[0mdemo\u001b[0m\u001b[1;33m.\u001b[0m\u001b[0mp\u001b[0m\u001b[1;33m,\u001b[0m\u001b[0msalma\u001b[0m\u001b[1;33m.\u001b[0m\u001b[0mname\u001b[0m\u001b[1;33m)\u001b[0m\u001b[1;33m\u001b[0m\u001b[1;33m\u001b[0m\u001b[0m\n\u001b[0m",
      "\u001b[1;31mNameError\u001b[0m: name 'salma' is not defined"
     ]
    }
   ],
   "source": [
    "print(demo.p,salma.name)"
   ]
  },
  {
   "cell_type": "code",
   "execution_count": 7,
   "id": "5c8f6a10",
   "metadata": {},
   "outputs": [],
   "source": [
    "from PACKAGES import demo,salma"
   ]
  },
  {
   "cell_type": "code",
   "execution_count": 8,
   "id": "2c4ef536",
   "metadata": {},
   "outputs": [
    {
     "name": "stdout",
     "output_type": "stream",
     "text": [
      "2000 salma\n"
     ]
    }
   ],
   "source": [
    "print(demo.p,salma.name)"
   ]
  },
  {
   "cell_type": "code",
   "execution_count": 9,
   "id": "64491f73",
   "metadata": {},
   "outputs": [],
   "source": [
    "from PACKAGES.demo import p"
   ]
  },
  {
   "cell_type": "code",
   "execution_count": 10,
   "id": "7dd4b03e",
   "metadata": {},
   "outputs": [
    {
     "name": "stdout",
     "output_type": "stream",
     "text": [
      "2000\n"
     ]
    }
   ],
   "source": [
    "print(p)"
   ]
  },
  {
   "cell_type": "code",
   "execution_count": 14,
   "id": "d93f7bbb",
   "metadata": {},
   "outputs": [],
   "source": [
    "from PACKAGES.CSE import first as c\n",
    "from PACKAGES.ECE import first as e"
   ]
  },
  {
   "cell_type": "code",
   "execution_count": 15,
   "id": "57144df1",
   "metadata": {},
   "outputs": [
    {
     "name": "stdout",
     "output_type": "stream",
     "text": [
      "['__builtins__', '__cached__', '__doc__', '__file__', '__loader__', '__name__', '__package__', '__spec__', 'q']\n"
     ]
    }
   ],
   "source": [
    "print(dir(first))"
   ]
  },
  {
   "cell_type": "code",
   "execution_count": 16,
   "id": "d8f3bcce",
   "metadata": {},
   "outputs": [
    {
     "name": "stdout",
     "output_type": "stream",
     "text": [
      "['__builtins__', '__cached__', '__doc__', '__file__', '__loader__', '__name__', '__package__', '__spec__', 'm']\n",
      "['__builtins__', '__cached__', '__doc__', '__file__', '__loader__', '__name__', '__package__', '__spec__', 'q']\n"
     ]
    }
   ],
   "source": [
    "print(dir(c))\n",
    "print(dir(e))"
   ]
  },
  {
   "cell_type": "code",
   "execution_count": 17,
   "id": "57857bdb",
   "metadata": {},
   "outputs": [
    {
     "name": "stdout",
     "output_type": "stream",
     "text": [
      "First year from CSE\n",
      "First year ECE\n"
     ]
    }
   ],
   "source": [
    "print(c.m)\n",
    "print(e.q)"
   ]
  },
  {
   "cell_type": "code",
   "execution_count": 3,
   "id": "ea76f32a",
   "metadata": {},
   "outputs": [],
   "source": [
    "import os"
   ]
  },
  {
   "cell_type": "code",
   "execution_count": null,
   "id": "d3f850ff",
   "metadata": {},
   "outputs": [],
   "source": [
    "\n",
    "first create a folder\n",
    "calsi\n",
    "     add\n",
    "     sub \n",
    "     mul\n",
    "     div\n",
    "        \n",
    "     12 3\n",
    "     d.add(12,3) => given numbers are 12 and 3 and its addition is:15"
   ]
  },
  {
   "cell_type": "code",
   "execution_count": null,
   "id": "b1beea41",
   "metadata": {},
   "outputs": [],
   "source": [
    "from ...import...\n",
    "n = int(input())\n",
    "m = int(input())\n",
    "print(...add(n,m))"
   ]
  },
  {
   "cell_type": "code",
   "execution_count": 4,
   "id": "47c77b71",
   "metadata": {},
   "outputs": [
    {
     "name": "stdout",
     "output_type": "stream",
     "text": [
      "10\n",
      "Even numbers in a range is: [0, 2, 4, 6, 8, 10]\n"
     ]
    }
   ],
   "source": [
    "from PACKAGES.Demo import main\n",
    "y = int(input())\n",
    "print(\"Even numbers in a range is: {}\".format(main.even(y)))"
   ]
  },
  {
   "cell_type": "code",
   "execution_count": null,
   "id": "b06def5a",
   "metadata": {},
   "outputs": [],
   "source": []
  }
 ],
 "metadata": {
  "kernelspec": {
   "display_name": "Python 3",
   "language": "python",
   "name": "python3"
  },
  "language_info": {
   "codemirror_mode": {
    "name": "ipython",
    "version": 3
   },
   "file_extension": ".py",
   "mimetype": "text/x-python",
   "name": "python",
   "nbconvert_exporter": "python",
   "pygments_lexer": "ipython3",
   "version": "3.9.5"
  }
 },
 "nbformat": 4,
 "nbformat_minor": 5
}

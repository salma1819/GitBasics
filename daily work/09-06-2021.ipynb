{
 "cells": [
  {
   "cell_type": "markdown",
   "id": "891493aa",
   "metadata": {},
   "source": [
    "## Django:\n",
    "    - It is a external modules in python,so that we have to install it\n",
    "    - It is web development framework coded in python.\n",
    "    - While developing this django they followed a design MVT(model view template)"
   ]
  },
  {
   "cell_type": "markdown",
   "id": "1e034e37",
   "metadata": {},
   "source": [
    "## MVC:\n",
    "    M - Model\n",
    "        - it will store logics related to datebase\n",
    "    V - View\n",
    "        - it will store information related UI(User Interface)\n",
    "    C - Controller\n",
    "        - it will stores main logics\n",
    "        \n",
    "        \n",
    "        \n",
    "controller => view => model"
   ]
  },
  {
   "cell_type": "markdown",
   "id": "e28029f0",
   "metadata": {},
   "source": [
    "##### html is used for web designing  which is front end and django is used for  web development supports both frontend and backend applications\n"
   ]
  },
  {
   "cell_type": "markdown",
   "id": "4e8f0cc3",
   "metadata": {},
   "source": [
    "## MVT:\n",
    "       M - Model\n",
    "          - it will store logics related to datebase\n",
    "       V - view \n",
    "          - it will works like as a controller\n",
    "       T - Template \n",
    "           - it will store information related UI(User Interface)\n",
    "           \n",
    "           \n",
    "url => view => template => model           "
   ]
  },
  {
   "cell_type": "markdown",
   "id": "721c8f9c",
   "metadata": {},
   "source": [
    "## Required softwares:\n",
    "   - Install django\n",
    "       - to install django ,you have run a cmd in command prompt ```  pip install django ``` or ``` pip install django==versionofDJ ```\n",
    "   - Install any tool ('sublime' tool,atom,pycharm,notepad++,visual studio)\n",
    "      - "
   ]
  }
 ],
 "metadata": {
  "kernelspec": {
   "display_name": "Python 3",
   "language": "python",
   "name": "python3"
  },
  "language_info": {
   "codemirror_mode": {
    "name": "ipython",
    "version": 3
   },
   "file_extension": ".py",
   "mimetype": "text/x-python",
   "name": "python",
   "nbconvert_exporter": "python",
   "pygments_lexer": "ipython3",
   "version": "3.9.5"
  }
 },
 "nbformat": 4,
 "nbformat_minor": 5
}

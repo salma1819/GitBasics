{
 "cells": [
  {
   "cell_type": "markdown",
   "id": "225bc4b7",
   "metadata": {},
   "source": [
    "## Hi weclome👍😊"
   ]
  },
  {
   "cell_type": "markdown",
   "id": "5a759c8a",
   "metadata": {},
   "source": [
    "## Output:\n",
    "    - %\n",
    "    - ,+\n",
    "    - .format"
   ]
  },
  {
   "cell_type": "code",
   "execution_count": 4,
   "id": "0ca5b783",
   "metadata": {},
   "outputs": [
    {
     "name": "stdout",
     "output_type": "stream",
     "text": [
      "Enter a value: 10\n",
      "Enter a name: salma\n",
      "Entered number is: 10\n",
      "Entered Name is: salma\n"
     ]
    }
   ],
   "source": [
    "n = int(input(\"Enter a value: \"))\n",
    "m = input(\"Enter a name: \")\n",
    "print(\"Entered number is: %d\"%n)\n",
    "print(\"Entered Name is: %s\"%m)"
   ]
  },
  {
   "cell_type": "code",
   "execution_count": 5,
   "id": "a5a0d54a",
   "metadata": {},
   "outputs": [
    {
     "name": "stdout",
     "output_type": "stream",
     "text": [
      "Entered Number is: 10 and Entered Name is:salma\n"
     ]
    }
   ],
   "source": [
    "print(\"Entered Number is: %d and Entered Name is:%s\"%(n,m))"
   ]
  },
  {
   "cell_type": "code",
   "execution_count": 9,
   "id": "6d64771e",
   "metadata": {},
   "outputs": [
    {
     "name": "stdout",
     "output_type": "stream",
     "text": [
      "Entered Number is: 10 and Entered Name is: salma\n",
      "Entered Number is: 10 and Entered Name is: salma\n",
      "Entered Number is: salma and Entered Name is: 10\n"
     ]
    }
   ],
   "source": [
    "print(\"Entered Number is: {} and Entered Name is: {}\".format(n,m))\n",
    "print(\"Entered Number is: {0} and Entered Name is: {1}\".format(n,m))\n",
    "print(\"Entered Number is: {1} and Entered Name is: {0}\".format(n,m))"
   ]
  },
  {
   "cell_type": "markdown",
   "id": "a3fed2e8",
   "metadata": {},
   "source": [
    "### Operators:\n",
    "   - Arthmetic -> +,-,*,/,%,floor(// -> Exact integer), exponential (** => pow())\n",
    "   - Logical ->AND,OR,NOT\n",
    "   - Bitwise -> &&,||,>>,<<\n",
    "   - Realtional -> ==,!=,>=,<=,>,<\n",
    "   - Assignment -> +=,-=,*=,/=,%=\n",
    "   - Membership -> in,not,in\n",
    "   - Identity -> is,is not"
   ]
  },
  {
   "cell_type": "code",
   "execution_count": 2,
   "id": "15290813",
   "metadata": {},
   "outputs": [
    {
     "name": "stdout",
     "output_type": "stream",
     "text": [
      "5\n"
     ]
    }
   ],
   "source": [
    "a = 20\n",
    "print(a>>2)"
   ]
  },
  {
   "cell_type": "markdown",
   "id": "8322f3f0",
   "metadata": {},
   "source": [
    "# Conditional Statements:\n",
    "      - To check whether a given conditions is either true or false\n",
    "      - if,nested if,if-else,elif ladder"
   ]
  },
  {
   "cell_type": "markdown",
   "id": "5805d079",
   "metadata": {},
   "source": [
    "## If -> Single Case[T or F]\n",
    "       - Syntax:\n",
    "            if (condition):\n",
    "            //stmnt"
   ]
  },
  {
   "cell_type": "code",
   "execution_count": 1,
   "id": "70d98a01",
   "metadata": {},
   "outputs": [
    {
     "name": "stdout",
     "output_type": "stream",
     "text": [
      " 45\n",
      "Entered value is: 45\n"
     ]
    }
   ],
   "source": [
    "n = int(input())\n",
    "if n == 45:\n",
    "    print(\"Entered value is: {}\".format(n))"
   ]
  },
  {
   "cell_type": "markdown",
   "id": "f0bc5f97",
   "metadata": {},
   "source": [
    "## If-else -> Two Cases[T or F]\n",
    "       - Syntax:\n",
    "         if (condition 1):\n",
    "           //True statement\n",
    "         else:\n",
    "           //False statement"
   ]
  },
  {
   "cell_type": "code",
   "execution_count": 2,
   "id": "9e4536ca",
   "metadata": {},
   "outputs": [
    {
     "name": "stdout",
     "output_type": "stream",
     "text": [
      "10\n",
      "12\n",
      "Entered values 10 is not equal to 12\n"
     ]
    }
   ],
   "source": [
    "k = int(input())\n",
    "m = int(input())\n",
    "if k == m:\n",
    "    print(\"Entered values {} and {} are Equal\".format(k,m))\n",
    "else:\n",
    "    print(\"Entered values {} is not equal to {}\".format(k,m))"
   ]
  },
  {
   "cell_type": "markdown",
   "id": "469ee595",
   "metadata": {},
   "source": [
    "## Nested if [if within an if] -> one or more cases\n",
    "      Syntax:\n",
    "          if (condition 1):\n",
    "             if(condition 2):\n",
    "                //stmt -1\n",
    "                 \n",
    "           if (condition 1):\n",
    "              if(condition 2):\n",
    "                 //stmt -2\n",
    "           else:\n",
    "               //stmt -3"
   ]
  },
  {
   "cell_type": "code",
   "execution_count": 4,
   "id": "cdc9d219",
   "metadata": {},
   "outputs": [
    {
     "name": "stdout",
     "output_type": "stream",
     "text": [
      "100\n",
      "Entered value 100 is equal to 100\n"
     ]
    }
   ],
   "source": [
    "n = int(input())\n",
    "if (n<=200):\n",
    "    if (n==100):\n",
    "        print(\"Entered value {} is equal to 100\".format(n))\n",
    "    else:\n",
    "        print(\"Entered value {} is not equal to 100 but it is lower than 200\".format(n))\n",
    "else:\n",
    "    print(\"Entered value {} is greater than 200\".format(n))"
   ]
  },
  {
   "cell_type": "markdown",
   "id": "d9bf4daf",
   "metadata": {},
   "source": [
    "## Elif -> Two are more cases\n",
    "\n",
    "     Syntax:\n",
    "         if (condition 1):\n",
    "              //stmt -1\n",
    "         if (condition 2):\n",
    "              //stmt -2\n",
    "         elif (condition -n):\n",
    "              //stmt -n\n",
    "              |||||\n",
    "         else:\n",
    "             //stmt -(n+1)            \n",
    "         "
   ]
  },
  {
   "cell_type": "code",
   "execution_count": 6,
   "id": "b914f676",
   "metadata": {},
   "outputs": [
    {
     "name": "stdout",
     "output_type": "stream",
     "text": [
      "18\n",
      "Entered value 18 is divisible by 2\n"
     ]
    }
   ],
   "source": [
    "h = int(input())\n",
    "if h%2 == 0 and h%4 == 0:\n",
    "    print(\"Entered value {} is divisible by 4\".format(h))\n",
    "elif h%2 == 0 and h%4 == 0:\n",
    "    print(\"Entered value {} is divisible by 2 and 4\".format(h))\n",
    "elif h%2==0:\n",
    "    print(\"Entered value {} is divisible by 2\".format(h))\n",
    "else:\n",
    "    print(\"Entered value {} is not divisible by 2\".format(h))"
   ]
  },
  {
   "cell_type": "code",
   "execution_count": 10,
   "id": "a860fbf4",
   "metadata": {},
   "outputs": [
    {
     "name": "stdout",
     "output_type": "stream",
     "text": [
      "30\n",
      "Entered value 30 is divisible by 2 and 4\n"
     ]
    }
   ],
   "source": [
    "h = int(input())\n",
    "if h%4 == 0:\n",
    "    print(\"Entered value {} is divsible by 4\".format(h))\n",
    "elif h%2 == 0 & h%4 == 0:\n",
    "    print(\"Entered value {} is divisible by 2 and 4\".format(h))\n",
    "elif h%2==0:\n",
    "    print(\"Entered value {} is divisible by 2\".format(h))\n",
    "else:\n",
    "    print(\"Entered value {} is not divisible by 2\".format(h))"
   ]
  },
  {
   "cell_type": "markdown",
   "id": "257ffb18",
   "metadata": {},
   "source": [
    "# Control statements,Iterations,Loops,Repition\n",
    "     - To control the flow of execution \n",
    "     - For,While"
   ]
  },
  {
   "cell_type": "markdown",
   "id": "254aaf62",
   "metadata": {},
   "source": [
    "## For -> For particular Range => [know ranges]\n",
    "    Syntax:\n",
    "         for iteration_variables in iterator:\n",
    "             //stmnts\n",
    "         for iteration_variable in range():\n",
    "              //stmnts"
   ]
  },
  {
   "cell_type": "markdown",
   "id": "e1197b9e",
   "metadata": {},
   "source": [
    "### Range \n",
    "      range(n):\n",
    "          -> By default it starts from 0 t0 n-1\n",
    "          => range(5) => 0,1,2,3,4\n",
    "      range(n,m):\n",
    "          -> Start range will starts from exactly at n  and stops at m-1\n",
    "          -> range(4,8) => 4,5,6,7\n",
    "      range(n,m,5):\n",
    "          -> Start range will starts from exactly at n and stops at m-1 and stepping to s\n",
    "          => range(4,10,2) => 4,6,8"
   ]
  },
  {
   "cell_type": "code",
   "execution_count": 12,
   "id": "bf94dcd7",
   "metadata": {},
   "outputs": [
    {
     "name": "stdout",
     "output_type": "stream",
     "text": [
      "Enter a range value: 10\n",
      "0\n",
      "1\n",
      "2\n",
      "3\n",
      "4\n",
      "5\n",
      "6\n",
      "7\n",
      "8\n",
      "9\n"
     ]
    }
   ],
   "source": [
    "n = int(input(\"Enter a range value: \"))\n",
    "for b in range(n):\n",
    "    print(b)"
   ]
  },
  {
   "cell_type": "code",
   "execution_count": 13,
   "id": "74700565",
   "metadata": {},
   "outputs": [
    {
     "name": "stdout",
     "output_type": "stream",
     "text": [
      "Enter a range value: 8\n",
      "0&1&2&3&4&5&6&7&"
     ]
    }
   ],
   "source": [
    "n = int(input(\"Enter a range value: \"))\n",
    "for b in range(n):\n",
    "    print(b,end=\"&\")"
   ]
  },
  {
   "cell_type": "code",
   "execution_count": 14,
   "id": "cbd473f4",
   "metadata": {},
   "outputs": [
    {
     "name": "stdout",
     "output_type": "stream",
     "text": [
      "Enter a range value: 5\n",
      "0,1,2,3,4,"
     ]
    }
   ],
   "source": [
    "n = int(input(\"Enter a range value: \"))\n",
    "for b in range(n):\n",
    "    print(b,end=\",\")"
   ]
  },
  {
   "cell_type": "code",
   "execution_count": 8,
   "id": "0094d5bf",
   "metadata": {},
   "outputs": [
    {
     "name": "stdout",
     "output_type": "stream",
     "text": [
      "Enter a Starting range value: 50\n",
      "Enter a Ending range value: 100\n",
      "50,51,52,53,54,55,56,57,58,59,60,61,62,63,64,65,66,67,68,69,70,71,72,73,74,75,76,77,78,79,80,81,82,83,84,85,86,87,88,89,90,91,92,93,94,95,96,97,98,99,"
     ]
    }
   ],
   "source": [
    "n = int(input(\"Enter a Starting range value: \"))\n",
    "m = int(input(\"Enter a Ending range value: \"))\n",
    "for b in range(n,m):\n",
    "    print(b,end=\",\")"
   ]
  },
  {
   "cell_type": "code",
   "execution_count": 9,
   "id": "a25edeac",
   "metadata": {},
   "outputs": [
    {
     "name": "stdout",
     "output_type": "stream",
     "text": [
      "Enter a Starting range value: 0\n",
      "Enter a Ending range value: 100\n",
      "Enter a Stepping value: 50\n",
      "0,50,"
     ]
    }
   ],
   "source": [
    "n = int(input(\"Enter a Starting range value: \"))\n",
    "m = int(input(\"Enter a Ending range value: \"))\n",
    "s = int(input(\"Enter a Stepping value: \"))\n",
    "for b in range(n,m,s):\n",
    "    print(b,end=\",\")"
   ]
  },
  {
   "cell_type": "code",
   "execution_count": 12,
   "id": "ff61cc82",
   "metadata": {},
   "outputs": [
    {
     "name": "stdout",
     "output_type": "stream",
     "text": [
      "Enter a Starting range value: 2\n",
      "Enter a Ending range value: 6\n",
      "6,5,4,3,"
     ]
    }
   ],
   "source": [
    "n = int(input(\"Enter a Starting range value: \"))\n",
    "m = int(input(\"Enter a Ending range value: \"))\n",
    "for b in range(m,n,-1):\n",
    "    print(b,end=\",\")"
   ]
  },
  {
   "cell_type": "code",
   "execution_count": 14,
   "id": "2148e716",
   "metadata": {
    "scrolled": true
   },
   "outputs": [
    {
     "name": "stdout",
     "output_type": "stream",
     "text": [
      "Enter a Starting range value: 5\n",
      "Enter a Ending range value: 15\n",
      "Enter a Stepping value: 2\n",
      "15,13,11,9,7,"
     ]
    }
   ],
   "source": [
    "n = int(input(\"Enter a Starting range value: \"))\n",
    "m = int(input(\"Enter a Ending range value: \"))\n",
    "s = int(input(\"Enter a Stepping value: \"))\n",
    "for b in range(m,n,-s):\n",
    "    print(b,end=\",\")"
   ]
  },
  {
   "cell_type": "code",
   "execution_count": null,
   "id": "3f0cdd4a",
   "metadata": {},
   "outputs": [],
   "source": []
  }
 ],
 "metadata": {
  "kernelspec": {
   "display_name": "Python 3",
   "language": "python",
   "name": "python3"
  },
  "language_info": {
   "codemirror_mode": {
    "name": "ipython",
    "version": 3
   },
   "file_extension": ".py",
   "mimetype": "text/x-python",
   "name": "python",
   "nbconvert_exporter": "python",
   "pygments_lexer": "ipython3",
   "version": "3.9.5"
  }
 },
 "nbformat": 4,
 "nbformat_minor": 5
}

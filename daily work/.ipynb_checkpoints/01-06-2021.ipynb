{
 "cells": [
  {
   "cell_type": "markdown",
   "id": "429dbf83",
   "metadata": {},
   "source": [
    "## Python Data structures:\n",
    "        \n",
    "        -List\n",
    "        - Tuple\n",
    "        - Set\n",
    "        - Dictionary"
   ]
  },
  {
   "cell_type": "markdown",
   "id": "409762bf",
   "metadata": {},
   "source": [
    "# List:\n",
    "      - It can stores different data type elements\n",
    "      - It can be defined as square brackets \"[]\" and type casting as \"list()\"\n",
    "      - It consists of index so slicing can be done\n",
    "      - It stores the value in given format\n",
    "      - It can stores duplicate elements\n",
    "      - In this the values can be changed"
   ]
  },
  {
   "cell_type": "markdown",
   "id": "494cf72d",
   "metadata": {},
   "source": [
    "# Tuple:\n",
    "        - It can stores different data type elements\n",
    "        - It can be defined as \"()\" and type casting as \"tuple()\"\n",
    "        - It consists of index and slicing can be done\n",
    "        - In this the values can not change \n",
    "        - It stores the value in given format\n",
    "        - It can stores duplicate elements"
   ]
  },
  {
   "cell_type": "markdown",
   "id": "c7ae280c",
   "metadata": {},
   "source": [
    "# Set:\n",
    "   - It can stores different data type elements\n",
    "   - It can be defined as \"{}\" and type casting as \"set()\" => {a} => set\n",
    "   -It does not consists of index and silcing can't be done\n",
    "   - It stores the value in given format but it prints in alphabetical order\n",
    "   - It can't stores the duplicate elements\n",
    "   - In this the values can be changes"
   ]
  },
  {
   "cell_type": "markdown",
   "id": "d6a1b7b0",
   "metadata": {},
   "source": [
    "# Dictionary:\n",
    "   - It can stores different data type elements but it follows key and value parts\n",
    "   - It can be defined as \"{}\" by default as type casting as \"dicit()\"\n",
    "   - It  consists of index but it can be applicate for either keys or values and slicing can be done\n",
    "   - It stores the value in given format\n",
    "   - It can't stores the duplicate keys but  it stores duplicate values\n",
    "   - In this the values can be changed"
   ]
  },
  {
   "cell_type": "markdown",
   "id": "95113901",
   "metadata": {},
   "source": [
    "## List:"
   ]
  },
  {
   "cell_type": "code",
   "execution_count": 1,
   "id": "0c796b1d",
   "metadata": {},
   "outputs": [
    {
     "name": "stdout",
     "output_type": "stream",
     "text": [
      "[23, 45.26, 'salma', 23, 'siri']\n"
     ]
    }
   ],
   "source": [
    "k = [23,45.26,\"salma\",23,\"siri\"]\n",
    "print(k)"
   ]
  },
  {
   "cell_type": "code",
   "execution_count": 2,
   "id": "39c5e046",
   "metadata": {},
   "outputs": [
    {
     "name": "stdout",
     "output_type": "stream",
     "text": [
      "[23, 45.26, 'salma', 23, 'siri'] <class 'list'>\n"
     ]
    }
   ],
   "source": [
    "k = [23,45.26,\"salma\",23,\"siri\"]\n",
    "print(k,type(k))"
   ]
  },
  {
   "cell_type": "code",
   "execution_count": 3,
   "id": "378528b6",
   "metadata": {},
   "outputs": [
    {
     "name": "stdout",
     "output_type": "stream",
     "text": [
      "<class 'int'>\n"
     ]
    }
   ],
   "source": [
    "a = 15\n",
    "print(type(a))"
   ]
  },
  {
   "cell_type": "code",
   "execution_count": 4,
   "id": "119a91a3",
   "metadata": {},
   "outputs": [
    {
     "name": "stdout",
     "output_type": "stream",
     "text": [
      "salma\n"
     ]
    }
   ],
   "source": [
    "print(k[2])"
   ]
  },
  {
   "cell_type": "code",
   "execution_count": 7,
   "id": "8870ac3a",
   "metadata": {},
   "outputs": [
    {
     "name": "stdout",
     "output_type": "stream",
     "text": [
      "siri\n",
      "siri\n",
      "salma\n"
     ]
    }
   ],
   "source": [
    "print(k[4])\n",
    "print(k[-1])\n",
    "print(k[-3])"
   ]
  },
  {
   "cell_type": "code",
   "execution_count": 8,
   "id": "694a2510",
   "metadata": {},
   "outputs": [
    {
     "name": "stdout",
     "output_type": "stream",
     "text": [
      "<class 'list'>\n"
     ]
    }
   ],
   "source": [
    "print(type(k))"
   ]
  },
  {
   "cell_type": "code",
   "execution_count": 9,
   "id": "e31a521c",
   "metadata": {},
   "outputs": [
    {
     "name": "stdout",
     "output_type": "stream",
     "text": [
      "['__add__', '__class__', '__class_getitem__', '__contains__', '__delattr__', '__delitem__', '__dir__', '__doc__', '__eq__', '__format__', '__ge__', '__getattribute__', '__getitem__', '__gt__', '__hash__', '__iadd__', '__imul__', '__init__', '__init_subclass__', '__iter__', '__le__', '__len__', '__lt__', '__mul__', '__ne__', '__new__', '__reduce__', '__reduce_ex__', '__repr__', '__reversed__', '__rmul__', '__setattr__', '__setitem__', '__sizeof__', '__str__', '__subclasshook__', 'append', 'clear', 'copy', 'count', 'extend', 'index', 'insert', 'pop', 'remove', 'reverse', 'sort']\n"
     ]
    }
   ],
   "source": [
    "print(dir(k))"
   ]
  },
  {
   "cell_type": "code",
   "execution_count": 10,
   "id": "8cde0e27",
   "metadata": {},
   "outputs": [
    {
     "name": "stdout",
     "output_type": "stream",
     "text": [
      "['__add__', '__class__', '__class_getitem__', '__contains__', '__delattr__', '__delitem__', '__dir__', '__doc__', '__eq__', '__format__', '__ge__', '__getattribute__', '__getitem__', '__gt__', '__hash__', '__iadd__', '__imul__', '__init__', '__init_subclass__', '__iter__', '__le__', '__len__', '__lt__', '__mul__', '__ne__', '__new__', '__reduce__', '__reduce_ex__', '__repr__', '__reversed__', '__rmul__', '__setattr__', '__setitem__', '__sizeof__', '__str__', '__subclasshook__', 'append', 'clear', 'copy', 'count', 'extend', 'index', 'insert', 'pop', 'remove', 'reverse', 'sort']\n"
     ]
    }
   ],
   "source": [
    "print(dir(list))"
   ]
  },
  {
   "cell_type": "code",
   "execution_count": 13,
   "id": "bdc8db6d",
   "metadata": {},
   "outputs": [
    {
     "name": "stdout",
     "output_type": "stream",
     "text": [
      "[45, 78.56]\n",
      "salma\n",
      "[45, 78.56, 'salma']\n"
     ]
    }
   ],
   "source": [
    "m = [45,78.56]\n",
    "print(m)\n",
    "n = input()\n",
    "m.append(n)\n",
    "print(m)"
   ]
  },
  {
   "cell_type": "code",
   "execution_count": 14,
   "id": "17f700ed",
   "metadata": {},
   "outputs": [
    {
     "data": {
      "text/plain": [
       "[45, 78.56, 'salma']"
      ]
     },
     "execution_count": 14,
     "metadata": {},
     "output_type": "execute_result"
    }
   ],
   "source": [
    "m"
   ]
  },
  {
   "cell_type": "code",
   "execution_count": 18,
   "id": "a4080db7",
   "metadata": {},
   "outputs": [
    {
     "name": "stdout",
     "output_type": "stream",
     "text": [
      "['rama', 45, 148.2] <class 'list'>\n",
      "['rama', 45, 148.2]\n",
      "['rama', 45, 148.2, 'Prasad']\n",
      "['rama', 45, 148.2]\n",
      "['rama', 45, 148.2, 'Prasad']\n",
      "['rama', 45, 148.2, 'Krish']\n"
     ]
    }
   ],
   "source": [
    "n = [\"rama\",45,148.20]\n",
    "b = n.copy()\n",
    "print(b,type(b))\n",
    "print(n)\n",
    "n.append(\"Prasad\")\n",
    "print(n)\n",
    "print(b)\n",
    "b.append(\"Krish\")\n",
    "print(n)\n",
    "print(b)"
   ]
  },
  {
   "cell_type": "code",
   "execution_count": 31,
   "id": "72b0425f",
   "metadata": {},
   "outputs": [
    {
     "name": "stdout",
     "output_type": "stream",
     "text": [
      "12 count is: 2\n",
      "15 count is: 1\n",
      "12 count is: 2\n",
      "78 count is: 1\n",
      "salma count is: 1\n",
      "89 count is: 1\n",
      "siri count is: 1\n"
     ]
    }
   ],
   "source": [
    "p = [12,15,12,78,'salma',89,'siri']\n",
    "#print(p.count(p))\n",
    "#print(p.count(12))\n",
    "for n in p:\n",
    "    print(\"{} count is: {}\".format(n,p.count(n)))"
   ]
  },
  {
   "cell_type": "code",
   "execution_count": 33,
   "id": "22642a4b",
   "metadata": {
    "scrolled": true
   },
   "outputs": [
    {
     "name": "stdout",
     "output_type": "stream",
     "text": [
      "0\n",
      "1\n",
      "2\n",
      "3\n",
      "4\n",
      "5\n",
      "6\n"
     ]
    }
   ],
   "source": [
    "for p in range(len(p)):\n",
    "    print(p)"
   ]
  },
  {
   "cell_type": "code",
   "execution_count": 37,
   "id": "8cf454a3",
   "metadata": {},
   "outputs": [
    {
     "name": "stdout",
     "output_type": "stream",
     "text": [
      "[78, 89.214, 'salma', 'somu', 'tejasri', 'rudransh']\n",
      "['somu', 'tejasri', 'rudransh']\n",
      "[78, 89.214, 'salma', 'somu', 'tejasri', 'rudransh']\n",
      "['somu', 'tejasri', 'rudransh', 200]\n"
     ]
    }
   ],
   "source": [
    "v = [78,89.214,\"salma\"]\n",
    "b = [\"somu\",\"tejasri\",\"rudransh\"]\n",
    "v.extend(b)\n",
    "print(v)\n",
    "print(b)\n",
    "b.append(200)\n",
    "print(v)\n",
    "print(b)"
   ]
  },
  {
   "cell_type": "code",
   "execution_count": 41,
   "id": "630696ab",
   "metadata": {},
   "outputs": [
    {
     "name": "stdout",
     "output_type": "stream",
     "text": [
      "0\n"
     ]
    }
   ],
   "source": [
    "print(v.index(78))"
   ]
  },
  {
   "cell_type": "code",
   "execution_count": 42,
   "id": "b63a9646",
   "metadata": {},
   "outputs": [
    {
     "name": "stdout",
     "output_type": "stream",
     "text": [
      "['Salma', 12, 15, 19, 750]\n"
     ]
    }
   ],
   "source": [
    "x = [12,15,19,750]\n",
    "x.insert(0,\"Salma\")\n",
    "print(x)"
   ]
  },
  {
   "cell_type": "code",
   "execution_count": 46,
   "id": "7652aae7",
   "metadata": {},
   "outputs": [
    {
     "name": "stdout",
     "output_type": "stream",
     "text": [
      "Built-in mutable sequence.\n",
      "\n",
      "If no argument is given, the constructor creates a new empty list.\n",
      "The argument must be an iterable if specified.\n"
     ]
    }
   ],
   "source": [
    "print(list.__doc__)"
   ]
  },
  {
   "cell_type": "code",
   "execution_count": 47,
   "id": "eaea8d46",
   "metadata": {},
   "outputs": [
    {
     "name": "stdout",
     "output_type": "stream",
     "text": [
      "Insert object before index.\n"
     ]
    }
   ],
   "source": [
    "print(list.insert.__doc__)"
   ]
  },
  {
   "cell_type": "code",
   "execution_count": 48,
   "id": "536e495e",
   "metadata": {},
   "outputs": [
    {
     "name": "stdout",
     "output_type": "stream",
     "text": [
      "Return number of occurrences of value.\n"
     ]
    }
   ],
   "source": [
    "print(list.count.__doc__)"
   ]
  },
  {
   "cell_type": "code",
   "execution_count": 50,
   "id": "f8e4dfa0",
   "metadata": {},
   "outputs": [
    {
     "name": "stdout",
     "output_type": "stream",
     "text": [
      "Help on method_descriptor:\n",
      "\n",
      "insert(self, index, object, /)\n",
      "    Insert object before index.\n",
      "\n"
     ]
    }
   ],
   "source": [
    "help(list.insert)"
   ]
  },
  {
   "cell_type": "code",
   "execution_count": 62,
   "id": "7fb0b487",
   "metadata": {},
   "outputs": [
    {
     "data": {
      "text/plain": [
       "[]"
      ]
     },
     "execution_count": 62,
     "metadata": {},
     "output_type": "execute_result"
    }
   ],
   "source": [
    "x"
   ]
  },
  {
   "cell_type": "code",
   "execution_count": 63,
   "id": "684784e4",
   "metadata": {},
   "outputs": [
    {
     "name": "stdout",
     "output_type": "stream",
     "text": [
      "[45, 86, 12, 76, 'salma', 'Rudransh', 'teja']\n"
     ]
    }
   ],
   "source": [
    "y = [45,86,12,76,\"salma\",\"Rudransh\",\"teja\"]\n",
    "print(y)"
   ]
  },
  {
   "cell_type": "code",
   "execution_count": 64,
   "id": "d8caba96",
   "metadata": {},
   "outputs": [
    {
     "name": "stdout",
     "output_type": "stream",
     "text": [
      "[45, 86, 12, 76, 'salma', 'Rudransh', 'teja']\n",
      "[45, 86, 12, 'salma', 'Rudransh', 'teja']\n"
     ]
    }
   ],
   "source": [
    "print(y)\n",
    "y.remove(76)\n",
    "print(y)"
   ]
  },
  {
   "cell_type": "code",
   "execution_count": 65,
   "id": "d5fde756",
   "metadata": {},
   "outputs": [
    {
     "name": "stdout",
     "output_type": "stream",
     "text": [
      "[45, 86, 12, 'salma', 'Rudransh', 'teja']\n",
      "['teja', 'Rudransh', 'salma', 12, 86, 45]\n"
     ]
    }
   ],
   "source": [
    "print(y)\n",
    "y.reverse()\n",
    "print(y)"
   ]
  },
  {
   "cell_type": "code",
   "execution_count": 66,
   "id": "52ed4051",
   "metadata": {},
   "outputs": [
    {
     "name": "stdout",
     "output_type": "stream",
     "text": [
      "['teja', 'Rudransh', 'salma', 12, 86, 45]\n"
     ]
    },
    {
     "ename": "TypeError",
     "evalue": "'<' not supported between instances of 'int' and 'str'",
     "output_type": "error",
     "traceback": [
      "\u001b[1;31m---------------------------------------------------------------------------\u001b[0m",
      "\u001b[1;31mTypeError\u001b[0m                                 Traceback (most recent call last)",
      "\u001b[1;32m<ipython-input-66-39374b4c5f1c>\u001b[0m in \u001b[0;36m<module>\u001b[1;34m\u001b[0m\n\u001b[0;32m      1\u001b[0m \u001b[0mprint\u001b[0m\u001b[1;33m(\u001b[0m\u001b[0my\u001b[0m\u001b[1;33m)\u001b[0m\u001b[1;33m\u001b[0m\u001b[1;33m\u001b[0m\u001b[0m\n\u001b[1;32m----> 2\u001b[1;33m \u001b[0my\u001b[0m\u001b[1;33m.\u001b[0m\u001b[0msort\u001b[0m\u001b[1;33m(\u001b[0m\u001b[1;33m)\u001b[0m\u001b[1;33m\u001b[0m\u001b[1;33m\u001b[0m\u001b[0m\n\u001b[0m\u001b[0;32m      3\u001b[0m \u001b[0mprint\u001b[0m\u001b[1;33m(\u001b[0m\u001b[0my\u001b[0m\u001b[1;33m)\u001b[0m\u001b[1;33m\u001b[0m\u001b[1;33m\u001b[0m\u001b[0m\n",
      "\u001b[1;31mTypeError\u001b[0m: '<' not supported between instances of 'int' and 'str'"
     ]
    }
   ],
   "source": [
    "print(y)\n",
    "y.sort()\n",
    "print(y)"
   ]
  },
  {
   "cell_type": "code",
   "execution_count": 67,
   "id": "ea98d28e",
   "metadata": {},
   "outputs": [
    {
     "name": "stdout",
     "output_type": "stream",
     "text": [
      "[45, 2, 34, 1]\n",
      "[1, 2, 34, 45]\n"
     ]
    }
   ],
   "source": [
    "p = [45,2,34,1]\n",
    "print(p)\n",
    "p.sort()\n",
    "print(p)"
   ]
  },
  {
   "cell_type": "code",
   "execution_count": 68,
   "id": "a836bf8b",
   "metadata": {},
   "outputs": [
    {
     "name": "stdout",
     "output_type": "stream",
     "text": [
      "[45.0215, 2.012, 34.996, 1.0]\n",
      "[1.0, 2.012, 34.996, 45.0215]\n"
     ]
    }
   ],
   "source": [
    "k = [45.0215,2.012,34.996,1.00]\n",
    "print(k)\n",
    "k.sort()\n",
    "print(k)"
   ]
  },
  {
   "cell_type": "code",
   "execution_count": 70,
   "id": "63c1efed",
   "metadata": {},
   "outputs": [
    {
     "name": "stdout",
     "output_type": "stream",
     "text": [
      "['salma', 'karshima', 'rama', 'zeeshan']\n",
      "['karshima', 'rama', 'salma', 'zeeshan']\n"
     ]
    }
   ],
   "source": [
    "s = [\"salma\",\"karshima\",\"rama\",\"zeeshan\"]\n",
    "print(s)\n",
    "s.sort()\n",
    "print(s)"
   ]
  },
  {
   "cell_type": "code",
   "execution_count": 71,
   "id": "eed09282",
   "metadata": {},
   "outputs": [
    {
     "data": {
      "text/plain": [
       "['karshima', 'rama', 'salma', 'zeeshan']"
      ]
     },
     "execution_count": 71,
     "metadata": {},
     "output_type": "execute_result"
    }
   ],
   "source": [
    "sorted(s)"
   ]
  },
  {
   "cell_type": "code",
   "execution_count": 72,
   "id": "d1b6f286",
   "metadata": {},
   "outputs": [
    {
     "name": "stdout",
     "output_type": "stream",
     "text": [
      "['karshima', 'rama', 'salma', 'zeeshan']\n"
     ]
    }
   ],
   "source": [
    "print(s)"
   ]
  },
  {
   "cell_type": "code",
   "execution_count": 75,
   "id": "6ef0e753",
   "metadata": {},
   "outputs": [
    {
     "name": "stdout",
     "output_type": "stream",
     "text": [
      "[45, 2, 200]\n",
      "[2, 45, 200]\n"
     ]
    }
   ],
   "source": [
    "d = [45,2,200]\n",
    "f = sorted(d)\n",
    "print(d)\n",
    "print(f)"
   ]
  },
  {
   "cell_type": "code",
   "execution_count": 77,
   "id": "278fb89b",
   "metadata": {},
   "outputs": [
    {
     "name": "stdout",
     "output_type": "stream",
     "text": [
      "[45, 2, 200]\n",
      "[]\n"
     ]
    }
   ],
   "source": [
    "print(d)\n",
    "d.clear()\n",
    "print(d)"
   ]
  },
  {
   "cell_type": "code",
   "execution_count": 78,
   "id": "56a569c4",
   "metadata": {},
   "outputs": [
    {
     "name": "stdout",
     "output_type": "stream",
     "text": [
      "[44, 78, 96]\n"
     ]
    },
    {
     "ename": "NameError",
     "evalue": "name 'f' is not defined",
     "output_type": "error",
     "traceback": [
      "\u001b[1;31m---------------------------------------------------------------------------\u001b[0m",
      "\u001b[1;31mNameError\u001b[0m                                 Traceback (most recent call last)",
      "\u001b[1;32m<ipython-input-78-5493dd0c841e>\u001b[0m in \u001b[0;36m<module>\u001b[1;34m\u001b[0m\n\u001b[0;32m      2\u001b[0m \u001b[0mprint\u001b[0m\u001b[1;33m(\u001b[0m\u001b[0mf\u001b[0m\u001b[1;33m)\u001b[0m\u001b[1;33m\u001b[0m\u001b[1;33m\u001b[0m\u001b[0m\n\u001b[0;32m      3\u001b[0m \u001b[1;32mdel\u001b[0m \u001b[0mf\u001b[0m\u001b[1;33m\u001b[0m\u001b[1;33m\u001b[0m\u001b[0m\n\u001b[1;32m----> 4\u001b[1;33m \u001b[0mprint\u001b[0m\u001b[1;33m(\u001b[0m\u001b[0mf\u001b[0m\u001b[1;33m)\u001b[0m\u001b[1;33m\u001b[0m\u001b[1;33m\u001b[0m\u001b[0m\n\u001b[0m",
      "\u001b[1;31mNameError\u001b[0m: name 'f' is not defined"
     ]
    }
   ],
   "source": [
    "f = [44,78,96]\n",
    "print(f)\n",
    "del f\n",
    "print(f)"
   ]
  },
  {
   "cell_type": "markdown",
   "id": "28365d1b",
   "metadata": {},
   "source": [
    "## Tuple:\n"
   ]
  },
  {
   "cell_type": "code",
   "execution_count": 79,
   "id": "d62bbe9e",
   "metadata": {},
   "outputs": [
    {
     "name": "stdout",
     "output_type": "stream",
     "text": [
      "(12, 47, 79.5678, 'salma') <class 'tuple'>\n"
     ]
    }
   ],
   "source": [
    "s = (12,47,79.5678,\"salma\")\n",
    "print(s,type(s))"
   ]
  },
  {
   "cell_type": "code",
   "execution_count": 80,
   "id": "fada38f0",
   "metadata": {},
   "outputs": [
    {
     "name": "stdout",
     "output_type": "stream",
     "text": [
      "['__add__', '__class__', '__class_getitem__', '__contains__', '__delattr__', '__dir__', '__doc__', '__eq__', '__format__', '__ge__', '__getattribute__', '__getitem__', '__getnewargs__', '__gt__', '__hash__', '__init__', '__init_subclass__', '__iter__', '__le__', '__len__', '__lt__', '__mul__', '__ne__', '__new__', '__reduce__', '__reduce_ex__', '__repr__', '__rmul__', '__setattr__', '__sizeof__', '__str__', '__subclasshook__', 'count', 'index']\n"
     ]
    }
   ],
   "source": [
    "print(dir(tuple))"
   ]
  },
  {
   "cell_type": "code",
   "execution_count": 82,
   "id": "50dc4420",
   "metadata": {},
   "outputs": [
    {
     "name": "stdout",
     "output_type": "stream",
     "text": [
      "(12, 47, 79.5678, 'salma')\n",
      "1\n",
      "(12, 47, 79.5678, 'salma')\n"
     ]
    }
   ],
   "source": [
    "print(s)\n",
    "print(s.count(12))\n",
    "print(s)"
   ]
  },
  {
   "cell_type": "code",
   "execution_count": 83,
   "id": "9576fd04",
   "metadata": {},
   "outputs": [
    {
     "data": {
      "text/plain": [
       "1"
      ]
     },
     "execution_count": 83,
     "metadata": {},
     "output_type": "execute_result"
    }
   ],
   "source": [
    "s.index(47)"
   ]
  },
  {
   "cell_type": "code",
   "execution_count": 84,
   "id": "d4ab33d5",
   "metadata": {},
   "outputs": [
    {
     "name": "stdout",
     "output_type": "stream",
     "text": [
      "[45, 78, 96, 56] <class 'list'>\n",
      "(45, 56, 78, 96)\n"
     ]
    }
   ],
   "source": [
    "p = (45,78,96,56)\n",
    "d = list(p)\n",
    "print(d,type(d))\n",
    "d.sort()\n",
    "q = tuple(d)\n",
    "print(q)"
   ]
  },
  {
   "cell_type": "code",
   "execution_count": null,
   "id": "5c68d9f1",
   "metadata": {},
   "outputs": [],
   "source": []
  }
 ],
 "metadata": {
  "kernelspec": {
   "display_name": "Python 3",
   "language": "python",
   "name": "python3"
  },
  "language_info": {
   "codemirror_mode": {
    "name": "ipython",
    "version": 3
   },
   "file_extension": ".py",
   "mimetype": "text/x-python",
   "name": "python",
   "nbconvert_exporter": "python",
   "pygments_lexer": "ipython3",
   "version": "3.9.5"
  }
 },
 "nbformat": 4,
 "nbformat_minor": 5
}

{
 "cells": [
  {
   "cell_type": "code",
   "execution_count": null,
   "id": "ca11dbcf",
   "metadata": {},
   "outputs": [],
   "source": [
    "....\n",
    "Input:10\n",
    "Output:\n",
    "        19KQ1A0523\n",
    "        | | | | |\n",
    "        19KQ1A0523\n",
    "////        "
   ]
  },
  {
   "cell_type": "code",
   "execution_count": 3,
   "id": "eb1dd1d0",
   "metadata": {},
   "outputs": [
    {
     "name": "stdout",
     "output_type": "stream",
     "text": [
      "10\n",
      "0\n",
      "1\n",
      "2\n",
      "3\n",
      "4\n",
      "5\n",
      "6\n",
      "7\n",
      "8\n",
      "9\n"
     ]
    }
   ],
   "source": [
    " n = int(input())\n",
    "for j in range(n):\n",
    "    print(j)"
   ]
  },
  {
   "cell_type": "code",
   "execution_count": 4,
   "id": "bd7302c1",
   "metadata": {},
   "outputs": [
    {
     "name": "stdout",
     "output_type": "stream",
     "text": [
      "5\n",
      "00\n",
      "01\n",
      "02\n",
      "03\n",
      "04\n"
     ]
    }
   ],
   "source": [
    " n = int(input())\n",
    "for j in range(n):\n",
    "    print(\"{:02}\".format(j))"
   ]
  },
  {
   "cell_type": "code",
   "execution_count": 5,
   "id": "b6732e10",
   "metadata": {},
   "outputs": [
    {
     "name": "stdout",
     "output_type": "stream",
     "text": [
      "5\n",
      "19KQ1A0500\n",
      "19KQ1A0501\n",
      "19KQ1A0502\n",
      "19KQ1A0503\n",
      "19KQ1A0504\n"
     ]
    }
   ],
   "source": [
    " n = int(input())\n",
    "for j in range(n):\n",
    "    print(\"19KQ1A05{:02}\".format(j))"
   ]
  },
  {
   "cell_type": "code",
   "execution_count": null,
   "id": "bb71858d",
   "metadata": {},
   "outputs": [],
   "source": [
    "{} -> .format(?)\n",
    "{01} -> .format(?)\n",
    "{02} -> 10 -> [1-9] -> :03"
   ]
  },
  {
   "cell_type": "markdown",
   "id": "bcf55830",
   "metadata": {},
   "source": [
    "## While -> Unknown ranges,Know ranges\n",
    " `````\n",
    "     Syntax:\n",
    "          variable init\n",
    "          while (condition):\n",
    "               //stmnt\n",
    "               // incr/decr\n",
    "  ``````             "
   ]
  },
  {
   "cell_type": "code",
   "execution_count": 31,
   "id": "e2d21055",
   "metadata": {},
   "outputs": [
    {
     "name": "stdout",
     "output_type": "stream",
     "text": [
      "10\n"
     ]
    }
   ],
   "source": [
    "n = int(input())\n",
    "while n!=10:\n",
    "        print(n,end=\" \")\n",
    "        n = n-1"
   ]
  },
  {
   "cell_type": "code",
   "execution_count": 32,
   "id": "5f6223bd",
   "metadata": {},
   "outputs": [
    {
     "name": "stdout",
     "output_type": "stream",
     "text": [
      "20\n",
      "1 2 3 4 5 6 7 8 9 10 11 12 13 14 15 16 17 18 19 "
     ]
    }
   ],
   "source": [
    "m = int(input())\n",
    "i = 1\n",
    "while m!=i:\n",
    "    print(i,end=\" \")\n",
    "    i = i+1"
   ]
  },
  {
   "cell_type": "markdown",
   "id": "6c54b7d0",
   "metadata": {},
   "source": [
    "`````\n",
    "Input : 1259\n",
    "Output:\n",
    "    Given number is: 1259\n",
    "    reverse of a number is: 9521\n",
    "    Given number is 1259 and its reverse is: 9521  \n",
    "`````        "
   ]
  },
  {
   "cell_type": "code",
   "execution_count": 2,
   "id": "49f7b30b",
   "metadata": {},
   "outputs": [
    {
     "name": "stdout",
     "output_type": "stream",
     "text": [
      "1259\n",
      "125\n"
     ]
    }
   ],
   "source": [
    "n = int(input())\n",
    "print(n//10)"
   ]
  },
  {
   "cell_type": "code",
   "execution_count": 4,
   "id": "4283c8d2",
   "metadata": {},
   "outputs": [
    {
     "name": "stdout",
     "output_type": "stream",
     "text": [
      "1259\n",
      "Given number is: 0\n"
     ]
    }
   ],
   "source": [
    "n = int(input())\n",
    "r = 0\n",
    "while n!=0:\n",
    "    r = r*10+n%10\n",
    "    n//=10\n",
    "print(\"Given number is: {}\".format(n))    "
   ]
  },
  {
   "cell_type": "code",
   "execution_count": 4,
   "id": "430f1d7d",
   "metadata": {},
   "outputs": [
    {
     "name": "stdout",
     "output_type": "stream",
     "text": [
      "1259\n",
      "Given number is: 1259\n",
      "Reverse of a number is: 9521\n",
      "Given number is 1259 and its reverse is: 9521\n"
     ]
    }
   ],
   "source": [
    "n = int(input())\n",
    "r = 0\n",
    "p = n\n",
    "while n!=0:\n",
    "    r = r*10+n%10\n",
    "    n//=10\n",
    "print(\"Given number is: {}\\nReverse of a number is: {}\\nGiven number is {} and its reverse is: {}\".format(p,r,p,r))    "
   ]
  },
  {
   "cell_type": "markdown",
   "id": "b03dd034",
   "metadata": {},
   "source": [
    "## Jumping Statements:\n",
    "        - break ->exit\n",
    "        - continue -> skip\n",
    "        - pass -> skip nothing will be printed\n",
    "        - return -> values to be sent for functions"
   ]
  },
  {
   "cell_type": "code",
   "execution_count": 6,
   "id": "536355e3",
   "metadata": {},
   "outputs": [
    {
     "name": "stdout",
     "output_type": "stream",
     "text": [
      "11\n",
      "0,1,2,3,4,5,6,7,8,9,10,11,"
     ]
    }
   ],
   "source": [
    "n = int(input())\n",
    "for k in range(n+1):\n",
    "    print(k,end=\",\")"
   ]
  },
  {
   "cell_type": "code",
   "execution_count": 7,
   "id": "d7a008cc",
   "metadata": {},
   "outputs": [
    {
     "name": "stdout",
     "output_type": "stream",
     "text": [
      "100\n",
      "0 1 2 3 4 /n 5\n"
     ]
    }
   ],
   "source": [
    "n = int(input())\n",
    "for h in range(n):\n",
    "    if h == 5:\n",
    "        break\n",
    "    else:\n",
    "        print(h,end=\" \")\n",
    "print(\"/n\",h)        "
   ]
  },
  {
   "cell_type": "code",
   "execution_count": 11,
   "id": "5e8d8379",
   "metadata": {},
   "outputs": [
    {
     "name": "stdout",
     "output_type": "stream",
     "text": [
      "25\n",
      "0 1 2 3 4 6 7 8 9 10 11 12 13 14 15 16 17 18 19 20 21 22 23 24 \n",
      " 24\n"
     ]
    }
   ],
   "source": [
    "n = int(input())\n",
    "for h in range(n):\n",
    "    if h == 5:\n",
    "        continue\n",
    "    else:\n",
    "        print(h,end=\" \")\n",
    "print(\"\\n\",h)        "
   ]
  },
  {
   "cell_type": "code",
   "execution_count": 10,
   "id": "658d150b",
   "metadata": {},
   "outputs": [
    {
     "name": "stdout",
     "output_type": "stream",
     "text": [
      "25\n",
      "0,1,2,3,4,5,6,7,8,9,11,12,13,14,15,16,17,18,19,20,21,22,23,24,"
     ]
    }
   ],
   "source": [
    "n = int(input())\n",
    "for b in range(n):\n",
    "    if b == 10:\n",
    "        pass\n",
    "    else:\n",
    "        print(b,end=\",\")"
   ]
  },
  {
   "cell_type": "code",
   "execution_count": 12,
   "id": "148bd67d",
   "metadata": {},
   "outputs": [
    {
     "name": "stdout",
     "output_type": "stream",
     "text": [
      "pass executed\n",
      "s\n",
      "a\n",
      "l\n",
      "m\n",
      "a\n"
     ]
    }
   ],
   "source": [
    "for i in 'salma':\n",
    "    if(i == 's'):\n",
    "        print('pass executed')\n",
    "        pass\n",
    "    print(i)"
   ]
  },
  {
   "cell_type": "code",
   "execution_count": 14,
   "id": "4d02a0a3",
   "metadata": {},
   "outputs": [
    {
     "name": "stdout",
     "output_type": "stream",
     "text": [
      "s\n",
      "a\n",
      "continue executed\n",
      "m\n",
      "a\n"
     ]
    }
   ],
   "source": [
    "for i in 'salma':\n",
    "    if(i == 'l'):\n",
    "        print('continue executed')\n",
    "        continue\n",
    "    print(i)"
   ]
  },
  {
   "cell_type": "code",
   "execution_count": null,
   "id": "1f06c244",
   "metadata": {},
   "outputs": [],
   "source": [
    "function():\n",
    "    //stmts\n",
    "    pass\n",
    "    return"
   ]
  },
  {
   "cell_type": "markdown",
   "id": "2e8d8b84",
   "metadata": {},
   "source": [
    "## Inner Loops:\n",
    "       - Loop within a loop\n",
    "       \n",
    "````````\n",
    "     Syntax:\n",
    "         for in range():\n",
    "             for j in range():\n",
    "                  if(condition -n):\n",
    "                       //stmnts\n",
    "                  else:\n",
    "                       //stmnts\n",
    "                print(\"\\n\")\n",
    "\n",
    "`````````"
   ]
  },
  {
   "cell_type": "markdown",
   "id": "9eddc2bc",
   "metadata": {},
   "source": [
    "````````\n",
    "1 - 31\n",
    "r - 5\n",
    "c - 7\n",
    "\n",
    "step-1\n",
    "01 02 03 04 05 06 07\n",
    "08 09 10 11 12 13 14\n",
    "15 16 17 18 19 20 21 \n",
    "22 23 24 25 26 27 28\n",
    "29 30 31\n",
    "\n",
    "step - 2\n",
    "01 ** 03 ** 05 ** 07\n",
    "** 09 ** 11 ** 13 **\n",
    "15 ** 17 ** 19 ** 21 \n",
    "** 23 ** 25 ** 27 28\n",
    "29 30 31\n",
    "````````"
   ]
  },
  {
   "cell_type": "code",
   "execution_count": 17,
   "id": "3aabcd21",
   "metadata": {},
   "outputs": [
    {
     "name": "stdout",
     "output_type": "stream",
     "text": [
      "1 2 3 4 5 6 7 \n",
      "8 9 10 11 12 13 14 \n",
      "15 16 17 18 19 20 21 \n",
      "22 23 24 25 26 27 28 \n",
      "29 30 31 32 33 34 35 \n"
     ]
    }
   ],
   "source": [
    "a = 1\n",
    "for i in range(1,6):\n",
    "    for j in range(1,8):\n",
    "        print(a,end=\" \")\n",
    "        a+=1\n",
    "    print(end=\"\\n\")    "
   ]
  },
  {
   "cell_type": "code",
   "execution_count": 19,
   "id": "9d0e2028",
   "metadata": {},
   "outputs": [
    {
     "name": "stdout",
     "output_type": "stream",
     "text": [
      "01 02 03 04 05 06 07 \n",
      "08 09 10 11 12 13 14 \n",
      "15 16 17 18 19 20 21 \n",
      "22 23 24 25 26 27 28 \n",
      "29 30 31 \n"
     ]
    }
   ],
   "source": [
    "a = 1\n",
    "for i in range(1,6):\n",
    "    for j in range(1,8):\n",
    "        if a<=31:\n",
    "            print(\"{:02}\".format(a),end=\" \")\n",
    "        else:\n",
    "            break\n",
    "        a+=1\n",
    "    print(end=\"\\n\")    "
   ]
  },
  {
   "cell_type": "code",
   "execution_count": 30,
   "id": "43dda1f0",
   "metadata": {},
   "outputs": [
    {
     "name": "stdout",
     "output_type": "stream",
     "text": [
      "01 ** 03 ** 05 ** 07 \n",
      "** 09 ** 11 ** 13 ** \n",
      "15 ** 17 ** 19 ** 21 \n",
      "** 23 ** 25 ** 27 ** \n",
      "29 ** 31 \n"
     ]
    }
   ],
   "source": [
    "a = 1\n",
    "for i in range(1,6):\n",
    "    for j in range(1,8):\n",
    "        if a<=31:\n",
    "            if a%2==0:\n",
    "                print(\"**\",end=\" \")\n",
    "            else:    \n",
    "                print(\"{:02}\".format(a),end=\" \")\n",
    "        else:\n",
    "            break\n",
    "        a+=1\n",
    "    print(end=\"\\n\")    "
   ]
  },
  {
   "cell_type": "code",
   "execution_count": 22,
   "id": "30a5301d",
   "metadata": {},
   "outputs": [
    {
     "name": "stdout",
     "output_type": "stream",
     "text": [
      "01 ** 03 ** ## ** 07 \n",
      "** 09 ## 11 ** 13 ** \n",
      "## ** 17 ** 19 ## 21 \n",
      "** 23 ** ## ** 27 ** \n",
      "29 ## 31 \n"
     ]
    }
   ],
   "source": [
    "a = 1\n",
    "for i in range(1,6):\n",
    "    for j in range(1,8):\n",
    "        if a<=31:\n",
    "            if a%5==0:\n",
    "                print(\"##\",end=\" \")\n",
    "            elif a%2==0:\n",
    "                print(\"**\",end=\" \")\n",
    "            else:    \n",
    "                print(\"{:02}\".format(a),end=\" \")\n",
    "        else:\n",
    "            break\n",
    "        a+=1\n",
    "    print(end=\"\\n\")    "
   ]
  },
  {
   "cell_type": "code",
   "execution_count": 23,
   "id": "a0aff842",
   "metadata": {},
   "outputs": [
    {
     "name": "stdout",
     "output_type": "stream",
     "text": [
      "01 ** () ** ## ** 07 \n",
      "** () ## 11 ** 13 ** \n",
      "## ** 17 ** 19 ## () \n",
      "** 23 ** ## ** () ** \n",
      "29 ## 31 \n"
     ]
    }
   ],
   "source": [
    "a = 1\n",
    "for i in range(1,6):\n",
    "    for j in range(1,8):\n",
    "        if a<=31:\n",
    "            if a%5==0:\n",
    "                print(\"##\",end=\" \")\n",
    "            elif a%2==0:\n",
    "                print(\"**\",end=\" \")\n",
    "            elif a%3==0:\n",
    "                print(\"()\",end=\" \")\n",
    "            else:    \n",
    "                print(\"{:02}\".format(a),end=\" \")\n",
    "        else:\n",
    "            break\n",
    "        a+=1\n",
    "    print(end=\"\\n\")    "
   ]
  },
  {
   "cell_type": "code",
   "execution_count": 24,
   "id": "745fb33d",
   "metadata": {},
   "outputs": [
    {
     "name": "stdout",
     "output_type": "stream",
     "text": [
      "[] ** () ** ## ** [] \n",
      "** () ## [] ** [] ** \n",
      "## ** [] ** [] ## () \n",
      "** [] ** ## ** () ** \n",
      "[] ## [] \n"
     ]
    }
   ],
   "source": [
    "a = 1\n",
    "for i in range(1,6):\n",
    "    for j in range(1,8):\n",
    "        if a<=31:\n",
    "            if a%5==0:\n",
    "                print(\"##\",end=\" \")\n",
    "            elif a%2==0:\n",
    "                print(\"**\",end=\" \")\n",
    "            elif a%3==0:\n",
    "                print(\"()\",end=\" \")\n",
    "            else:    \n",
    "                print(\"[]\",end=\" \")\n",
    "        else:\n",
    "            break\n",
    "        a+=1\n",
    "    print(end=\"\\n\")    "
   ]
  },
  {
   "cell_type": "code",
   "execution_count": 25,
   "id": "55979fbc",
   "metadata": {},
   "outputs": [
    {
     "name": "stdout",
     "output_type": "stream",
     "text": [
      "[] ** || ** ## ** [] \n",
      "** () || [] ** [] ** \n",
      "## ** || ** [] ## () \n",
      "** [] || ## ** () ** \n",
      "[] ## || \n"
     ]
    }
   ],
   "source": [
    "a = 1\n",
    "for i in range(1,6):\n",
    "    for j in range(1,8):\n",
    "        if j == 3:\n",
    "            print(\"||\",end=\" \")\n",
    "        elif a<=31:\n",
    "            if a%5==0:\n",
    "                print(\"##\",end=\" \")\n",
    "            elif a%2==0:\n",
    "                print(\"**\",end=\" \")\n",
    "            elif a%3==0:\n",
    "                print(\"()\",end=\" \")\n",
    "            else:    \n",
    "                print(\"[]\",end=\" \")\n",
    "        else:\n",
    "            break\n",
    "        a+=1\n",
    "    print(end=\"\\n\")    "
   ]
  },
  {
   "cell_type": "code",
   "execution_count": 27,
   "id": "4ee27d08",
   "metadata": {},
   "outputs": [
    {
     "name": "stdout",
     "output_type": "stream",
     "text": [
      "[] ** || ** ## ** [] \n",
      "&& && && && && && && \n",
      "## ** || ** [] ## () \n",
      "** [] || ## ** () ** \n",
      "[] ## || \n"
     ]
    }
   ],
   "source": [
    "a = 1\n",
    "for i in range(1,6):\n",
    "    for j in range(1,8):\n",
    "        if i == 2:\n",
    "            print(\"&&\",end=\" \")\n",
    "        elif j == 3:\n",
    "            print(\"||\",end=\" \")\n",
    "        elif a<=31:\n",
    "            if a%5==0:\n",
    "                print(\"##\",end=\" \")\n",
    "            elif a%2==0:\n",
    "                print(\"**\",end=\" \")\n",
    "            elif a%3==0:\n",
    "                print(\"()\",end=\" \")\n",
    "            else:    \n",
    "                print(\"[]\",end=\" \")\n",
    "        else:\n",
    "            break\n",
    "        a+=1\n",
    "    print(end=\"\\n\")    "
   ]
  },
  {
   "cell_type": "code",
   "execution_count": null,
   "id": "121f4464",
   "metadata": {},
   "outputs": [],
   "source": []
  },
  {
   "cell_type": "code",
   "execution_count": null,
   "id": "31f46ce0",
   "metadata": {},
   "outputs": [],
   "source": []
  }
 ],
 "metadata": {
  "kernelspec": {
   "display_name": "Python 3",
   "language": "python",
   "name": "python3"
  },
  "language_info": {
   "codemirror_mode": {
    "name": "ipython",
    "version": 3
   },
   "file_extension": ".py",
   "mimetype": "text/x-python",
   "name": "python",
   "nbconvert_exporter": "python",
   "pygments_lexer": "ipython3",
   "version": "3.9.5"
  }
 },
 "nbformat": 4,
 "nbformat_minor": 5
}

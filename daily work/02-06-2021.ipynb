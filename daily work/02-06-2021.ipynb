{
 "cells": [
  {
   "cell_type": "markdown",
   "id": "35c03014",
   "metadata": {},
   "source": [
    "# Strings:\n",
    "  - It can be represent within a ' or \" and we can represent other data types enclosed with ' or \"\n",
    "  - It can be typecasted as str()\n",
    "  - It has index and slicing can be done\n",
    "  - It can be changes the character but it doesnt effect to original string"
   ]
  },
  {
   "cell_type": "code",
   "execution_count": 1,
   "id": "1f2635b7",
   "metadata": {},
   "outputs": [
    {
     "name": "stdout",
     "output_type": "stream",
     "text": [
      "APSSDC Internship\n"
     ]
    }
   ],
   "source": [
    "n = \"APSSDC Internship\"\n",
    "print(n)"
   ]
  },
  {
   "cell_type": "code",
   "execution_count": null,
   "id": "abd772c8",
   "metadata": {},
   "outputs": [],
   "source": [
    "range(a)\n",
    "range(a,b)\n",
    "range(a,b,c)\n",
    "inclusive range -> exact index\n",
    "exclusive range -> given index range -1"
   ]
  },
  {
   "cell_type": "code",
   "execution_count": 9,
   "id": "c0e9259b",
   "metadata": {},
   "outputs": [
    {
     "name": "stdout",
     "output_type": "stream",
     "text": [
      "APSSDC Internship\n",
      "C\n",
      "h\n",
      "APSSDC Internship\n",
      "SDC Internship\n",
      "APSSDC Int\n",
      "C Inter\n",
      "PSSDC Inter\n",
      "terns\n",
      "\n",
      "e\n",
      "erns\n"
     ]
    }
   ],
   "source": [
    "print(n)\n",
    "print(n[5])\n",
    "print(n[-3])\n",
    "print(n[:])\n",
    "print(n[3:])\n",
    "print(n[:10])\n",
    "print(n[5:12])\n",
    "print(n[1:-5])\n",
    "print(n[9:-3])\n",
    "print(n[-2:9])\n",
    "print(n[-7:11])\n",
    "print(n[-7:-3])"
   ]
  },
  {
   "cell_type": "code",
   "execution_count": 23,
   "id": "5b2fade8",
   "metadata": {},
   "outputs": [
    {
     "name": "stdout",
     "output_type": "stream",
     "text": [
      "APSSDC Internship\n",
      "APSSDC Internship\n",
      "ASD nenhp\n",
      "phnen DSA\n",
      "pseIDP\n",
      "Cnrh\n",
      "CS\n",
      "eIDP\n",
      " Int\n",
      "rns\n",
      "Inter\n",
      "DC Interns\n",
      "Cn\n",
      "CIt\n"
     ]
    }
   ],
   "source": [
    "print(n)\n",
    "print(n[::])\n",
    "print(n[::2])\n",
    "print(n[::-2])\n",
    "print(n[::-3])\n",
    "print(n[5::3])\n",
    "print(n[5::-3])\n",
    "print(n[10::-3])\n",
    "print(n[6:10:])\n",
    "print(n[-6:14:])\n",
    "print(n[-10:-5:])\n",
    "print(n[4:-3])\n",
    "print(n[5:10:3])\n",
    "print(n[5:-7:2])"
   ]
  },
  {
   "cell_type": "code",
   "execution_count": 11,
   "id": "2339e410",
   "metadata": {},
   "outputs": [
    {
     "name": "stdout",
     "output_type": "stream",
     "text": [
      "239718249687402397326492374 <class 'str'>\n",
      "473294623793204786942817932 <class 'int'>\n"
     ]
    }
   ],
   "source": [
    "m = str(239718249687402397326492374)\n",
    "print(m,type(m))\n",
    "k = int(m[::-1])\n",
    "print(k,type(k))"
   ]
  },
  {
   "cell_type": "code",
   "execution_count": 31,
   "id": "cfa259f8",
   "metadata": {},
   "outputs": [
    {
     "name": "stdout",
     "output_type": "stream",
     "text": [
      "APSSDC Programs\n",
      "S SDC Progra m\n",
      "APS SDC Progra ms\n",
      "AP SSDC Progra ms\n"
     ]
    }
   ],
   "source": [
    "n = input()\n",
    "print(n[3]+\" \"+n[3:-2]+\" \"+n[-2])\n",
    "print(n[0:3]+\" \"+n[3:-2]+\" \"+n[-2:])\n",
    "print(n[0:2]+\" \"+n[2:-2]+\" \"+n[-2:])"
   ]
  },
  {
   "cell_type": "code",
   "execution_count": 29,
   "id": "937e5bac",
   "metadata": {},
   "outputs": [
    {
     "name": "stdout",
     "output_type": "stream",
     "text": [
      "ms\n"
     ]
    }
   ],
   "source": [
    "m = \"APSSDC Programs\"\n",
    "print(m[-2:])"
   ]
  },
  {
   "cell_type": "code",
   "execution_count": 30,
   "id": "d7acec2f",
   "metadata": {},
   "outputs": [
    {
     "name": "stdout",
     "output_type": "stream",
     "text": [
      "APSSDC Programs\n"
     ]
    }
   ],
   "source": [
    "print(n)"
   ]
  },
  {
   "cell_type": "code",
   "execution_count": 32,
   "id": "16a7e5d0",
   "metadata": {},
   "outputs": [
    {
     "name": "stdout",
     "output_type": "stream",
     "text": [
      "['__add__', '__class__', '__contains__', '__delattr__', '__dir__', '__doc__', '__eq__', '__format__', '__ge__', '__getattribute__', '__getitem__', '__getnewargs__', '__gt__', '__hash__', '__init__', '__init_subclass__', '__iter__', '__le__', '__len__', '__lt__', '__mod__', '__mul__', '__ne__', '__new__', '__reduce__', '__reduce_ex__', '__repr__', '__rmod__', '__rmul__', '__setattr__', '__sizeof__', '__str__', '__subclasshook__', 'capitalize', 'casefold', 'center', 'count', 'encode', 'endswith', 'expandtabs', 'find', 'format', 'format_map', 'index', 'isalnum', 'isalpha', 'isascii', 'isdecimal', 'isdigit', 'isidentifier', 'islower', 'isnumeric', 'isprintable', 'isspace', 'istitle', 'isupper', 'join', 'ljust', 'lower', 'lstrip', 'maketrans', 'partition', 'removeprefix', 'removesuffix', 'replace', 'rfind', 'rindex', 'rjust', 'rpartition', 'rsplit', 'rstrip', 'split', 'splitlines', 'startswith', 'strip', 'swapcase', 'title', 'translate', 'upper', 'zfill']\n"
     ]
    }
   ],
   "source": [
    "print(dir(str))"
   ]
  },
  {
   "cell_type": "code",
   "execution_count": 37,
   "id": "2fc2dc7d",
   "metadata": {},
   "outputs": [
    {
     "name": "stdout",
     "output_type": "stream",
     "text": [
      "Welcome to APSSDC Programs\n",
      "Welcome to apssdc programs\n",
      "welcome to apssdc programs\n",
      "Welcome To Apssdc Programs\n",
      "wELCOME TO apssdc pROGRAMS\n"
     ]
    }
   ],
   "source": [
    "b = \"Welcome to APSSDC Programs\"\n",
    "print(b)\n",
    "print(b.capitalize())\n",
    "print(b.casefold())\n",
    "print(b.title())\n",
    "print(b.swapcase())"
   ]
  },
  {
   "cell_type": "code",
   "execution_count": 40,
   "id": "5a479742",
   "metadata": {},
   "outputs": [
    {
     "name": "stdout",
     "output_type": "stream",
     "text": [
      "Welcome to APSSDC Programs\n",
      "WELCOME TO APSSDC PROGRAMS\n",
      "welcome to apssdc programs\n",
      "False\n",
      "True\n"
     ]
    }
   ],
   "source": [
    "print(b)\n",
    "print(b.upper())\n",
    "print(b.lower())\n",
    "print(b.startswith('a'))\n",
    "print(b.endswith('s'))"
   ]
  },
  {
   "cell_type": "code",
   "execution_count": 57,
   "id": "63c28f7f",
   "metadata": {},
   "outputs": [
    {
     "name": "stdout",
     "output_type": "stream",
     "text": [
      "Welcome to APSSDC Programs\n",
      "['Welcome', 'to', 'APSSDC', 'Programs']\n",
      "['W', 'lcom', ' to APSSDC Programs']\n",
      "['W', 'lcom', ' to APSSDC Programs']\n",
      "2\n",
      "1\n",
      "-1\n",
      "6\n",
      "12\n",
      "18\n"
     ]
    }
   ],
   "source": [
    "print(b)\n",
    "print(b.split())\n",
    "print(b.split('e'))\n",
    "print(b.rsplit('e'))\n",
    "print(b.count('e'))\n",
    "print(b.find('e'))\n",
    "print(b.find('z'))\n",
    "print(b.rfind('e'))\n",
    "print(b.index('P'))\n",
    "print(b.rindex('P'))\n",
    "#print(b.index('P')) it will shows error"
   ]
  },
  {
   "cell_type": "code",
   "execution_count": 45,
   "id": "a72a2105",
   "metadata": {},
   "outputs": [
    {
     "name": "stdout",
     "output_type": "stream",
     "text": [
      "1 5 89 456 88989 345 \n",
      "['1 ', ' 89 4', '6 88989 34', ' ']\n"
     ]
    }
   ],
   "source": [
    "n = input().split('5')\n",
    "print(n)"
   ]
  },
  {
   "cell_type": "code",
   "execution_count": 46,
   "id": "062d11ae",
   "metadata": {},
   "outputs": [
    {
     "name": "stdout",
     "output_type": "stream",
     "text": [
      "salma siri karrru \n",
      "['salma', 'siri', 'karrru']\n"
     ]
    }
   ],
   "source": [
    "n = input().split()\n",
    "print(n)"
   ]
  },
  {
   "cell_type": "code",
   "execution_count": 67,
   "id": "a708c1b9",
   "metadata": {},
   "outputs": [
    {
     "name": "stdout",
     "output_type": "stream",
     "text": [
      "        sample\n",
      "Ramu krish        \n",
      "sample\n",
      "Ramu krish\n",
      "sample\n",
      "Ramu krish\n"
     ]
    }
   ],
   "source": [
    "d = \"        sample\"\n",
    "e = \"Ramu krish        \"\n",
    "print(d)\n",
    "print(e)\n",
    "print(d.strip())\n",
    "print(e.strip())\n",
    "print(d.lstrip())\n",
    "print(e.rstrip())"
   ]
  },
  {
   "cell_type": "code",
   "execution_count": 66,
   "id": "03590a7c",
   "metadata": {},
   "outputs": [
    {
     "name": "stdout",
     "output_type": "stream",
     "text": [
      "        sample\n",
      "        sample                                    \n",
      "Ramu krish                                        \n",
      "                                                                sample\n",
      "                                                    Ramu krish        \n",
      "00Ramu krish        \n"
     ]
    }
   ],
   "source": [
    "print(d)\n",
    "print(d.ljust(50))\n",
    "print(e.ljust(50))\n",
    "print(d.rjust(70))\n",
    "print(e.rjust(70))\n",
    "print(e.zfill(20))"
   ]
  },
  {
   "cell_type": "code",
   "execution_count": 72,
   "id": "db1fa2f4",
   "metadata": {},
   "outputs": [
    {
     "name": "stdout",
     "output_type": "stream",
     "text": [
      "apssdc\n",
      "APSSDC\n",
      "APSSDC\n"
     ]
    }
   ],
   "source": [
    "z = \"APSSDC\"\n",
    "print(z.lower())\n",
    "print(z.upper())\n",
    "f = z.upper()\n",
    "print(f)"
   ]
  },
  {
   "cell_type": "code",
   "execution_count": 75,
   "id": "a39373ac",
   "metadata": {},
   "outputs": [
    {
     "name": "stdout",
     "output_type": "stream",
     "text": [
      "APSSDC\n",
      "xPSSDC\n",
      "000000        sample\n",
      "AAAAAA        sample\n"
     ]
    }
   ],
   "source": [
    "print(z)\n",
    "print(z.replace('A','x'))\n",
    "g = d.zfill(20)\n",
    "print(g)\n",
    "print(g.replace('0','A'))"
   ]
  },
  {
   "cell_type": "code",
   "execution_count": 76,
   "id": "43b365c9",
   "metadata": {},
   "outputs": [
    {
     "name": "stdout",
     "output_type": "stream",
     "text": [
      "R u d r a n s h  \n",
      "Rudransh \n"
     ]
    }
   ],
   "source": [
    "k = \"Rudransh \"\n",
    "a = \" \".join(k)\n",
    "print(a)\n",
    "print(k)"
   ]
  },
  {
   "cell_type": "code",
   "execution_count": 78,
   "id": "e1f2c312",
   "metadata": {},
   "outputs": [
    {
     "name": "stdout",
     "output_type": "stream",
     "text": [
      "34-45-789\n",
      "['34', '45', '789']\n"
     ]
    }
   ],
   "source": [
    "t = [\"34\",'45','789']\n",
    "g = \"-\".join(t)\n",
    "print(g)\n",
    "print(t)"
   ]
  },
  {
   "cell_type": "code",
   "execution_count": 82,
   "id": "9e795513",
   "metadata": {},
   "outputs": [
    {
     "name": "stdout",
     "output_type": "stream",
     "text": [
      "19kq1a0523-salma-pace\n",
      "['19kq1a0523', 'salma', 'pace']\n",
      "19kq1a0523\n",
      "10\n"
     ]
    },
    {
     "ename": "IndexError",
     "evalue": "list index out of range",
     "output_type": "error",
     "traceback": [
      "\u001b[1;31m---------------------------------------------------------------------------\u001b[0m",
      "\u001b[1;31mIndexError\u001b[0m                                Traceback (most recent call last)",
      "\u001b[1;32m<ipython-input-82-41bfa6da0200>\u001b[0m in \u001b[0;36m<module>\u001b[1;34m\u001b[0m\n\u001b[0;32m      4\u001b[0m \u001b[0mprint\u001b[0m\u001b[1;33m(\u001b[0m\u001b[0mlen\u001b[0m\u001b[1;33m(\u001b[0m\u001b[0mn\u001b[0m\u001b[1;33m[\u001b[0m\u001b[1;36m0\u001b[0m\u001b[1;33m]\u001b[0m\u001b[1;33m)\u001b[0m\u001b[1;33m)\u001b[0m\u001b[1;33m\u001b[0m\u001b[1;33m\u001b[0m\u001b[0m\n\u001b[0;32m      5\u001b[0m \u001b[0mp\u001b[0m \u001b[1;33m=\u001b[0m \u001b[0mn\u001b[0m\u001b[1;33m[\u001b[0m\u001b[1;36m2\u001b[0m\u001b[1;33m]\u001b[0m\u001b[1;33m.\u001b[0m\u001b[0msplit\u001b[0m\u001b[1;33m(\u001b[0m\u001b[1;33m)\u001b[0m\u001b[1;33m\u001b[0m\u001b[1;33m\u001b[0m\u001b[0m\n\u001b[1;32m----> 6\u001b[1;33m \u001b[0mprint\u001b[0m\u001b[1;33m(\u001b[0m\u001b[0mn\u001b[0m\u001b[1;33m[\u001b[0m\u001b[1;36m1\u001b[0m\u001b[1;33m]\u001b[0m\u001b[1;33m+\u001b[0m\u001b[1;34m\" \"\u001b[0m\u001b[1;33m+\u001b[0m\u001b[0mp\u001b[0m\u001b[1;33m[\u001b[0m\u001b[1;36m1\u001b[0m\u001b[1;33m]\u001b[0m\u001b[1;33m)\u001b[0m\u001b[1;33m\u001b[0m\u001b[1;33m\u001b[0m\u001b[0m\n\u001b[0m",
      "\u001b[1;31mIndexError\u001b[0m: list index out of range"
     ]
    }
   ],
   "source": [
    "n = input().split(\"-\")\n",
    "print(n)\n",
    "print(n[0])\n",
    "print(len(n[0]))\n",
    "p = n[2].split()\n",
    "print(n[1]+\" \"+p[1])"
   ]
  },
  {
   "cell_type": "code",
   "execution_count": 83,
   "id": "ff4a105e",
   "metadata": {},
   "outputs": [
    {
     "name": "stdout",
     "output_type": "stream",
     "text": [
      "1 4 5 s y f g \" & * "
     ]
    }
   ],
   "source": [
    "k = '145syfg\"&*'\n",
    "for i in k:\n",
    "    print(i,end=\" \")"
   ]
  },
  {
   "cell_type": "code",
   "execution_count": 85,
   "id": "ce691de0",
   "metadata": {},
   "outputs": [
    {
     "name": "stdout",
     "output_type": "stream",
     "text": [
      "False\n",
      "False\n"
     ]
    }
   ],
   "source": [
    "print(k.isalpha())\n",
    "print(k.isalnum())"
   ]
  },
  {
   "cell_type": "code",
   "execution_count": 87,
   "id": "c6036270",
   "metadata": {},
   "outputs": [
    {
     "name": "stdout",
     "output_type": "stream",
     "text": [
      "True\n",
      "True\n"
     ]
    }
   ],
   "source": [
    "u = \"1235667huttg\"\n",
    "i = \"AWdrt\"\n",
    "print(u.isalnum())\n",
    "print(i.isalpha())"
   ]
  },
  {
   "cell_type": "markdown",
   "id": "20e1bbb9",
   "metadata": {},
   "source": [
    "```````\n",
    "Input: 145syfg&*$#\n",
    "    \n",
    "Output: \n",
    "    given string is: 145sfg&*$#\n",
    "    alphabet in 145syfg&*$# is: s y f g\n",
    "    numbers in 145syfg&*$# is: 1 4 5\n",
    "    special charcters in 145syfg&*$# is: & * $ #\n",
    "    \n",
    "``````````    "
   ]
  },
  {
   "cell_type": "code",
   "execution_count": 89,
   "id": "2f8f29b8",
   "metadata": {},
   "outputs": [
    {
     "name": "stdout",
     "output_type": "stream",
     "text": [
      "Given string is: 145sfg&*$#\n",
      "False\n",
      "False\n",
      "False\n",
      "True\n"
     ]
    }
   ],
   "source": [
    "s = input(\"Given string is: \")\n",
    "print(s.isalnum())\n",
    "print(s.isalpha())\n",
    "print(s.isnumeric())\n",
    "print(s.isascii())"
   ]
  },
  {
   "cell_type": "markdown",
   "id": "e5b48246",
   "metadata": {},
   "source": [
    "## Task:"
   ]
  },
  {
   "cell_type": "code",
   "execution_count": 1,
   "id": "66a45333",
   "metadata": {},
   "outputs": [
    {
     "name": "stdout",
     "output_type": "stream",
     "text": [
      "Given string is: 145syfg&*$#\n",
      "Numbers is: 1\n",
      "Numbers is: 4\n",
      "Numbers is: 5\n",
      "Alphabets is: s\n",
      "Alphabets is: y\n",
      "Alphabets is: f\n",
      "Alphabets is: g\n",
      "Special characters is: &\n",
      "Special characters is: *\n",
      "Special characters is: $\n",
      "Special characters is: #\n"
     ]
    }
   ],
   "source": [
    "s = input(\"Given string is: \")\n",
    "for i in s:\n",
    "    if  i in\"123445677889\":\n",
    "        print(\"Numbers is:\",i)\n",
    "    elif i.isalpha():\n",
    "        print(\"Alphabets is:\",i)\n",
    "    elif i in \"!@#$%^&*\":\n",
    "        print(\"Special characters is:\",i)\n",
    "    else:\n",
    "        print(\"not available\")         "
   ]
  },
  {
   "cell_type": "code",
   "execution_count": null,
   "id": "55ac7572",
   "metadata": {},
   "outputs": [],
   "source": []
  }
 ],
 "metadata": {
  "kernelspec": {
   "display_name": "Python 3",
   "language": "python",
   "name": "python3"
  },
  "language_info": {
   "codemirror_mode": {
    "name": "ipython",
    "version": 3
   },
   "file_extension": ".py",
   "mimetype": "text/x-python",
   "name": "python",
   "nbconvert_exporter": "python",
   "pygments_lexer": "ipython3",
   "version": "3.9.5"
  }
 },
 "nbformat": 4,
 "nbformat_minor": 5
}

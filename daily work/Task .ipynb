{
 "cells": [
  {
   "cell_type": "markdown",
   "id": "1d045fc2",
   "metadata": {},
   "source": [
    "`````````````\n",
    "\n",
    "Input: 145syfg&*$#\n",
    "\n",
    "Output: \n",
    "    given string is: 145sfg&*$#\n",
    "    alphabet in 145syfg&*$# is: s y f g\n",
    "    numbers in 145syfg&*$# is: 1 4 5\n",
    "    special charcters in 145syfg&*$# is: & * $ #\n",
    "    \n",
    "    \n",
    "``````````````````    "
   ]
  },
  {
   "cell_type": "code",
   "execution_count": 1,
   "id": "2bdcfb7f",
   "metadata": {},
   "outputs": [
    {
     "name": "stdout",
     "output_type": "stream",
     "text": [
      "Given string is: 145syfg&*$#\n",
      "False\n",
      "False\n",
      "False\n",
      "True\n"
     ]
    }
   ],
   "source": [
    "s = input(\"Given string is: \")\n",
    "print(s.isalnum())\n",
    "print(s.isalpha())\n",
    "print(s.isnumeric())\n",
    "print(s.isascii())"
   ]
  },
  {
   "cell_type": "code",
   "execution_count": 2,
   "id": "30e8c95c",
   "metadata": {},
   "outputs": [
    {
     "name": "stdout",
     "output_type": "stream",
     "text": [
      "Given string is: 145syfg&*$#\n",
      "Numbers is: 1\n",
      "Numbers is: 4\n",
      "Numbers is: 5\n",
      "Alphabets is: s\n",
      "Alphabets is: y\n",
      "Alphabets is: f\n",
      "Alphabets is: g\n",
      "Special characters is: &\n",
      "Special characters is: *\n",
      "Special characters is: $\n",
      "Special characters is: #\n"
     ]
    }
   ],
   "source": [
    "s = input(\"Given string is: \")\n",
    "for i in s:\n",
    "    if  i in\"123445677889\":\n",
    "        print(\"Numbers is:\",i)\n",
    "    elif i.isalpha():\n",
    "        print(\"Alphabets is:\",i)\n",
    "    elif i in \"!@#$%^&*\":\n",
    "        print(\"Special characters is:\",i)\n",
    "    else:\n",
    "        print(\"not available\")         "
   ]
  },
  {
   "cell_type": "markdown",
   "id": "2925e8d6",
   "metadata": {},
   "source": [
    "# Task-2:"
   ]
  },
  {
   "cell_type": "markdown",
   "id": "e6ee1c87",
   "metadata": {},
   "source": [
    "``````````\n",
    "\n",
    "Input: 4579965488895\n",
    "Output:\n",
    "    Given number is: 457996548895\n",
    "    Even numbers are: 4 6 4 8 8 \n",
    "    Odd numbers are: 5 7 9 9 5 9 5 \n",
    "    \n",
    "``````````````    "
   ]
  },
  {
   "cell_type": "code",
   "execution_count": 7,
   "id": "3f921f07",
   "metadata": {},
   "outputs": [
    {
     "name": "stdout",
     "output_type": "stream",
     "text": [
      "457996548895\n",
      "given number:  457996548895\n",
      "odd numbers are:  ['5', '7', '9', '9', '5', '9', '5']\n",
      "even numbers are:  ['4', '6', '4', '8', '8']\n"
     ]
    }
   ],
   "source": [
    "def number(n):\n",
    "    odd=[]\n",
    "    even=[]\n",
    "    for i in n:\n",
    "        if int(i)%2==0:\n",
    "            even.append(i)\n",
    "        else:\n",
    "            odd.append(i)\n",
    "    print(\"given number: \",n)\n",
    "    print(\"odd numbers are: \",odd)\n",
    "    print(\"even numbers are: \",even)\n",
    "n=input()\n",
    "number(n)\n"
   ]
  },
  {
   "cell_type": "code",
   "execution_count": null,
   "id": "7fd08702",
   "metadata": {},
   "outputs": [],
   "source": []
  }
 ],
 "metadata": {
  "kernelspec": {
   "display_name": "Python 3",
   "language": "python",
   "name": "python3"
  },
  "language_info": {
   "codemirror_mode": {
    "name": "ipython",
    "version": 3
   },
   "file_extension": ".py",
   "mimetype": "text/x-python",
   "name": "python",
   "nbconvert_exporter": "python",
   "pygments_lexer": "ipython3",
   "version": "3.9.5"
  }
 },
 "nbformat": 4,
 "nbformat_minor": 5
}

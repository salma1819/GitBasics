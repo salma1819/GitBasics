{
 "cells": [
  {
   "cell_type": "markdown",
   "id": "cb45cdb6",
   "metadata": {},
   "source": [
    "# Functions:\n",
    "        - To perform a specific task\n",
    "        - Resuseability of code\n",
    "        - Number of lines can be decreased\n",
    "        - Predefined Functions,user defined functions\n",
    "        "
   ]
  },
  {
   "cell_type": "markdown",
   "id": "4f8bd350",
   "metadata": {},
   "source": [
    "## Predefined Functions:\n",
    "       - Already work has been allocated for it\n",
    "       - print(),range(),int(),str(),max()"
   ]
  },
  {
   "cell_type": "markdown",
   "id": "eea7356b",
   "metadata": {},
   "source": [
    "## User Defined Functions:\n",
    "        - we need to allocate work for a function\n",
    "        - syntax:\n",
    "                 def function_name(arguments):\n",
    "                    //stmts\n",
    "                  return return_value  "
   ]
  },
  {
   "cell_type": "markdown",
   "id": "44ec663e",
   "metadata": {},
   "source": [
    "### Types of Functions:\n",
    "         - With return type and with arguments\n",
    "         - With return type and without arguments\n",
    "         - without return type and with arguments\n",
    "         - without return type and without arguments"
   ]
  },
  {
   "cell_type": "code",
   "execution_count": 7,
   "id": "ab8ee4d4",
   "metadata": {},
   "outputs": [
    {
     "name": "stdout",
     "output_type": "stream",
     "text": [
      "17\n",
      "17\n"
     ]
    }
   ],
   "source": [
    "# With return type and with arguments\n",
    "# reading - main\n",
    "# printing - main\n",
    "# logic -function\n",
    "\n",
    "def printnumbers(k):\n",
    "    j =[]\n",
    "    for b in range(1,k+1):\n",
    "        j.append(b)\n",
    "    return j\n",
    "n = int(input())\n",
    "print(len(printnumbers(n)))"
   ]
  },
  {
   "cell_type": "code",
   "execution_count": 5,
   "id": "90d94913",
   "metadata": {},
   "outputs": [
    {
     "name": "stdout",
     "output_type": "stream",
     "text": [
      "20\n",
      "1 2 3 4 5 6 7 8 9 10 11 12 13 14 15 16 17 18 19 20 "
     ]
    }
   ],
   "source": [
    "def printnumbers(k):\n",
    "    j =[]\n",
    "    for b in range(1,k+1):\n",
    "        j.append(b)\n",
    "    return j\n",
    "n = int(input())\n",
    "for z in range(1,len(printnumbers(n))+1):\n",
    "    print(z,end=\" \")"
   ]
  },
  {
   "cell_type": "code",
   "execution_count": 14,
   "id": "0daaf65f",
   "metadata": {},
   "outputs": [
    {
     "name": "stdout",
     "output_type": "stream",
     "text": [
      "20\n",
      "2 4 6 8 10 12 14 16 18 20 "
     ]
    }
   ],
   "source": [
    "# With return type and without arguments\n",
    "# reading - main\n",
    "# printing - main\n",
    "# logic -function\n",
    "\n",
    "def evennumbers():\n",
    "    k,c = int(input()),[]\n",
    "    for b in range(1,k+1):\n",
    "        if b%2 == 0:\n",
    "            c.append(b)\n",
    "    return c\n",
    "for z in evennumbers():\n",
    "    print(z,end=\" \")"
   ]
  },
  {
   "cell_type": "code",
   "execution_count": 12,
   "id": "95dd677f",
   "metadata": {},
   "outputs": [
    {
     "name": "stdout",
     "output_type": "stream",
     "text": [
      "14\n",
      "1 3 5 7 9 11 13 15 17 19 "
     ]
    }
   ],
   "source": [
    "# Without return type and with arguments\n",
    "# reading - main\n",
    "# printing - main\n",
    "# logic -function\n",
    "\n",
    "def oddnumbers():\n",
    "    for i in range(1,m+1):\n",
    "        if i%2!=0:\n",
    "            print(i,end=\" \")\n",
    "    return\n",
    "\n",
    "b = int(input())\n",
    "oddnumbers()"
   ]
  },
  {
   "cell_type": "code",
   "execution_count": 16,
   "id": "b9eeb696",
   "metadata": {},
   "outputs": [
    {
     "name": "stdout",
     "output_type": "stream",
     "text": [
      "20\n",
      "100\n",
      "15\n",
      "20 35 50 65 80 95 "
     ]
    }
   ],
   "source": [
    "# Without return type and without arguments\n",
    "# reading - main\n",
    "# printing - main\n",
    "# logic -function\n",
    "\n",
    "def skippingvalues():\n",
    "    n = int(input())\n",
    "    m = int(input())\n",
    "    s = int(input())\n",
    "    for j in range(n,m,s):\n",
    "        print(j,end=\" \")\n",
    "    return\n",
    "skippingvalues()"
   ]
  },
  {
   "cell_type": "markdown",
   "id": "8dc5091a",
   "metadata": {},
   "source": [
    "````````\n",
    "Input: 4579965488895\n",
    "Output:\n",
    "    Given number is: 457996548895\n",
    "    Even numbers are: 4 6 4 8 8 \n",
    "    Odd numbers are: 5 7 9 9 5 9 5\n",
    "        \n",
    "``````````        "
   ]
  },
  {
   "cell_type": "code",
   "execution_count": 5,
   "id": "9c4ebc24",
   "metadata": {},
   "outputs": [
    {
     "name": "stdout",
     "output_type": "stream",
     "text": [
      "457996548895\n",
      "given number:  457996548895\n",
      "odd numbers are:  ['4', '6', '4', '8', '8']\n",
      "even numbers are:  ['5', '7', '9', '9', '5', '9', '5']\n"
     ]
    }
   ],
   "source": [
    "def number(n):\n",
    "    odd=[]\n",
    "    even=[]\n",
    "    for i in n:\n",
    "        if int(i)%2==0:\n",
    "            odd.append(i)\n",
    "        else:\n",
    "            even.append(i)\n",
    "    print(\"given number: \",n)\n",
    "    print(\"odd numbers are: \",odd)\n",
    "    print(\"even numbers are: \",even)\n",
    "n=input()\n",
    "number(n)\n"
   ]
  },
  {
   "cell_type": "markdown",
   "id": "1fe2c5f3",
   "metadata": {},
   "source": [
    "## Arguments Types:\n",
    "      - Requried arguments\n",
    "      - Default arguments\n",
    "      - Keyword arguments\n",
    "      - Variable length arguments"
   ]
  },
  {
   "cell_type": "code",
   "execution_count": 4,
   "id": "6ea55ad1",
   "metadata": {},
   "outputs": [
    {
     "name": "stdout",
     "output_type": "stream",
     "text": [
      "Enter a name: salma\n",
      "Enter an age: 20\n",
      "your name is: 20\n",
      "your age is: salma\n"
     ]
    }
   ],
   "source": [
    "# requried arguments\n",
    "def student(a,n):\n",
    "    print(\"your name is: {}\\nyour age is: {}\".format(age,name))\n",
    "    return\n",
    "name = input(\"Enter a name: \")\n",
    "age = int(input(\"Enter an age: \"))\n",
    "student(name,age)"
   ]
  },
  {
   "cell_type": "code",
   "execution_count": 11,
   "id": "08c44d09",
   "metadata": {},
   "outputs": [
    {
     "name": "stdout",
     "output_type": "stream",
     "text": [
      "Enter Employee Name: salma\n",
      "Enter Employee Age: 20\n",
      "Employee name is: salma\n",
      "Employee is: 20\n",
      "Employee salary is: 45000\n"
     ]
    }
   ],
   "source": [
    "# default arguments\n",
    "def employee(k,p,s=45000):\n",
    "    print(\"Employee name is: {}\\nEmployee is: {}\\nEmployee salary is: {}\".format(k,p,s))\n",
    "    return\n",
    "n = input(\"Enter Employee Name: \")\n",
    "m = int(input(\"Enter Employee Age: \"))\n",
    "employee(n,m)"
   ]
  },
  {
   "cell_type": "code",
   "execution_count": 20,
   "id": "0b9453db",
   "metadata": {},
   "outputs": [
    {
     "name": "stdout",
     "output_type": "stream",
     "text": [
      "Enter your collegename: pace\n",
      "Enter your year: 2008\n",
      "Your collegename is: pace\n",
      "Your year is: 2008\n"
     ]
    }
   ],
   "source": [
    "# keyword argument\n",
    "def college(cname,year):\n",
    "    print(\"Your collegename is: {}\\nYour year is: {}\".format(cname,year))\n",
    "    return\n",
    "cname = input(\"Enter your collegename: \")\n",
    "year = int(input(\"Enter your year: \"))\n",
    "college(cname,year)"
   ]
  },
  {
   "cell_type": "code",
   "execution_count": 24,
   "id": "ef5af0b8",
   "metadata": {},
   "outputs": [
    {
     "name": "stdout",
     "output_type": "stream",
     "text": [
      "Enter your collegename: pace\n",
      "Enter your year: 2008\n",
      "Your collegename is: pace\n",
      "Your year is: 2008\n"
     ]
    }
   ],
   "source": [
    "def college(c,y):\n",
    "    print(\"Your collegename is: {}\\nYour year is: {}\".format(cname,year))\n",
    "    return\n",
    "# cname = input(\"Enter your collegename: \")\n",
    "# year = int(input(\"Enter your year: \"))\n",
    "college(c=input(\"Enter your collegename: \"),y=int(input(\"Enter your year: \")))"
   ]
  },
  {
   "cell_type": "code",
   "execution_count": 25,
   "id": "764617ee",
   "metadata": {},
   "outputs": [
    {
     "name": "stdout",
     "output_type": "stream",
     "text": [
      "4\n",
      "13 13 14 15 18\n",
      "4 <class 'int'>\n",
      "['13', '13', '14', '15', '18'] <class 'list'>\n"
     ]
    }
   ],
   "source": [
    "# Variable length Arguments:\n",
    "def number(n,p):\n",
    "    print(n,type(n))\n",
    "    print(p,type(p))\n",
    "    return\n",
    "b = int(input())\n",
    "k = input().split()\n",
    "number(b,k)"
   ]
  },
  {
   "cell_type": "code",
   "execution_count": 29,
   "id": "8265bd2b",
   "metadata": {},
   "outputs": [
    {
     "name": "stdout",
     "output_type": "stream",
     "text": [
      "4\n",
      "12 45 67 77\n",
      "4 <class 'int'>\n",
      "(['12', '45', '67', '77'],) <class 'tuple'>\n"
     ]
    }
   ],
   "source": [
    "def number(y,*p):\n",
    "    print(y,type(y))\n",
    "    print(p,type(p))\n",
    "    return\n",
    "b = int(input())\n",
    "k = input().split()\n",
    "number(b,k)"
   ]
  },
  {
   "cell_type": "code",
   "execution_count": 5,
   "id": "4d694084",
   "metadata": {},
   "outputs": [
    {
     "name": "stdout",
     "output_type": "stream",
     "text": [
      "4\n",
      "56\n",
      "7\n",
      "4 <class 'int'>\n",
      "('56', '7') <class 'tuple'>\n",
      "63\n"
     ]
    }
   ],
   "source": [
    "def number(y,*p):\n",
    "    print(y,type(y))\n",
    "    print(p,type(p))\n",
    "    b = []\n",
    "    for i in p:\n",
    "        b.append(int(i))\n",
    "    print(sum(b))    \n",
    "    return\n",
    "b = int(input())\n",
    "k = input()\n",
    "g = input()\n",
    "number(b,k,g)"
   ]
  },
  {
   "cell_type": "code",
   "execution_count": null,
   "id": "d7bc6ac3",
   "metadata": {},
   "outputs": [],
   "source": []
  }
 ],
 "metadata": {
  "kernelspec": {
   "display_name": "Python 3",
   "language": "python",
   "name": "python3"
  },
  "language_info": {
   "codemirror_mode": {
    "name": "ipython",
    "version": 3
   },
   "file_extension": ".py",
   "mimetype": "text/x-python",
   "name": "python",
   "nbconvert_exporter": "python",
   "pygments_lexer": "ipython3",
   "version": "3.9.5"
  }
 },
 "nbformat": 4,
 "nbformat_minor": 5
}

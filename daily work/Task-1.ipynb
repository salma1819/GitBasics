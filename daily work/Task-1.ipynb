{
 "cells": [
  {
   "cell_type": "code",
   "execution_count": null,
   "id": "f71f7f50",
   "metadata": {},
   "outputs": [],
   "source": [
    "\n",
    "first create a folder\n",
    "calsi\n",
    "     add\n",
    "     sub \n",
    "     mul\n",
    "     div\n",
    "        \n",
    "     12 3\n",
    "     d.add(12,3) => given numbers are 12 and 3 and its addition is:15"
   ]
  },
  {
   "cell_type": "code",
   "execution_count": null,
   "id": "4b8ec99a",
   "metadata": {},
   "outputs": [],
   "source": [
    "from ...import...\n",print("Select operations")
print("1.addition")
print("2.subtraction")
print("3.multiplication")
print("4.division")
choice = input("Enter a choice: ")
x = int(input("Enter first number: "))
y = int(input("Enter second number: "))
if choice=='1':
    print(calsi.add(x,y))
elif choice=='2':
    print(calsi.sub(x,y))
elif choice=='3':
    print(calsi.mul(x,y))
elif choice=='4':
    print(calsi.div(x,y))
else:
    print("Invalid choice")
    "m = int(input())\n",
    "print(...add(n,m))"
   ]
  },
  {
   "cell_type": "code",
   "execution_count": null,
   "id": "0e55a1ba",
   "metadata": {},
   "outputs": [],
   "source": [
    "from Data import Text"
   ]
  },
  {
   "cell_type": "code",
   "execution_count": null,
   "id": "203769c9",
   "metadata": {},
   "outputs": [],
   "source": [
    "print(dir(Text))"
   ]
  },
  {
   "cell_type": "code",
   "execution_count": 2,
   "id": "d79d7dfe",
   "metadata": {},
   "outputs": [
    {
     "name": "stdout",
     "output_type": "stream",
     "text": [
      "1.add\n",
      "2.sub\n",
      "3.mul\n",
      "4.div\n",
      "input your choice(1/2/3/4):1\n",
      "enter 1st number:12\n",
      "enter 2nd number:34\n",
      "12 + 34 = 46\n"
     ]
    }
   ],
   "source": [
    "print(\"1.add\")\n",
    "print(\"2.sub\")\n",
    "print(\"3.mul\")\n",
    "print(\"4.div\")\n",
    "choice = input(\"input your choice(1/2/3/4):\")\n",
    "num1=int(input('enter 1st number:'))\n",
    "num2=int(input('enter 2nd number:'))\n",
    "if choice == '1' :\n",
    "    print(num1,\"+\",num2,\"=\",(num1+num2))\n",
    "elif choice == '2':\n",
    "    print(num1,\"-\",num2,\"=\",(num1-num2))\n",
    "elif choice == '3':\n",
    "    print(num1,\"*\",num2,\"=\",(num1*num2))\n",
    "elif choice == '4':\n",
    "    print(num1,\"/\",num2,\"=\",(num1/num2))\n",
    "else:\n",
    "    print(\"Invalid input entered\")"
   ]
  },
  {
   "cell_type": "code",
   "execution_count": null,
   "id": "d8fc2f03",
   "metadata": {},
   "outputs": [],
   "source": []
  }
 ],
 "metadata": {
  "kernelspec": {
   "display_name": "Python 3",
   "language": "python",
   "name": "python3"
  },
  "language_info": {
   "codemirror_mode": {
    "name": "ipython",
    "version": 3
   },
   "file_extension": ".py",
   "mimetype": "text/x-python",
   "name": "python",
   "nbconvert_exporter": "python",
   "pygments_lexer": "ipython3",
   "version": "3.9.5"
  }
 },
 "nbformat": 4,
 "nbformat_minor": 5
}
<<<<<<< HEAD
<<<<<<< HEAD
=======

>>>>>>> 07f0ba3d63c7907b60adc6e8819bb2db281acbce
print("Select operations")
print("1.addition")
print("2.subtraction")
print("3.multiplication")
print("4.division")
choice = input("Enter a choice: ")
x = int(input("Enter first number: "))
y = int(input("Enter second number: "))
if choice=='1':
    print(calsi.add(x,y))
elif choice=='2':
    print(calsi.sub(x,y))
elif choice=='3':
    print(calsi.mul(x,y))
elif choice=='4':
    print(calsi.div(x,y))
else:
<<<<<<< HEAD
    print("Invalid choice")
=======
    print("Invalid choice")
>>>>>>> 07f0ba3d63c7907b60adc6e8819bb2db281acbce
=======
>>>>>>> bce79fc9d1372894c0767dbc53bcab41e2591b27

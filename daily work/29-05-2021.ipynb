{
 "cells": [
  {
   "cell_type": "markdown",
   "id": "549694d5",
   "metadata": {},
   "source": [
    "\n",
    "``````````\n",
    "\n",
    "-> git push => offline => online\n",
    " -> git pull => online => offline\n",
    " -> git clone => online => offline\n",
    " \n",
    " \n",
    " **** git pull is to changes the folder or files from online to offline\n",
    "  \n",
    "  \n",
    "  Example:\n",
    "  ========\n",
    "             Ramu: [github => push]\n",
    "             \n",
    "                  folder-1:\n",
    "                        - sample.c"
   ]
  }
 ],
 "metadata": {
  "kernelspec": {
   "display_name": "Python 3",
   "language": "python",
   "name": "python3"
  },
  "language_info": {
   "codemirror_mode": {
    "name": "ipython",
    "version": 3
   },
   "file_extension": ".py",
   "mimetype": "text/x-python",
   "name": "python",
   "nbconvert_exporter": "python",
   "pygments_lexer": "ipython3",
   "version": "3.9.5"
  }
 },
 "nbformat": 4,
 "nbformat_minor": 5
}

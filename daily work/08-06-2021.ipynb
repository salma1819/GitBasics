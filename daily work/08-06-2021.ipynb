{
 "cells": [
  {
   "cell_type": "markdown",
   "id": "5b1aa358",
   "metadata": {},
   "source": [
    "## OOPS\n",
    "    - Class\n",
    "    - Method\n",
    "    - Object\n",
    "    - Constructor\n",
    "    - Packages and Modules by using class\n",
    "    - Inheritance"
   ]
  },
  {
   "cell_type": "markdown",
   "id": "eb511fac",
   "metadata": {},
   "source": [
    "### Class:\n",
    "      - class is a collection of variables and methods\n",
    "      - keyword => class\n",
    "### Rules to define class:\n",
    "        - should not start with number\n",
    "        - not to use keywords"
   ]
  },
  {
   "cell_type": "code",
   "execution_count": 1,
   "id": "ff882f55",
   "metadata": {},
   "outputs": [],
   "source": [
    "class Hii:\n",
    "    name,rollno = \"APSSDC\",523\n",
    "    def msg():\n",
    "        print(\"hi all,i am from msg()\")"
   ]
  },
  {
   "cell_type": "code",
   "execution_count": 2,
   "id": "c17f8533",
   "metadata": {},
   "outputs": [
    {
     "data": {
      "text/plain": [
       "'APSSDC'"
      ]
     },
     "execution_count": 2,
     "metadata": {},
     "output_type": "execute_result"
    }
   ],
   "source": [
    "Hii.name"
   ]
  },
  {
   "cell_type": "code",
   "execution_count": 3,
   "id": "fe53b734",
   "metadata": {},
   "outputs": [
    {
     "data": {
      "text/plain": [
       "523"
      ]
     },
     "execution_count": 3,
     "metadata": {},
     "output_type": "execute_result"
    }
   ],
   "source": [
    "Hii.rollno"
   ]
  },
  {
   "cell_type": "code",
   "execution_count": 4,
   "id": "ca6a57bd",
   "metadata": {},
   "outputs": [
    {
     "name": "stdout",
     "output_type": "stream",
     "text": [
      "hi all,i am from msg()\n"
     ]
    }
   ],
   "source": [
    "Hii.msg()"
   ]
  },
  {
   "cell_type": "code",
   "execution_count": 6,
   "id": "7a530ce7",
   "metadata": {},
   "outputs": [],
   "source": [
    "obj = Hii"
   ]
  },
  {
   "cell_type": "code",
   "execution_count": 7,
   "id": "c2972e17",
   "metadata": {},
   "outputs": [
    {
     "data": {
      "text/plain": [
       "'APSSDC'"
      ]
     },
     "execution_count": 7,
     "metadata": {},
     "output_type": "execute_result"
    }
   ],
   "source": [
    "obj.name"
   ]
  },
  {
   "cell_type": "code",
   "execution_count": 8,
   "id": "89932e3e",
   "metadata": {},
   "outputs": [
    {
     "data": {
      "text/plain": [
       "523"
      ]
     },
     "execution_count": 8,
     "metadata": {},
     "output_type": "execute_result"
    }
   ],
   "source": [
    "obj.rollno"
   ]
  },
  {
   "cell_type": "code",
   "execution_count": 9,
   "id": "9b49d709",
   "metadata": {},
   "outputs": [
    {
     "name": "stdout",
     "output_type": "stream",
     "text": [
      "hi all,i am from msg()\n"
     ]
    }
   ],
   "source": [
    "obj.msg()"
   ]
  },
  {
   "cell_type": "code",
   "execution_count": 29,
   "id": "1d26c462",
   "metadata": {},
   "outputs": [],
   "source": [
    "class Calci:\n",
    "    def add(n1,n2):\n",
    "        return n1 + n2\n",
    "    def sub(n1,n2):\n",
    "        return n1 - n2\n",
    "    def mul(n1,n2):\n",
    "        return n1 * n2\n",
    "    def div(n1,n2):\n",
    "        return n1 / n2\n",
    "    def fdiv(n1,n2):\n",
    "        return n1 // n2\n",
    "    def exp(n1,n2):\n",
    "        return n1 ** n2"
   ]
  },
  {
   "cell_type": "code",
   "execution_count": 30,
   "id": "0fa31397",
   "metadata": {},
   "outputs": [],
   "source": [
    "cal = Calci"
   ]
  },
  {
   "cell_type": "code",
   "execution_count": 31,
   "id": "fdeeab1b",
   "metadata": {},
   "outputs": [
    {
     "data": {
      "text/plain": [
       "46"
      ]
     },
     "execution_count": 31,
     "metadata": {},
     "output_type": "execute_result"
    }
   ],
   "source": [
    "Calci.add(23,23)"
   ]
  },
  {
   "cell_type": "code",
   "execution_count": 32,
   "id": "399972c8",
   "metadata": {},
   "outputs": [
    {
     "data": {
      "text/plain": [
       "22"
      ]
     },
     "execution_count": 32,
     "metadata": {},
     "output_type": "execute_result"
    }
   ],
   "source": [
    "cal.sub(56,34)"
   ]
  },
  {
   "cell_type": "code",
   "execution_count": 33,
   "id": "ffb52420",
   "metadata": {},
   "outputs": [
    {
     "data": {
      "text/plain": [
       "540"
      ]
     },
     "execution_count": 33,
     "metadata": {},
     "output_type": "execute_result"
    }
   ],
   "source": [
    "cal.mul(12,45)"
   ]
  },
  {
   "cell_type": "code",
   "execution_count": 34,
   "id": "fa65d3f2",
   "metadata": {},
   "outputs": [
    {
     "data": {
      "text/plain": [
       "9.0"
      ]
     },
     "execution_count": 34,
     "metadata": {},
     "output_type": "execute_result"
    }
   ],
   "source": [
    "cal.div(45,5)"
   ]
  },
  {
   "cell_type": "code",
   "execution_count": 35,
   "id": "9d89045f",
   "metadata": {},
   "outputs": [
    {
     "data": {
      "text/plain": [
       "2"
      ]
     },
     "execution_count": 35,
     "metadata": {},
     "output_type": "execute_result"
    }
   ],
   "source": [
    "cal.fdiv(12,6)"
   ]
  },
  {
   "cell_type": "code",
   "execution_count": 37,
   "id": "27476661",
   "metadata": {},
   "outputs": [
    {
     "data": {
      "text/plain": [
       "16"
      ]
     },
     "execution_count": 37,
     "metadata": {},
     "output_type": "execute_result"
    }
   ],
   "source": [
    "cal.exp(2,4)"
   ]
  },
  {
   "cell_type": "code",
   "execution_count": 38,
   "id": "209106d9",
   "metadata": {},
   "outputs": [],
   "source": [
    "cal1 = Calci()"
   ]
  },
  {
   "cell_type": "code",
   "execution_count": 40,
   "id": "833a2092",
   "metadata": {},
   "outputs": [
    {
     "ename": "TypeError",
     "evalue": "add() takes 2 positional arguments but 3 were given",
     "output_type": "error",
     "traceback": [
      "\u001b[1;31m---------------------------------------------------------------------------\u001b[0m",
      "\u001b[1;31mTypeError\u001b[0m                                 Traceback (most recent call last)",
      "\u001b[1;32m<ipython-input-40-458b0446281c>\u001b[0m in \u001b[0;36m<module>\u001b[1;34m\u001b[0m\n\u001b[1;32m----> 1\u001b[1;33m \u001b[0mcal1\u001b[0m\u001b[1;33m.\u001b[0m\u001b[0madd\u001b[0m\u001b[1;33m(\u001b[0m\u001b[1;36m21\u001b[0m\u001b[1;33m,\u001b[0m\u001b[1;36m12\u001b[0m\u001b[1;33m)\u001b[0m\u001b[1;33m\u001b[0m\u001b[1;33m\u001b[0m\u001b[0m\n\u001b[0m",
      "\u001b[1;31mTypeError\u001b[0m: add() takes 2 positional arguments but 3 were given"
     ]
    }
   ],
   "source": [
    "cal1.add(21,12)"
   ]
  },
  {
   "cell_type": "markdown",
   "id": "1ddd30c1",
   "metadata": {},
   "source": [
    "## Constructor:\n",
    "       - It is a special method in python i.e, __init__()\n",
    "       - It will execute while creating object\n",
    "       - we have two different constructor\n",
    "              - default\n",
    "              - parameterised"
   ]
  },
  {
   "cell_type": "code",
   "execution_count": 41,
   "id": "3485768e",
   "metadata": {},
   "outputs": [],
   "source": [
    "class Hello:\n",
    "    def __init__(self):\n",
    "        print(\"Hi i am default constructor\")"
   ]
  },
  {
   "cell_type": "code",
   "execution_count": 44,
   "id": "17c42576",
   "metadata": {},
   "outputs": [
    {
     "name": "stdout",
     "output_type": "stream",
     "text": [
      "Hi i am default constructor\n"
     ]
    }
   ],
   "source": [
    "obj = Hello()"
   ]
  },
  {
   "cell_type": "code",
   "execution_count": 65,
   "id": "69c0de41",
   "metadata": {},
   "outputs": [],
   "source": [
    "class Hello1:\n",
    "    def __init__(fles,val1,val2):\n",
    "        fles.val1 = val1\n",
    "        fles.val2 = val2\n",
    "    def show(fles):\n",
    "        print(fles.val1,fles.val2)\n",
    "        \n",
    "    def add(fles):\n",
    "        return fles.val1 + fles.val2  "
   ]
  },
  {
   "cell_type": "code",
   "execution_count": 66,
   "id": "a2fdb39b",
   "metadata": {},
   "outputs": [],
   "source": [
    "obj = Hello1(14,17)"
   ]
  },
  {
   "cell_type": "code",
   "execution_count": 67,
   "id": "6ad735c9",
   "metadata": {},
   "outputs": [
    {
     "name": "stdout",
     "output_type": "stream",
     "text": [
      "14 17\n"
     ]
    }
   ],
   "source": [
    "obj.show()"
   ]
  },
  {
   "cell_type": "code",
   "execution_count": 68,
   "id": "e3b2e315",
   "metadata": {},
   "outputs": [
    {
     "data": {
      "text/plain": [
       "31"
      ]
     },
     "execution_count": 68,
     "metadata": {},
     "output_type": "execute_result"
    }
   ],
   "source": [
    "obj.add()"
   ]
  },
  {
   "cell_type": "code",
   "execution_count": 72,
   "id": "10a3b99d",
   "metadata": {},
   "outputs": [],
   "source": [
    "class Hello1:\n",
    "    def __init__(fles,val1,val2):\n",
    "        fles.val1 = val1\n",
    "        fles.val2 = val2\n",
    "    def show(fles):\n",
    "        print(fles.val1,fles.val2,fles.val3,fles.val4)\n",
    "        \n",
    "    def add(fles):\n",
    "        return fles.val1 + fles.val2  \n",
    "    \n",
    "    def profile(fles,val3,val4):\n",
    "        fles.val3 = val3\n",
    "        fles.val4 = val4"
   ]
  },
  {
   "cell_type": "code",
   "execution_count": 73,
   "id": "cc3d7f26",
   "metadata": {},
   "outputs": [],
   "source": [
    "obj = Hello1(56,47)"
   ]
  },
  {
   "cell_type": "code",
   "execution_count": 74,
   "id": "4abcca68",
   "metadata": {},
   "outputs": [
    {
     "ename": "AttributeError",
     "evalue": "'Hello1' object has no attribute 'val3'",
     "output_type": "error",
     "traceback": [
      "\u001b[1;31m---------------------------------------------------------------------------\u001b[0m",
      "\u001b[1;31mAttributeError\u001b[0m                            Traceback (most recent call last)",
      "\u001b[1;32m<ipython-input-74-3a5b94642195>\u001b[0m in \u001b[0;36m<module>\u001b[1;34m\u001b[0m\n\u001b[1;32m----> 1\u001b[1;33m \u001b[0mobj\u001b[0m\u001b[1;33m.\u001b[0m\u001b[0mshow\u001b[0m\u001b[1;33m(\u001b[0m\u001b[1;33m)\u001b[0m\u001b[1;33m\u001b[0m\u001b[1;33m\u001b[0m\u001b[0m\n\u001b[0m",
      "\u001b[1;32m<ipython-input-72-7ccfc04d1e1f>\u001b[0m in \u001b[0;36mshow\u001b[1;34m(fles)\u001b[0m\n\u001b[0;32m      4\u001b[0m         \u001b[0mfles\u001b[0m\u001b[1;33m.\u001b[0m\u001b[0mval2\u001b[0m \u001b[1;33m=\u001b[0m \u001b[0mval2\u001b[0m\u001b[1;33m\u001b[0m\u001b[1;33m\u001b[0m\u001b[0m\n\u001b[0;32m      5\u001b[0m     \u001b[1;32mdef\u001b[0m \u001b[0mshow\u001b[0m\u001b[1;33m(\u001b[0m\u001b[0mfles\u001b[0m\u001b[1;33m)\u001b[0m\u001b[1;33m:\u001b[0m\u001b[1;33m\u001b[0m\u001b[1;33m\u001b[0m\u001b[0m\n\u001b[1;32m----> 6\u001b[1;33m         \u001b[0mprint\u001b[0m\u001b[1;33m(\u001b[0m\u001b[0mfles\u001b[0m\u001b[1;33m.\u001b[0m\u001b[0mval1\u001b[0m\u001b[1;33m,\u001b[0m\u001b[0mfles\u001b[0m\u001b[1;33m.\u001b[0m\u001b[0mval2\u001b[0m\u001b[1;33m,\u001b[0m\u001b[0mfles\u001b[0m\u001b[1;33m.\u001b[0m\u001b[0mval3\u001b[0m\u001b[1;33m,\u001b[0m\u001b[0mfles\u001b[0m\u001b[1;33m.\u001b[0m\u001b[0mval4\u001b[0m\u001b[1;33m)\u001b[0m\u001b[1;33m\u001b[0m\u001b[1;33m\u001b[0m\u001b[0m\n\u001b[0m\u001b[0;32m      7\u001b[0m \u001b[1;33m\u001b[0m\u001b[0m\n\u001b[0;32m      8\u001b[0m     \u001b[1;32mdef\u001b[0m \u001b[0madd\u001b[0m\u001b[1;33m(\u001b[0m\u001b[0mfles\u001b[0m\u001b[1;33m)\u001b[0m\u001b[1;33m:\u001b[0m\u001b[1;33m\u001b[0m\u001b[1;33m\u001b[0m\u001b[0m\n",
      "\u001b[1;31mAttributeError\u001b[0m: 'Hello1' object has no attribute 'val3'"
     ]
    }
   ],
   "source": [
    "obj.show()"
   ]
  },
  {
   "cell_type": "code",
   "execution_count": 75,
   "id": "b44541df",
   "metadata": {},
   "outputs": [],
   "source": [
    "obj.profile(63,96)"
   ]
  },
  {
   "cell_type": "code",
   "execution_count": 76,
   "id": "e6130f63",
   "metadata": {},
   "outputs": [
    {
     "name": "stdout",
     "output_type": "stream",
     "text": [
      "56 47 63 96\n"
     ]
    }
   ],
   "source": [
    "obj.show()"
   ]
  },
  {
   "cell_type": "code",
   "execution_count": 77,
   "id": "4e2944ea",
   "metadata": {},
   "outputs": [],
   "source": [
    "from package1 import mylogics"
   ]
  },
  {
   "cell_type": "code",
   "execution_count": 78,
   "id": "9a82dc1f",
   "metadata": {},
   "outputs": [
    {
     "name": "stdout",
     "output_type": "stream",
     "text": [
      "['Calsi', 'MyMath', '__builtins__', '__cached__', '__doc__', '__file__', '__loader__', '__name__', '__package__', '__spec__']\n"
     ]
    }
   ],
   "source": [
    "print(dir(mylogics))"
   ]
  },
  {
   "cell_type": "code",
   "execution_count": 79,
   "id": "d322a1e9",
   "metadata": {},
   "outputs": [
    {
     "data": {
      "text/plain": [
       "True"
      ]
     },
     "execution_count": 79,
     "metadata": {},
     "output_type": "execute_result"
    }
   ],
   "source": [
    "mylogics.MyMath.isEven(52)"
   ]
  },
  {
   "cell_type": "code",
   "execution_count": 80,
   "id": "f345f3f1",
   "metadata": {},
   "outputs": [
    {
     "data": {
      "text/plain": [
       "23"
      ]
     },
     "execution_count": 80,
     "metadata": {},
     "output_type": "execute_result"
    }
   ],
   "source": [
    "mylogics.Calsi.add(12,11)"
   ]
  },
  {
   "cell_type": "code",
   "execution_count": 81,
   "id": "da3a4bb2",
   "metadata": {},
   "outputs": [],
   "source": [
    "from package1.mylogics import MyMath"
   ]
  },
  {
   "cell_type": "code",
   "execution_count": 82,
   "id": "1ca04749",
   "metadata": {},
   "outputs": [],
   "source": [
    "obj = MyMath"
   ]
  },
  {
   "cell_type": "code",
   "execution_count": 83,
   "id": "d953aca9",
   "metadata": {},
   "outputs": [
    {
     "data": {
      "text/plain": [
       "True"
      ]
     },
     "execution_count": 83,
     "metadata": {},
     "output_type": "execute_result"
    }
   ],
   "source": [
    "obj.isPrime(47)"
   ]
  },
  {
   "cell_type": "code",
   "execution_count": 84,
   "id": "24d2a95b",
   "metadata": {},
   "outputs": [],
   "source": [
    "from package1.mylogics import Calsi"
   ]
  },
  {
   "cell_type": "code",
   "execution_count": 85,
   "id": "f39aea83",
   "metadata": {},
   "outputs": [],
   "source": [
    "obj = Calsi"
   ]
  },
  {
   "cell_type": "code",
   "execution_count": 86,
   "id": "b5b7c001",
   "metadata": {},
   "outputs": [
    {
     "data": {
      "text/plain": [
       "238"
      ]
     },
     "execution_count": 86,
     "metadata": {},
     "output_type": "execute_result"
    }
   ],
   "source": [
    "obj.mul(14,17)"
   ]
  },
  {
   "cell_type": "markdown",
   "id": "bbb31d91",
   "metadata": {},
   "source": [
    "### Inheritance:\n",
    "      - Inheriting properties from parent to child\n",
    "      - Aquring properties from one class to another class\n",
    "      - Types of Inheritance\n",
    "            - single\n",
    "            - multiple\n",
    "            - multilevel\n",
    "            - hireachal\n",
    "            - hybrid"
   ]
  },
  {
   "cell_type": "code",
   "execution_count": 87,
   "id": "f5f327b1",
   "metadata": {},
   "outputs": [],
   "source": [
    "class Parent:\n",
    "    name = \"Parent\"\n",
    "    value = 500\n",
    "    def display():\n",
    "        print(\"I am from parent class\")"
   ]
  },
  {
   "cell_type": "code",
   "execution_count": 90,
   "id": "6249c32d",
   "metadata": {},
   "outputs": [],
   "source": [
    "class Child(Parent):\n",
    "    cname = \"Child\"\n",
    "    age = 20\n",
    "    def show():\n",
    "        print(\"I am fron child class\")"
   ]
  },
  {
   "cell_type": "code",
   "execution_count": 91,
   "id": "61acab8e",
   "metadata": {},
   "outputs": [],
   "source": [
    "obj = Child"
   ]
  },
  {
   "cell_type": "code",
   "execution_count": 92,
   "id": "a8ba8d44",
   "metadata": {},
   "outputs": [
    {
     "data": {
      "text/plain": [
       "'Parent'"
      ]
     },
     "execution_count": 92,
     "metadata": {},
     "output_type": "execute_result"
    }
   ],
   "source": [
    "obj.name"
   ]
  },
  {
   "cell_type": "code",
   "execution_count": 93,
   "id": "a727cee2",
   "metadata": {},
   "outputs": [
    {
     "name": "stdout",
     "output_type": "stream",
     "text": [
      "I am from parent class\n"
     ]
    }
   ],
   "source": [
    "obj.display()"
   ]
  },
  {
   "cell_type": "code",
   "execution_count": 94,
   "id": "659e1665",
   "metadata": {},
   "outputs": [
    {
     "data": {
      "text/plain": [
       "20"
      ]
     },
     "execution_count": 94,
     "metadata": {},
     "output_type": "execute_result"
    }
   ],
   "source": [
    "obj.age"
   ]
  },
  {
   "cell_type": "code",
   "execution_count": null,
   "id": "465b6804",
   "metadata": {},
   "outputs": [],
   "source": []
  }
 ],
 "metadata": {
  "kernelspec": {
   "display_name": "Python 3",
   "language": "python",
   "name": "python3"
  },
  "language_info": {
   "codemirror_mode": {
    "name": "ipython",
    "version": 3
   },
   "file_extension": ".py",
   "mimetype": "text/x-python",
   "name": "python",
   "nbconvert_exporter": "python",
   "pygments_lexer": "ipython3",
   "version": "3.9.5"
  }
 },
 "nbformat": 4,
 "nbformat_minor": 5
}

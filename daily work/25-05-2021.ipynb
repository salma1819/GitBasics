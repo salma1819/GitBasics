{
 "cells": [
  {
   "cell_type": "markdown",
   "id": "102626b9",
   "metadata": {},
   "source": [
    "# Markdown Format"
   ]
  },
  {
   "cell_type": "markdown",
   "id": "fd4c858a",
   "metadata": {},
   "source": [
    "# Heading-1 \n",
    "## Heading-2\n",
    "### Heading-3\n",
    "#### Heading-4\n",
    "##### Heading-5\n",
    "###### Heading-6\n",
    "####### Heading-7"
   ]
  },
  {
   "cell_type": "markdown",
   "id": "612f9c36",
   "metadata": {},
   "source": [
    "# Python"
   ]
  },
  {
   "cell_type": "markdown",
   "id": "8210acdd",
   "metadata": {},
   "source": [
    "# Python Installations,Execution ways,Jupyter installation"
   ]
  },
  {
   "cell_type": "code",
   "execution_count": null,
   "id": "d8f22535",
   "metadata": {},
   "outputs": [],
   "source": [
    "## Variable:\n",
    "    - To store a value\n",
    "    -To access the value in different function,methods\n",
    "    - To change the value "
   ]
  },
  {
   "cell_type": "code",
   "execution_count": 12,
   "id": "ce71aac9",
   "metadata": {},
   "outputs": [],
   "source": [
    " a = 10"
   ]
  },
  {
   "cell_type": "code",
   "execution_count": 13,
   "id": "f647fd1b",
   "metadata": {},
   "outputs": [
    {
     "data": {
      "text/plain": [
       "10"
      ]
     },
     "execution_count": 13,
     "metadata": {},
     "output_type": "execute_result"
    }
   ],
   "source": [
    "a"
   ]
  },
  {
   "cell_type": "code",
   "execution_count": 10,
   "id": "fcb37580",
   "metadata": {},
   "outputs": [],
   "source": [
    "b = 20"
   ]
  },
  {
   "cell_type": "code",
   "execution_count": 11,
   "id": "6e90aad7",
   "metadata": {},
   "outputs": [
    {
     "data": {
      "text/plain": [
       "20"
      ]
     },
     "execution_count": 11,
     "metadata": {},
     "output_type": "execute_result"
    }
   ],
   "source": [
    "b"
   ]
  },
  {
   "cell_type": "code",
   "execution_count": 3,
   "id": "0b1d2f66",
   "metadata": {},
   "outputs": [
    {
     "data": {
      "text/plain": [
       "'salma'"
      ]
     },
     "execution_count": 3,
     "metadata": {},
     "output_type": "execute_result"
    }
   ],
   "source": [
    "a = 200\n",
    "b = 'salma'\n",
    "a\n",
    "b"
   ]
  },
  {
   "cell_type": "code",
   "execution_count": 8,
   "id": "a22ff490",
   "metadata": {},
   "outputs": [
    {
     "name": "stdout",
     "output_type": "stream",
     "text": [
      "200 salma\n",
      "salma 200\n"
     ]
    }
   ],
   "source": [
    "print(a,b)\n",
    "print(b,a)"
   ]
  },
  {
   "cell_type": "code",
   "execution_count": 5,
   "id": "c76d9150",
   "metadata": {},
   "outputs": [
    {
     "data": {
      "text/plain": [
       "(200, 'salma')"
      ]
     },
     "execution_count": 5,
     "metadata": {},
     "output_type": "execute_result"
    }
   ],
   "source": [
    "a,b"
   ]
  },
  {
   "cell_type": "markdown",
   "id": "4e1422b1",
   "metadata": {},
   "source": [
    "## Data Types\n",
    "     - Int -> only numbers\n",
    "     - Float -> only decimal numbers\n",
    "     -String -> only characters"
   ]
  },
  {
   "cell_type": "markdown",
   "id": "6a539acf",
   "metadata": {},
   "source": [
    "c = 23.000\n",
    "t ='salma'"
   ]
  },
  {
   "cell_type": "code",
   "execution_count": 15,
   "id": "7c3ebdc2",
   "metadata": {},
   "outputs": [],
   "source": [
    "c,t = 23.000,'salma'"
   ]
  },
  {
   "cell_type": "code",
   "execution_count": 16,
   "id": "e6e8b715",
   "metadata": {},
   "outputs": [
    {
     "name": "stdout",
     "output_type": "stream",
     "text": [
      "23.0 salma\n"
     ]
    }
   ],
   "source": [
    "print(c,t)"
   ]
  },
  {
   "cell_type": "markdown",
   "id": "baa99b3d",
   "metadata": {},
   "source": [
    "## Type:\n",
    "     - To know the data type for that value\n",
    "     -type(variablename,datastructure)"
   ]
  },
  {
   "cell_type": "code",
   "execution_count": 17,
   "id": "0b96cd9e",
   "metadata": {},
   "outputs": [
    {
     "data": {
      "text/plain": [
       "float"
      ]
     },
     "execution_count": 17,
     "metadata": {},
     "output_type": "execute_result"
    }
   ],
   "source": [
    "type(c)"
   ]
  },
  {
   "cell_type": "code",
   "execution_count": 18,
   "id": "78763785",
   "metadata": {},
   "outputs": [
    {
     "data": {
      "text/plain": [
       "'12.88'"
      ]
     },
     "execution_count": 18,
     "metadata": {},
     "output_type": "execute_result"
    }
   ],
   "source": [
    "g = '12.88'\n",
    "g"
   ]
  },
  {
   "cell_type": "code",
   "execution_count": 19,
   "id": "81e2efa1",
   "metadata": {},
   "outputs": [
    {
     "name": "stdout",
     "output_type": "stream",
     "text": [
      "12.88\n"
     ]
    }
   ],
   "source": [
    "print(g)"
   ]
  },
  {
   "cell_type": "code",
   "execution_count": 20,
   "id": "0d452cc9",
   "metadata": {},
   "outputs": [
    {
     "data": {
      "text/plain": [
       "str"
      ]
     },
     "execution_count": 20,
     "metadata": {},
     "output_type": "execute_result"
    }
   ],
   "source": [
    "type(g)"
   ]
  },
  {
   "cell_type": "code",
   "execution_count": 21,
   "id": "e9413feb",
   "metadata": {},
   "outputs": [
    {
     "name": "stdout",
     "output_type": "stream",
     "text": [
      "<class 'str'>\n"
     ]
    }
   ],
   "source": [
    "print(type(g))"
   ]
  },
  {
   "cell_type": "code",
   "execution_count": 22,
   "id": "59d4f1e6",
   "metadata": {},
   "outputs": [
    {
     "name": "stdout",
     "output_type": "stream",
     "text": [
      "<class 'float'>\n"
     ]
    }
   ],
   "source": [
    "print(type(c))"
   ]
  },
  {
   "cell_type": "code",
   "execution_count": 23,
   "id": "ecaff2ee",
   "metadata": {},
   "outputs": [
    {
     "name": "stdout",
     "output_type": "stream",
     "text": [
      "<class 'int'>\n"
     ]
    }
   ],
   "source": [
    "print(type(a))"
   ]
  },
  {
   "cell_type": "code",
   "execution_count": 24,
   "id": "2a3d62ef",
   "metadata": {},
   "outputs": [
    {
     "name": "stdout",
     "output_type": "stream",
     "text": [
      "<class 'int'> <class 'int'> <class 'str'>\n"
     ]
    }
   ],
   "source": [
    "print(type(a),type(b),type(g))"
   ]
  },
  {
   "cell_type": "code",
   "execution_count": 26,
   "id": "ad43957d",
   "metadata": {},
   "outputs": [
    {
     "data": {
      "text/plain": [
       "(float, int, str)"
      ]
     },
     "execution_count": 26,
     "metadata": {},
     "output_type": "execute_result"
    }
   ],
   "source": [
    "type(c),type(a),type(g)"
   ]
  },
  {
   "cell_type": "code",
   "execution_count": 27,
   "id": "be327afb",
   "metadata": {},
   "outputs": [
    {
     "data": {
      "text/plain": [
       "(10, '12.88', 23.0)"
      ]
     },
     "execution_count": 27,
     "metadata": {},
     "output_type": "execute_result"
    }
   ],
   "source": [
    "a,g,c"
   ]
  },
  {
   "cell_type": "markdown",
   "id": "749a8e5a",
   "metadata": {},
   "source": [
    "## Input():\n",
    "    - by default it will be considered as a string values\n",
    "    -print(),read()"
   ]
  },
  {
   "cell_type": "code",
   "execution_count": 5,
   "id": "c6443f46",
   "metadata": {},
   "outputs": [
    {
     "name": "stdout",
     "output_type": "stream",
     "text": [
      "120\n",
      "120 <class 'str'>\n"
     ]
    }
   ],
   "source": [
    "a = input()\n",
    "print(a,type(a))"
   ]
  },
  {
   "cell_type": "code",
   "execution_count": 6,
   "id": "cef05acf",
   "metadata": {},
   "outputs": [
    {
     "name": "stdout",
     "output_type": "stream",
     "text": [
      "Enter a value: 20\n",
      "20 <class 'str'>\n"
     ]
    }
   ],
   "source": [
    "t = input(\"Enter a value: \")\n",
    "print(t,type(t))"
   ]
  },
  {
   "cell_type": "code",
   "execution_count": 7,
   "id": "e240b594",
   "metadata": {},
   "outputs": [
    {
     "name": "stdout",
     "output_type": "stream",
     "text": [
      "Enter a value: salma\n",
      "salma <class 'str'>\n"
     ]
    }
   ],
   "source": [
    "t = input(\"Enter a value: \")\n",
    "print(t,type(t))"
   ]
  },
  {
   "cell_type": "markdown",
   "id": "0cd6c800",
   "metadata": {},
   "source": [
    "## TypeCasting\n",
    "    - converting one data into another data type\n",
    "    - int(),str(),float()"
   ]
  },
  {
   "cell_type": "code",
   "execution_count": 10,
   "id": "c6d20ed8",
   "metadata": {},
   "outputs": [
    {
     "name": "stdout",
     "output_type": "stream",
     "text": [
      "Enter only integer values: 25\n",
      "25 <class 'int'>\n"
     ]
    }
   ],
   "source": [
    "p = int(input(\"Enter only integer values: \"))\n",
    "print(p,type(p))"
   ]
  },
  {
   "cell_type": "code",
   "execution_count": 12,
   "id": "166c18ff",
   "metadata": {},
   "outputs": [
    {
     "name": "stdout",
     "output_type": "stream",
     "text": [
      "Enter only integer values: 25.55\n",
      "25.55 <class 'float'>\n"
     ]
    }
   ],
   "source": [
    "m = float(input(\"Enter only integer values: \"))\n",
    "print(m,type(m))"
   ]
  },
  {
   "cell_type": "code",
   "execution_count": 13,
   "id": "21bdf67c",
   "metadata": {},
   "outputs": [
    {
     "name": "stdout",
     "output_type": "stream",
     "text": [
      "Enter only integer values: salma\n",
      "salma <class 'str'>\n"
     ]
    }
   ],
   "source": [
    "p = str(input(\"Enter only integer values: \"))\n",
    "print(p,type(p))"
   ]
  },
  {
   "cell_type": "code",
   "execution_count": 1,
   "id": "088eb9b7",
   "metadata": {
    "collapsed": true
   },
   "outputs": [
    {
     "ename": "SyntaxError",
     "evalue": "invalid syntax (<ipython-input-1-a45ebe0c5c0b>, line 1)",
     "output_type": "error",
     "traceback": [
      "\u001b[1;36m  File \u001b[1;32m\"<ipython-input-1-a45ebe0c5c0b>\"\u001b[1;36m, line \u001b[1;32m1\u001b[0m\n\u001b[1;33m    Input:\u001b[0m\n\u001b[1;37m          ^\u001b[0m\n\u001b[1;31mSyntaxError\u001b[0m\u001b[1;31m:\u001b[0m invalid syntax\n"
     ]
    }
   ],
   "source": [
    "Input:\n",
    "    Enter integer value: 48\n",
    "    Enter float value:45.0218\n",
    "Output:\n",
    "    conversion of int value is: 48.0\n",
    "    conversion of float value is:45\n",
    "    both cases in string is: '48' '45.0218'   "
   ]
  },
  {
   "cell_type": "code",
   "execution_count": 1,
   "id": "ee473b0e",
   "metadata": {},
   "outputs": [
    {
     "name": "stdout",
     "output_type": "stream",
     "text": [
      "Enter integer value: 45\n",
      "Enter float values: 48.0218\n",
      "Conversion of int value is:  45.0\n",
      "Conversion of float value is: 48\n",
      "Both cases in string is:'45' ''48.0218'\n"
     ]
    }
   ],
   "source": [
    "q = int(input(\"Enter integer value: \"))\n",
    "k = float(input(\"Enter float values: \"))\n",
    "print(\"Conversion of int value is: \",float(q))\n",
    "print(\"Conversion of float value is:\",int(k))\n",
    "print(\"Both cases in string is:\"+\"'\"+str(q)+\"'\"+\" \"+\"'\"+\"'\"+str(k)+\"'\")"
   ]
  },
  {
   "cell_type": "code",
   "execution_count": null,
   "id": "82d3169f",
   "metadata": {},
   "outputs": [],
   "source": []
  }
 ],
 "metadata": {
  "kernelspec": {
   "display_name": "Python 3",
   "language": "python",
   "name": "python3"
  },
  "language_info": {
   "codemirror_mode": {
    "name": "ipython",
    "version": 3
   },
   "file_extension": ".py",
   "mimetype": "text/x-python",
   "name": "python",
   "nbconvert_exporter": "python",
   "pygments_lexer": "ipython3",
   "version": "3.9.5"
  }
 },
 "nbformat": 4,
 "nbformat_minor": 5
}
